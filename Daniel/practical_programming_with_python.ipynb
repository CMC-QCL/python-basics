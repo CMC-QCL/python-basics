{
  "nbformat": 4,
  "nbformat_minor": 0,
  "metadata": {
    "colab": {
      "provenance": [],
      "authorship_tag": "ABX9TyNDpMy8Wi0AKK9TPwAhvJIj",
      "include_colab_link": true
    },
    "kernelspec": {
      "name": "python3",
      "display_name": "Python 3"
    },
    "language_info": {
      "name": "python"
    }
  },
  "cells": [
    {
      "cell_type": "markdown",
      "metadata": {
        "id": "view-in-github",
        "colab_type": "text"
      },
      "source": [
        "<a href=\"https://colab.research.google.com/github/CMC-QCL/python-basics/blob/main/Daniel/practical_programming_with_python.ipynb\" target=\"_parent\"><img src=\"https://colab.research.google.com/assets/colab-badge.svg\" alt=\"Open In Colab\"/></a>"
      ]
    },
    {
      "cell_type": "markdown",
      "source": [
        "# Practical Programming with Python\n",
        "Welcome to the QCL Workshop Practical **Programming with Python**.\n",
        "\n",
        "\n",
        "![image.png](data:image/png;base64,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)\n",
        "\n",
        "We will use collab to execute code in a virtual environment and by the end of this workshop you will be able to:\n",
        "\n",
        "* Create and use functions and methods\n",
        "* Create lists and dictionaries and access its elements\n",
        "* Read error messages\n",
        "* Use for loops\n",
        "* Use conditional statements (if, elif and else)\n",
        "* Write small practival scripts"
      ],
      "metadata": {
        "id": "pGBbFQ0vreA3"
      }
    },
    {
      "cell_type": "markdown",
      "source": [
        "##Exercise for today\n",
        "Create a list of items for breakfast!\n",
        "\n",
        "##Pre-requisites\n",
        "- This is a Level 1 Workshop. No programming experience is required, but some familiarity with another programming language will be useful.\n",
        "- Copy the notebook to your local drive\n",
        "- Deactivate use of AI\n",
        "---"
      ],
      "metadata": {
        "id": "OpgciOF2vDGk"
      }
    },
    {
      "cell_type": "markdown",
      "source": [
        "\n",
        "By The end of the workshop we should be able to create functions like:\n",
        "\n"
      ],
      "metadata": {
        "id": "OXR1FD99C8Sn"
      }
    },
    {
      "cell_type": "code",
      "source": [
        "# Include budget\n",
        "def groceries(item_dictionary, budget):\n",
        "    # Make sure we have a budget\n",
        "    if budget <= 0:\n",
        "        print(\"Budget needs to be a positive number.\")\n",
        "        return\n",
        "\n",
        "    # Start our grocery list\n",
        "    final_list = \"\\nGrocery list:\\n\\n\"\n",
        "    too_expensive = \"\\n\"\n",
        "\n",
        "    # Iterate over each item\n",
        "    for key in item_dictionary:\n",
        "        # Get item's information\n",
        "        item_name = key\n",
        "        value = item_dictionary[key]\n",
        "        item_amount = value[0]\n",
        "        item_price = value[1]\n",
        "        item_total = item_amount * item_price\n",
        "\n",
        "        # Check if we can buy it\n",
        "        if item_total <= budget:\n",
        "            # Add it to the grocery list\n",
        "            final_list += f\"{item_amount} {item_name} for {item_total} USD\\n\"\n",
        "            budget -= item_total\n",
        "\n",
        "        # We cannot buy any of it\n",
        "        else:\n",
        "            too_expensive += f\"There's not enough budget for {item_amount} {item_name}.\\n\"\n",
        "\n",
        "    # Print our grocery list\n",
        "    print(final_list + too_expensive)\n",
        "\n",
        "\n",
        "# Crate the dictionary and call the function with a budget\n",
        "my_dictionary = {'milk': [2, 3.5], 'eggs': [12, 0.44], 'apples': [9, 1]}\n",
        "budget = float(input(\"What is your budget? \"))\n",
        "groceries(my_dictionary, budget)"
      ],
      "metadata": {
        "id": "oLJwwtpXC1G6"
      },
      "execution_count": null,
      "outputs": []
    },
    {
      "cell_type": "markdown",
      "source": [
        "___\n",
        "# Python\n",
        "\n",
        "Python is one of the most popular programming languages. Some of the characteristics that make Python a great programming language are:\n",
        "\n",
        "* It is open source and has a large community of developers.\n",
        "* Has a simple and easy to read syntax (beginner-friendly and maintainable code).\n",
        "* It is an interpreted language.\n",
        "* It is powerful enough to build robust and efficient applications.\n",
        "\n",
        "Some of the things you can do with Python are:\n",
        "\n",
        "* Create Graphical User Interfaces (GUIs)\n",
        "* Web development\n",
        "* Data Analysis & Machine Learning\n",
        "* Automation of repetitive tasks (renaming files, cleaning data, web scraping)\n",
        "\n",
        "Fun fact: Python was named in honor to the British comedy group, Monty Python.\n",
        "\n",
        "![](https://bit.ly/monty-py)"
      ],
      "metadata": {
        "id": "ntilbfPIuP4_"
      }
    },
    {
      "cell_type": "markdown",
      "source": [
        "## Intro to Collab\n",
        "\n",
        "Colab is a platform hosting a Jupyter Notebook service that requires no setup to use and provides free access to computing resources, including GPUs and TPUs. Colab is especially well suited to machine learning, data science, and education.\n",
        "\n",
        "This document lives in a session executed on a server and memorizes the sequence of code executed during the session.\n",
        "\n",
        "We can create pieces of softare, and execute them on a remote machine.\n",
        "\n",
        "It consists of text cells and code cells...\n"
      ],
      "metadata": {
        "id": "VgP2t4fNw_IW"
      }
    },
    {
      "cell_type": "markdown",
      "source": [
        "##This is a text cell\n",
        "It uses markdown formatting"
      ],
      "metadata": {
        "id": "zj1lVplexfaw"
      }
    },
    {
      "cell_type": "code",
      "source": [
        "This is a code cell, it is expecting python formatted code"
      ],
      "metadata": {
        "id": "jT9urG3ix0lU"
      },
      "execution_count": null,
      "outputs": []
    },
    {
      "cell_type": "code",
      "source": [
        "# Comments are lines in the code that are not executed, they work as a reference for the coder and reader\n",
        "# Type any value\n",
        "7"
      ],
      "metadata": {
        "id": "EEJvAg_T2ADC"
      },
      "execution_count": null,
      "outputs": []
    },
    {
      "cell_type": "markdown",
      "source": [
        "There are other methos to execute Jupyter notebooks or execute code using an Integrated Development Environment (IDE)"
      ],
      "metadata": {
        "id": "KnpaAQd17LI4"
      }
    },
    {
      "cell_type": "markdown",
      "source": [
        "## Variables\n",
        "Are names for values in your computer’s memory that you want to use in a program.\n",
        "\n",
        "Python variable names have some rules:\n",
        "\n",
        "* They can contain only these characters:\n",
        "\n",
        "  * Lowercase letters (a through z)\n",
        "\n",
        "  * Uppercase letters (A through Z)\n",
        "\n",
        "  * Digits (0 through 9)\n",
        "\n",
        "  * Underscore (_)\n",
        "\n",
        "* They are case-sensitive: thing, Thing, and THING are different names.\n",
        "\n",
        "* They must begin with a letter or an underscore, not a digit.\n",
        "\n",
        "* Names that begin with an underscore are treated specially.\n",
        "\n",
        "* They cannot be one of Python’s reserved words (also known as keywords).\n",
        "\n"
      ],
      "metadata": {
        "id": "v4SfkN6R5jec"
      }
    },
    {
      "cell_type": "markdown",
      "source": [
        "****The notebook executes code sequentially*"
      ],
      "metadata": {
        "id": "pcElOZMO5_AJ"
      }
    },
    {
      "cell_type": "code",
      "source": [
        "# Call your first variable\n",
        "my_first_variable"
      ],
      "metadata": {
        "id": "hDEF0Q2382Dy"
      },
      "execution_count": null,
      "outputs": []
    },
    {
      "cell_type": "code",
      "source": [
        "# Assign a value to a variable\n",
        "my_first_variable = 7"
      ],
      "metadata": {
        "id": "gVB8nmuL38n8"
      },
      "execution_count": null,
      "outputs": []
    },
    {
      "cell_type": "code",
      "source": [
        "# Call your variable again\n",
        "my_first_variable"
      ],
      "metadata": {
        "id": "h7dLOM1C9J77"
      },
      "execution_count": null,
      "outputs": []
    },
    {
      "cell_type": "markdown",
      "source": [
        "## Operators\n",
        "We have different operators that work differently on different types of variables\n",
        "\n",
        "Mathematical operators:\n",
        "```\n",
        "  +\n",
        "  -\n",
        "  /\n",
        "  *\n",
        "  //  Integer Division (Truncating division)\n",
        "  %  Modulus (remainder)\n",
        "```"
      ],
      "metadata": {
        "id": "6y1hv-bXvKtr"
      }
    },
    {
      "cell_type": "code",
      "source": [
        "# Execute mathematical operations over numbers\n",
        "8.33 + 3"
      ],
      "metadata": {
        "id": "CU_bZWJy5EaW"
      },
      "execution_count": null,
      "outputs": []
    },
    {
      "cell_type": "code",
      "source": [
        "# We can also perform operations over pre-defined variables\n",
        "result_variable = my_first_variable + 3"
      ],
      "metadata": {
        "id": "Pn4G8o8c5KcR"
      },
      "execution_count": null,
      "outputs": []
    },
    {
      "cell_type": "code",
      "source": [
        "#Display the value of the resulting variable\n",
        "result_variable"
      ],
      "metadata": {
        "id": "eh-r5yzMgAuj"
      },
      "execution_count": null,
      "outputs": []
    },
    {
      "cell_type": "markdown",
      "source": [
        "## Python data are object\n",
        "Computers store everything as bits, but Python helps us organize those bits into meaningful data types like numbers, text, or more complex objects. Instead of dealing directly with raw memory, Python wraps data values in objects that occupy memory “shelves” like boxes of different sizes. This system lets programs keep track of both where data is stored and what type it is, making it easier to work with values like integers, strings, or functions without worrying about the underlying bits.\n",
        "\n",
        "In Python, an object is a chunk of data that contains at least the following:\n",
        "\n",
        "* A type that defines what it can do\n",
        "\n",
        "* A unique id to distinguish it from other objects\n",
        "\n",
        "* A value consistent with its type\n",
        "\n",
        "* A reference count that tracks how often this object is used\n",
        "\n",
        "*How do we interact with those objects?*"
      ],
      "metadata": {
        "id": "lUcc8isYrWox"
      }
    },
    {
      "cell_type": "markdown",
      "source": [
        "## Functions\n",
        "In Python, a function is a named, self-contained block of code int the form of `function_name(arguments)` designed to perform a specific task. Functions are fundamental to organizing and reusing code, concepts related to modularity and readability in programs.\n",
        "Python includes a variety of built-in functions like `id()` and `type()`"
      ],
      "metadata": {
        "id": "jzy4WoP58CzR"
      }
    },
    {
      "cell_type": "code",
      "source": [
        "# use the built-in function print() to display the value of a variable\n",
        "print(my_first_variable)"
      ],
      "metadata": {
        "id": "BBbktKzxGytL"
      },
      "execution_count": null,
      "outputs": []
    },
    {
      "cell_type": "code",
      "source": [
        "# Check the space in memory (id)\n",
        "id(my_first_variable)"
      ],
      "metadata": {
        "id": "0cv9sZEL4E-V"
      },
      "execution_count": null,
      "outputs": []
    },
    {
      "cell_type": "markdown",
      "source": [
        "*We can have objects that can be replaced in the same memory space and others that you cannot. This is refered as mutability, strings are NOT mutable, while lists or dictionaries are.*"
      ],
      "metadata": {
        "id": "rH48ZM_zUscy"
      }
    },
    {
      "cell_type": "code",
      "source": [
        "# Check the variable type\n",
        "type(my_first_variable)"
      ],
      "metadata": {
        "id": "cJ-390nd0yRv"
      },
      "execution_count": null,
      "outputs": []
    },
    {
      "cell_type": "code",
      "source": [
        "#We can declare strings by enclosing characters within singe ('') or double quotation (\"\")\n",
        "type(\"Raul\")"
      ],
      "metadata": {
        "id": "69kKmbTJyfFX"
      },
      "execution_count": null,
      "outputs": []
    },
    {
      "cell_type": "code",
      "source": [
        "# We can declare booleans (True, False) values\n",
        "type(True)"
      ],
      "metadata": {
        "id": "46h2oVtWytdo"
      },
      "execution_count": null,
      "outputs": []
    },
    {
      "cell_type": "code",
      "source": [
        "# In python, we can declare lists as an array of values with same or different type\n",
        "# I can also execute multiple lines of code in a single cell\n",
        "my_list = [3,5,5,6,7,8,True,'a']\n",
        "len(my_list)"
      ],
      "metadata": {
        "id": "hvEVBpFQyxcq"
      },
      "execution_count": null,
      "outputs": []
    },
    {
      "cell_type": "code",
      "execution_count": null,
      "metadata": {
        "id": "HULEUzdbrGqp"
      },
      "outputs": [],
      "source": [
        "# Use the predefined function print() to display the value of a variable\n",
        "print(my_list)"
      ]
    },
    {
      "cell_type": "code",
      "source": [
        "# Lines of code also execute sequentially...\n",
        "my_third_variable\n",
        "my_third_variable = \"This is a text string\""
      ],
      "metadata": {
        "id": "HjmWAXeSBaxG"
      },
      "execution_count": null,
      "outputs": []
    },
    {
      "cell_type": "code",
      "source": [
        "'''\n",
        "This is a multiple line comment, everything marked red is out of the code\n",
        "execution.\n",
        "\n",
        "Take a moment to reflect on what you have learned so far about python objects,\n",
        "variables, and pre-defined functions. Test your knowledge using the following values:\n",
        "\n",
        "* 3.1416\n",
        "* 3j\n",
        "* set([3,5,5,6,7,8,8,8])\n",
        "* b'a'\n",
        "* {'name': 'Ringo', 'Status': 'Active', 'Pet': 'Dog'}\n",
        "'''\n",
        "\n",
        "# Write your code in this cell below:\n",
        "\n",
        "\n",
        "\n",
        "\n"
      ],
      "metadata": {
        "id": "cKwCbBaoGK6W"
      },
      "execution_count": null,
      "outputs": []
    },
    {
      "cell_type": "markdown",
      "source": [
        "## Define a list with strings representing items for breakfast and assign it to the variable **groceries_list**"
      ],
      "metadata": {
        "id": "49cY03lBAXP8"
      }
    },
    {
      "cell_type": "code",
      "source": [
        "# Declare your groceries_list here:\n",
        "\n",
        "\n",
        "\n",
        "\n",
        "\n",
        "\n",
        "\n"
      ],
      "metadata": {
        "id": "lS8Xt0ZkAWiA"
      },
      "execution_count": null,
      "outputs": []
    },
    {
      "cell_type": "markdown",
      "source": [
        "*What type of object is it?*"
      ],
      "metadata": {
        "id": "418GSUTmIE-s"
      }
    },
    {
      "cell_type": "markdown",
      "source": [
        "## Lists\n",
        "Special object that contain a collection of objects. They have a variety of built in methods!\n",
        "\n",
        "`my_list = [element1, element2, element3, ...]`\n"
      ],
      "metadata": {
        "id": "ol7mGhCwwGKW"
      }
    },
    {
      "cell_type": "code",
      "source": [
        "# create an empty list\n",
        "my_list = []\n",
        "print(my_list)"
      ],
      "metadata": {
        "id": "bzPHVSyMsgDb"
      },
      "execution_count": null,
      "outputs": []
    },
    {
      "cell_type": "code",
      "source": [
        "# I can nest lists whitin a list\n",
        "\n",
        "nested_list = [[1, 2, 3, 4], ['a', 'b', 'c', 'd']]"
      ],
      "metadata": {
        "id": "Ism3xmH__IEK"
      },
      "execution_count": null,
      "outputs": []
    },
    {
      "cell_type": "code",
      "source": [
        "# Convert a tuple object to list\n",
        "my_list = list((\"yogutrt\", \"kiwi\", \"granola\"))\n",
        "print(my_list)\n"
      ],
      "metadata": {
        "id": "NnEYXJU70Lsq"
      },
      "execution_count": null,
      "outputs": []
    },
    {
      "cell_type": "code",
      "source": [
        "# What happens if you convert a string to a list?\n",
        "string_to_list = list(\"tomato, onion, lettuce\")\n",
        "print(string_to_list)"
      ],
      "metadata": {
        "id": "w1RRLA071iax"
      },
      "execution_count": null,
      "outputs": []
    },
    {
      "cell_type": "code",
      "source": [
        "# You can also split strings by a given character, if we split by space ' '\n",
        "# or other characters, we can obtain a customized list.\n",
        "test_list = 'split this string'.split(' ')\n",
        "print(test_list)\n",
        "\n"
      ],
      "metadata": {
        "id": "Q_ulLxEt30NP"
      },
      "execution_count": null,
      "outputs": []
    },
    {
      "cell_type": "code",
      "source": [
        "# In lists the operator + combines two or more lists, and the operator * repeats the elements of the list\n",
        "fruits_list = ['apple', 'banana', 'cherry']\n",
        "groceries_list = groceries_list + fruits_list\n",
        "fruit_basket_list = fruits_list * 5\n",
        "print(groceries_list)\n",
        "print(fruit_basket_list)"
      ],
      "metadata": {
        "id": "1oHhsBQeL7IH"
      },
      "execution_count": null,
      "outputs": []
    },
    {
      "cell_type": "markdown",
      "source": [
        "## Additional list functionality\n",
        "\n",
        "## Counting\n",
        "`len(mylist) # returns the number of items in a list`\n",
        "\n"
      ],
      "metadata": {
        "id": "NGl63rgh5ukE"
      }
    },
    {
      "cell_type": "code",
      "source": [
        "# return the number of items in a list\n",
        "len(groceries_list)"
      ],
      "metadata": {
        "id": "o1qJe31nmLYf"
      },
      "execution_count": null,
      "outputs": []
    },
    {
      "cell_type": "markdown",
      "source": [
        "## Sorting\n",
        "```\n",
        ".sort() # rearranges the list itself (modifies list in place)\n",
        "sorted(mylist) # returns copy that is sorted\n",
        "```"
      ],
      "metadata": {
        "id": "dBI_ji0emMqI"
      }
    },
    {
      "cell_type": "code",
      "source": [
        "# Get a sorted list\n",
        "random_letters_list = ['a', 'd', 'c', 'z', 'x', 'x']\n",
        "print(f'sorted list:{(sorted(random_letters_list))}')\n",
        "print(f'{random_letters_list=}')"
      ],
      "metadata": {
        "id": "T5kp3uwBmg7d"
      },
      "execution_count": null,
      "outputs": []
    },
    {
      "cell_type": "markdown",
      "source": [
        "## Accessing objects\n",
        "\n",
        "The dot (.) in Python is how you access things that belong to an object\n",
        "\n",
        ".sort() is a method that belongs to the list and rearranges the items on it\n",
        "\n",
        "\t•\tObject.attribute → get data (like tomato.color)\n",
        "\t•\tObject.method() → do an action (like groceries.count())"
      ],
      "metadata": {
        "id": "AQNdqUx66k1H"
      }
    },
    {
      "cell_type": "code",
      "source": [
        "# Sort random letters list\n",
        "random_letters_list.sort()\n",
        "print(random_letters_list)"
      ],
      "metadata": {
        "id": "2d6X0L4HnA8J"
      },
      "execution_count": null,
      "outputs": []
    },
    {
      "cell_type": "code",
      "source": [
        "# Another example of this concept is the method .lower() which can be used to normalize text\n",
        "\n",
        "\"My_StRiNg\".lower()"
      ],
      "metadata": {
        "id": "YmKW7GvV7DcM"
      },
      "execution_count": null,
      "outputs": []
    },
    {
      "cell_type": "markdown",
      "source": [
        "## User-defined Functions\n",
        "Define a function as\n",
        "```\n",
        "def function_name(arguments):\n",
        "  code_to_execute\n",
        "  second_line_of_code\n",
        "  third_line_of_code\n",
        "  ...\n",
        "```\n",
        "Note the indentation, every line of indented code will execute under the defined function.\n",
        "\n"
      ],
      "metadata": {
        "id": "lQO8ouyKDPmT"
      }
    },
    {
      "cell_type": "code",
      "source": [
        "# Make a function that displays the values of your grocery list\n",
        "def display_grocery_list():\n",
        "  print(groceries_list)"
      ],
      "metadata": {
        "id": "96kok5O1DOcw"
      },
      "execution_count": null,
      "outputs": []
    },
    {
      "cell_type": "markdown",
      "source": [
        "We can use the piece of code by calling the function"
      ],
      "metadata": {
        "id": "7xtTZbAzEyVd"
      }
    },
    {
      "cell_type": "code",
      "source": [
        "# Call your function\n",
        "display_grocery_list()"
      ],
      "metadata": {
        "id": "oC9ZPq07Evrm"
      },
      "execution_count": null,
      "outputs": []
    },
    {
      "cell_type": "code",
      "source": [
        "# You can use arguments to tell the function which variable should use during it's execution\n",
        "def display_grocery_list(list):\n",
        "  print(list)\n",
        "\n",
        "# Call the function with the argument\n",
        "display_grocery_list(groceries_list)"
      ],
      "metadata": {
        "id": "m8gDxDPIGJSl"
      },
      "execution_count": null,
      "outputs": []
    },
    {
      "cell_type": "code",
      "source": [
        "# Call the function with a different argument\n",
        "display_grocery_list(fruit_basket_list)"
      ],
      "metadata": {
        "id": "h7zWs1EhPREE"
      },
      "execution_count": null,
      "outputs": []
    },
    {
      "cell_type": "code",
      "source": [
        "# Call the function with an explicit argument\n",
        "display_grocery_list(['milk', 'eggs', 'bacon'])"
      ],
      "metadata": {
        "id": "6YZ12X-EHDgM"
      },
      "execution_count": null,
      "outputs": []
    },
    {
      "cell_type": "markdown",
      "source": [
        "### Global vs. Local variables\n",
        "Based on a variable's accessibility (scope), we can have global and local variables. The variables we create outside of a function are global variables, which means we can use them anywhere else in our code.\n",
        "\n",
        "On the other hand, variables declared inside a function are local variables. These can only be accessed inside that function.\n",
        "\n"
      ],
      "metadata": {
        "id": "8ua7auPrHhLs"
      }
    },
    {
      "cell_type": "code",
      "source": [
        "# Define your global variable outside of any function\n",
        "global_variable = 'Global'"
      ],
      "metadata": {
        "id": "Auc8MAMJxHlL"
      },
      "execution_count": null,
      "outputs": []
    },
    {
      "cell_type": "code",
      "source": [
        "# Define your local variable inside a function\n",
        "def local_variable_example():\n",
        "  local_variable = 7\n",
        "  print(local_variable)"
      ],
      "metadata": {
        "id": "z2BFjIeeHdrS"
      },
      "execution_count": null,
      "outputs": []
    },
    {
      "cell_type": "code",
      "source": [
        "# Execute your function\n",
        "local_variable_example()"
      ],
      "metadata": {
        "id": "_hidNyALczJa"
      },
      "execution_count": null,
      "outputs": []
    },
    {
      "cell_type": "code",
      "source": [
        "# Call directly your local variable\n",
        "print(local_variable)"
      ],
      "metadata": {
        "id": "PEOZSk2bvza1"
      },
      "execution_count": null,
      "outputs": []
    },
    {
      "cell_type": "code",
      "source": [
        "#display your global variable\n",
        "print(global_variable)"
      ],
      "metadata": {
        "id": "DCAe6IV7c2_6"
      },
      "execution_count": null,
      "outputs": []
    },
    {
      "cell_type": "code",
      "source": [
        "# print another global variable\n",
        "print(groceries_list)"
      ],
      "metadata": {
        "id": "h-F85K7fwui3"
      },
      "execution_count": null,
      "outputs": []
    },
    {
      "cell_type": "markdown",
      "source": [
        "## Conditional operators\n",
        "### **Comparison operators**\n",
        "\n",
        "Return either `True` or `False`\n",
        "\n",
        "\n",
        "\n",
        "```\n",
        "== #equality\n",
        "\n",
        "!= #inequality\n",
        "\n",
        "< #less than\n",
        "\n",
        "<= #less than or equal\n",
        "\n",
        "> #greater than\n",
        "\n",
        ">= #greater than or equal\n",
        "```\n",
        "\n",
        "### **Boolean Operators**\n",
        "\n",
        "`and`: returns `True` if both conditions are `True`\n",
        "\n",
        "`or`: returns `True` if either condition is `True`\n",
        "\n",
        "`not`: returns `True` if statement is `False`\n",
        "\n",
        "### **Identity operator**\n",
        "`is` operator used to test for object identity\n",
        "\n",
        "### **Membership operator**\n",
        "`in` checks if a value is present within a sequence"
      ],
      "metadata": {
        "id": "lLAPjZRuOGCk"
      }
    },
    {
      "cell_type": "markdown",
      "source": [
        "### The following evaluate to `False`:\n",
        "```\n",
        "False -boolean\n",
        "\n",
        "0 -zero integer\n",
        "\n",
        "0.0 -zero float\n",
        "\n",
        "None -Null\n",
        "\n",
        "'' -empty string\n",
        "\n",
        "[] -empty list\n",
        "\n",
        "() -empty tuple\n",
        "\n",
        "{} -empty dict\n",
        "\n",
        "set() -empty set\n",
        "```\n",
        "\n",
        "All other values evaluate to `True`\n",
        "\n",
        "this is extremely helpful for evaluating statements that include **if, while, or for**"
      ],
      "metadata": {
        "id": "MIbszaKuP66A"
      }
    },
    {
      "cell_type": "markdown",
      "source": [
        "Take a minute to reflect and guess what do the lines of code will return\n",
        "```\n",
        "4 == \"4\"\n",
        "\n",
        "True or False\n",
        "\n",
        "True is False\n",
        "\n",
        "4 == 4 or 2 > 7  #(is left side True? Is right side True?)\n",
        "\n",
        "True and False\n",
        "\n",
        "```\n",
        "Once you made your guesses, type each command in the interactive session and verify your assumptions\n",
        "\n"
      ],
      "metadata": {
        "id": "WMGpId9leLB_"
      }
    },
    {
      "cell_type": "code",
      "source": [
        "# Code here\n",
        "\n",
        "\n",
        "\n"
      ],
      "metadata": {
        "id": "35BzC-KZgeun"
      },
      "execution_count": null,
      "outputs": []
    },
    {
      "cell_type": "markdown",
      "source": [
        "---\n",
        "## Statements\n",
        "###If statement\n",
        "execute code if a condition is met (evaluates to True)\n",
        "\n",
        "```\n",
        "if condition:\n",
        "  code_to_execut_if_true`\n",
        "```\n",
        "\n",
        " *\\* Note the indentation*"
      ],
      "metadata": {
        "id": "mRm5GIg35SLr"
      }
    },
    {
      "cell_type": "code",
      "source": [
        "# Example with explicit statements\n",
        "if True:\n",
        "  print('This code will be executed')\n",
        "\n",
        "if False:\n",
        "  print('This code will not be executed')"
      ],
      "metadata": {
        "id": "CU20uqKgQhPt"
      },
      "execution_count": null,
      "outputs": []
    },
    {
      "cell_type": "code",
      "source": [
        "# Use comparison operators to evaluate conditions\n",
        "if 7 > 3:\n",
        "  print('7 is greater than 3')"
      ],
      "metadata": {
        "id": "2bdwKeptJ-pq"
      },
      "execution_count": null,
      "outputs": []
    },
    {
      "cell_type": "code",
      "source": [
        "# We can use variables in the conditions\n",
        "if 7 > my_first_variable:\n",
        "  print('7 is greater than my_first_varibale')"
      ],
      "metadata": {
        "id": "eByMssKwKLeK"
      },
      "execution_count": null,
      "outputs": []
    },
    {
      "cell_type": "markdown",
      "source": [
        "How do we troubleshoot this? Can I print the value of my variable to verify its value before operating?\n",
        "\n",
        "-> You can use a print operation outside of the conditional statement to verify the value of your variables!\n",
        "\n",
        "-> You also can mix text and values on your print statement..."
      ],
      "metadata": {
        "id": "ewfdKA1C3S0m"
      }
    },
    {
      "cell_type": "markdown",
      "source": [
        "## Use formatted string litteral f-string\n",
        "\n",
        "Combine code and strings in a single line of code\n",
        "\n",
        "`f'statement_here'`"
      ],
      "metadata": {
        "id": "M_vwLE_mU_VI"
      }
    },
    {
      "cell_type": "code",
      "source": [
        "# Concatenate strings in the print function\n",
        "print('My grocery_list contains:' + 'eggs')"
      ],
      "metadata": {
        "id": "bgLs-uZXSXyM"
      },
      "execution_count": null,
      "outputs": []
    },
    {
      "cell_type": "code",
      "source": [
        "# Concatenate strings with a list in the print function\n",
        "print('groceries_list contains:' + groceries_list)"
      ],
      "metadata": {
        "id": "29uGE0c9R6FB"
      },
      "execution_count": null,
      "outputs": []
    },
    {
      "cell_type": "code",
      "source": [
        "# To display the value of an f-string you can insert it as an argument of a print function.\n",
        "# Example of f-string implementation\n",
        "\n",
        "name = 'Alice'\n",
        "occupation = 'Cheff'\n",
        "# Embed Python expressions directly within the string by enclosing them in curly braces {}\n",
        "f'My name is {name} and I am a professional {occupation}'\n"
      ],
      "metadata": {
        "id": "A-CeygV3Rv5x"
      },
      "execution_count": null,
      "outputs": []
    },
    {
      "cell_type": "code",
      "source": [
        "# To display ' or \" characters, use different quotation marks on your statement\n",
        "\n",
        "print(f\"{name}'s grocery list contains: {groceries_list}\")"
      ],
      "metadata": {
        "id": "cAry6wHKUD9-"
      },
      "execution_count": null,
      "outputs": []
    },
    {
      "cell_type": "code",
      "source": [
        "# Different ways to print the value of a variable with descriptive text:\n",
        "print(f'The value of my_first_variable is: {my_first_variable}')\n",
        "print(f'The value of {my_first_variable=}')\n",
        "print(f'The type of my_first_variable is: {type(my_first_variable)}')"
      ],
      "metadata": {
        "id": "-V2CtLP1Uqbx"
      },
      "execution_count": null,
      "outputs": []
    },
    {
      "cell_type": "markdown",
      "source": [
        "##**elif**\n",
        "'else if', allows additional conditions to check for true\n",
        "```\n",
        "elif condition:\n",
        "  code_to_run_if_elif_condition_is_true\n",
        "```"
      ],
      "metadata": {
        "id": "YKfkkCPjMzIR"
      }
    },
    {
      "cell_type": "code",
      "source": [
        "# Let's evaluate if we have more than 10 items in our groceries list\n",
        "def evaluate_if_list_has_more_than_10_items(list):\n",
        "  #evaluate the size of my list\n",
        "  list_size = len(list)\n",
        "  print(f'{list_size=}')\n",
        "  #Evaluate case for less than 10 items\n",
        "  if list_size < 10:\n",
        "    print('The list has less than 10 items')\n",
        "  #Evaluate case for equals 10 items\n",
        "  elif list_size == 10: # Note the comparison operator\n",
        "    print('The list has 10 items')\n",
        "\n",
        "# Call my function\n",
        "evaluate_if_list_has_more_than_10_items(groceries_list)"
      ],
      "metadata": {
        "id": "blY0AIzyNTwo"
      },
      "execution_count": null,
      "outputs": []
    },
    {
      "cell_type": "markdown",
      "source": [
        "\n",
        "\n",
        "## **else**\n",
        "allows code to be run when preceding condition(s) are NOT met\n",
        "\n",
        "```\n",
        "else:\n",
        "  code_to_run_if_all_preceding_conditions_are_False\n",
        "```\n"
      ],
      "metadata": {
        "id": "6049DDCNLhoT"
      }
    },
    {
      "cell_type": "code",
      "source": [
        "# Modify the function evaluate_if_list_has_more_than_10_items with the\n",
        "# complete if/else statements covering the remaining case when the list has\n",
        "# more than 10 items\n",
        "\n",
        "\n",
        "\n",
        "\n",
        "\n",
        "\n",
        "\n",
        "\n",
        "\n"
      ],
      "metadata": {
        "id": "DeLesM2_Lbiv"
      },
      "execution_count": null,
      "outputs": []
    },
    {
      "cell_type": "markdown",
      "source": [
        "*Challenge: Do you think you can make the function shorter?*"
      ],
      "metadata": {
        "id": "1qMYXbCYb2x8"
      }
    },
    {
      "cell_type": "code",
      "source": [
        "# Write your code here\n",
        "\n",
        "\n",
        "\n",
        "\n",
        "\n",
        "\n",
        "\n",
        "\n"
      ],
      "metadata": {
        "id": "IRDLwWokyqYv"
      },
      "execution_count": null,
      "outputs": []
    },
    {
      "cell_type": "code",
      "source": [
        "# let a user select the input\n",
        "user_input = input('Enter a breakfast list: ')"
      ],
      "metadata": {
        "id": "NzVAKgI9KxKe"
      },
      "execution_count": null,
      "outputs": []
    },
    {
      "cell_type": "code",
      "source": [
        "# call your function\n",
        "evaluate_if_list_has_more_than_10_items(user_input)"
      ],
      "metadata": {
        "id": "CsqaXLPELEMj"
      },
      "execution_count": null,
      "outputs": []
    },
    {
      "cell_type": "markdown",
      "source": [
        "*Why?*"
      ],
      "metadata": {
        "id": "ePSCKCOFfJyQ"
      }
    },
    {
      "cell_type": "markdown",
      "source": [
        "Use the function `int()` to convert the input into an integer"
      ],
      "metadata": {
        "id": "7lB0mhFARp-Z"
      }
    },
    {
      "cell_type": "code",
      "source": [
        "# integer_input = int(input('Enter a number: '))\n",
        "integer_input = int(input('Enter a number: '))\n",
        "print(f'{type(integer_input)=}')"
      ],
      "metadata": {
        "id": "MQilHpqJR-Ni"
      },
      "execution_count": null,
      "outputs": []
    },
    {
      "cell_type": "code",
      "source": [
        "# Function to verify if variable is a list\n",
        "def verify_if_item_is_a_list(variable):\n",
        "  if type(variable) == list:\n",
        "      print('Variable is a list')\n",
        "  else:\n",
        "      print(f'Caution: Variable is not a list, is {type(variable)}')"
      ],
      "metadata": {
        "id": "kqurROcdZkEH"
      },
      "execution_count": null,
      "outputs": []
    },
    {
      "cell_type": "code",
      "source": [
        "# Call your function using a user_input\n",
        "verify_if_item_is_a_list(user_input)"
      ],
      "metadata": {
        "id": "jFhnQJRggM7Z"
      },
      "execution_count": null,
      "outputs": []
    },
    {
      "cell_type": "code",
      "source": [
        "# Call your function with the grocery list\n",
        "verify_if_item_is_a_list(groceries_list)"
      ],
      "metadata": {
        "id": "D43il0J_gG1K"
      },
      "execution_count": null,
      "outputs": []
    },
    {
      "cell_type": "markdown",
      "source": [
        "*What if we want to evaluate all the items of the list?*\n",
        "\n",
        "---\n",
        "\n",
        "## For Loops\n",
        "For loops are used to iterate over the elements of a finite sequence. `for var in iterable : code to execute`\n",
        "\n",
        "One way to iterate over our list is by using the `range()` and `len()` functions. The `range(n)` function returns a sequence of numbers from 0 to n-1 in increments of 1. We can use this together with our for loop to print the sequence of numbers or elements."
      ],
      "metadata": {
        "id": "Or7udwTwl91L"
      }
    },
    {
      "cell_type": "markdown",
      "source": [
        "Syntax: range(start, stop, step) where:\n",
        "\n",
        "start: Starting number (inclusive, default is 0)\n",
        "\n",
        "stop: Ending number (exclusive)\n",
        "\n",
        "step: Increment (default is 1)"
      ],
      "metadata": {
        "id": "K9cDtiHtnsIM"
      }
    },
    {
      "cell_type": "code",
      "source": [
        "# Optional: Define your groceries list if you don't have one saved for the session\n",
        "groceries_list = ['milk', 'Eggs', 'Bread', 'HAM', 'hashbrowns', 'sausage', ',', '5', 'cereal', '10', '.', '?', 'bacon', 'lettuce', 'tomato', 'bread']"
      ],
      "metadata": {
        "id": "9yFcdIQA0YEq"
      },
      "execution_count": null,
      "outputs": []
    },
    {
      "cell_type": "code",
      "source": [
        "# note that the (in) keyword is used in this instance to iterate over the\n",
        "# elements of an iterable object\n",
        "\n",
        "for item in range(5):\n",
        "  print(item)"
      ],
      "metadata": {
        "id": "uxNyyPHKoL4g"
      },
      "execution_count": null,
      "outputs": []
    },
    {
      "cell_type": "code",
      "source": [
        "# By default ranges start from 0 and excludes the last item\n",
        "range(5)"
      ],
      "metadata": {
        "id": "KQwcIOsGoeSt"
      },
      "execution_count": null,
      "outputs": []
    },
    {
      "cell_type": "code",
      "source": [
        "# We can use i as a variable name for a loop counter\n",
        "# Count every 2 numbers from 0 up-to (not including) 20\n",
        "for i in range(0, 20, 2):\n",
        "  print(i)"
      ],
      "metadata": {
        "id": "UGjd1WSrpkoR"
      },
      "execution_count": null,
      "outputs": []
    },
    {
      "cell_type": "code",
      "source": [
        "'''\n",
        "The operator (in) helps us to iterate over list items.\n",
        "In this cell create your function that iterates through a list of numbers and\n",
        "calculates the total sum and prints it.\n",
        "* you can take as example the list grocery_prices = [0, 1, 1, 2, 3, 5, 8, 13, 21]\n",
        "should output 54\n",
        "'''\n",
        "\n",
        "# Write your code here\n",
        "\n",
        "\n",
        "\n",
        "\n",
        "\n"
      ],
      "metadata": {
        "id": "cligi_vhfPkb"
      },
      "execution_count": null,
      "outputs": []
    },
    {
      "cell_type": "code",
      "source": [
        "# What is the lenght of our list?\n",
        "len(groceries_list)"
      ],
      "metadata": {
        "id": "5Nf1jKeGnmZD",
        "colab": {
          "base_uri": "https://localhost:8080/"
        },
        "outputId": "fbb2e0d2-4ec5-4e2e-9d38-1d2dcc124fa7"
      },
      "execution_count": null,
      "outputs": [
        {
          "output_type": "execute_result",
          "data": {
            "text/plain": [
              "16"
            ]
          },
          "metadata": {},
          "execution_count": 9
        }
      ]
    },
    {
      "cell_type": "code",
      "source": [
        "# make all the items on your list lowercase using a for loop\n",
        "# Note the use of a return statement that selects what is going to be returned\n",
        "# when the funciton is called\n",
        "def lowercase_items_on_list(list):\n",
        "  list_lower=[]\n",
        "  for items in list:\n",
        "    list_lower.append(items.lower())\n",
        "\n",
        "  return(list_lower)\n",
        "\n",
        "groceries_list = lowercase_items_on_list(groceries_list)\n",
        "print(groceries_list)"
      ],
      "metadata": {
        "id": "ewsZhsVKAi-U",
        "colab": {
          "base_uri": "https://localhost:8080/"
        },
        "outputId": "3d3d17ef-f450-428f-947a-0488a769bc7b"
      },
      "execution_count": null,
      "outputs": [
        {
          "output_type": "stream",
          "name": "stdout",
          "text": [
            "['milk', 'eggs', 'bread', 'ham', 'hashbrowns', 'sausage', ',', '5', 'cereal', '10', '.', '?', 'bacon', 'lettuce', 'tomato', 'bread']\n"
          ]
        }
      ]
    },
    {
      "cell_type": "markdown",
      "source": [
        "## While Loops\n",
        "The simplest looping mechanism in Python is *while*.\n",
        "\n",
        "\n",
        "```\n",
        "While condition:\n",
        "  execute your code\n",
        "  modify your condition\n",
        "```\n",
        "\n"
      ],
      "metadata": {
        "id": "c5mczpbwRSb3"
      }
    },
    {
      "cell_type": "code",
      "source": [
        "# Using the interactive interpreter, try a simple loop that prints the numbers from 1 to 5:\n",
        "\n",
        "counter=1\n",
        "while counter <= 5:\n",
        "  print(counter)\n",
        "  counter += 1\n"
      ],
      "metadata": {
        "colab": {
          "base_uri": "https://localhost:8080/"
        },
        "id": "_OZW-E13Ry5g",
        "outputId": "c668aaf6-8436-45d4-9a87-78ca5fafe7d8"
      },
      "execution_count": null,
      "outputs": [
        {
          "output_type": "stream",
          "name": "stdout",
          "text": [
            "1\n",
            "2\n",
            "3\n",
            "4\n",
            "5\n"
          ]
        }
      ]
    },
    {
      "cell_type": "code",
      "source": [
        "# Cancel loop with a break\n",
        "while True:\n",
        "  value = input(\"Type your grocery item [or 'q' to quit]: \")\n",
        "  if value == 'q':      # quit\n",
        "    break\n",
        "  groceries_list.append(value.lower())\n",
        "\n",
        "print(groceries_list)"
      ],
      "metadata": {
        "colab": {
          "base_uri": "https://localhost:8080/"
        },
        "id": "bKY5QdzjRSIM",
        "outputId": "232655cb-dcdb-4034-89ad-ba28bd7e10b5"
      },
      "execution_count": null,
      "outputs": [
        {
          "output_type": "stream",
          "name": "stdout",
          "text": [
            "Type your grocery item [or 'q' to quit]: Eggs\n",
            "Type your grocery item [or 'q' to quit]: q\n",
            "['milk', 'eggs', 'bread', 'ham', 'hashbrowns', 'sausage', ',', '5', 'cereal', '10', '.', '?', 'bacon', 'lettuce', 'tomato', 'bread', 'eggs']\n"
          ]
        }
      ]
    },
    {
      "cell_type": "markdown",
      "source": [
        "---\n",
        "## Indexing\n",
        "Access a character or an element corresponding to a given index, the first position is accessed by index value 0\n",
        "\n",
        "### List indexing\n",
        "Lists have much of the functionality of strings: indexing, slicing, etc.\n",
        "```\n",
        "mylist[start:end:step]\n",
        "```"
      ],
      "metadata": {
        "id": "Gqde-kNKqO0n"
      }
    },
    {
      "cell_type": "code",
      "source": [
        "# Call the first item of the grocery list\n",
        "groceries_list[0]\n",
        "\n"
      ],
      "metadata": {
        "id": "Uai8V4T7qQ3u"
      },
      "execution_count": null,
      "outputs": []
    },
    {
      "cell_type": "code",
      "source": [
        "# Return the original list\n",
        "groceries_list[:]"
      ],
      "metadata": {
        "id": "-xoKze697ZUS"
      },
      "execution_count": null,
      "outputs": []
    },
    {
      "cell_type": "code",
      "source": [
        "# call items in a range of indexes between 1 and 5\n",
        "groceries_list[1:5]"
      ],
      "metadata": {
        "id": "CU2013om7LyF"
      },
      "execution_count": null,
      "outputs": []
    },
    {
      "cell_type": "code",
      "source": [
        "# Return the final item of the list\n",
        "groceries_list[-1]"
      ],
      "metadata": {
        "id": "maRCJB2e7jpH"
      },
      "execution_count": null,
      "outputs": []
    },
    {
      "cell_type": "code",
      "source": [
        "# reverse a list\n",
        "groceries_list[::-1]"
      ],
      "metadata": {
        "id": "R2ylnuQW7y9Y"
      },
      "execution_count": null,
      "outputs": []
    },
    {
      "cell_type": "code",
      "source": [
        "# Return every other item of the list\n",
        "groceries_list[::2]"
      ],
      "metadata": {
        "id": "_GPAhsNx76rw"
      },
      "execution_count": null,
      "outputs": []
    },
    {
      "cell_type": "code",
      "source": [
        "# Return half of items on your list using index\n",
        "\n",
        "\n"
      ],
      "metadata": {
        "id": "vwayk0zJ9wOg"
      },
      "execution_count": null,
      "outputs": []
    },
    {
      "cell_type": "code",
      "source": [
        "# Iterate over every item of the list using range and get the index\n",
        "for i in range(len(groceries_list)):\n",
        "  print(f'index:{i} value:{groceries_list[i]}')"
      ],
      "metadata": {
        "id": "aNSJGg7Jo60J"
      },
      "execution_count": null,
      "outputs": []
    },
    {
      "cell_type": "markdown",
      "source": [
        "*Python lists are 0-indexed, meaning that a list item starts from 0*"
      ],
      "metadata": {
        "id": "_1rW8JxSpU4Z"
      }
    },
    {
      "cell_type": "code",
      "source": [
        "# Using different syntax we can iterate over the list as:\n",
        "for items in groceries_list:\n",
        "  print(items)"
      ],
      "metadata": {
        "id": "HCyhig7znIVW"
      },
      "execution_count": null,
      "outputs": []
    },
    {
      "cell_type": "code",
      "source": [
        "# Generate a function that evaluates if a user input is an existing element in our\n",
        "# grocery list using a for loop. Print an indicator of what was the result.\n",
        "\n",
        "print(type(groceries_list))\n",
        "print(groceries_list)\n",
        "def find_item_in_groceries_list(item):\n",
        "  # Input your code here\n",
        "\n",
        "\n",
        "\n",
        "\n",
        "\n",
        "\n",
        "\n",
        "\n"
      ],
      "metadata": {
        "id": "8s-LtCVVpUVY"
      },
      "execution_count": null,
      "outputs": []
    },
    {
      "cell_type": "code",
      "source": [
        "# Test the code with an user input\n",
        "user_input = input('Enter a grocery item: ')\n",
        "find_item_in_groceries_list(user_input)"
      ],
      "metadata": {
        "id": "CJaaEDnWtQIf"
      },
      "execution_count": null,
      "outputs": []
    },
    {
      "cell_type": "code",
      "source": [
        "# Standarize your inputs to avoid misspelling errors\n",
        "user_input = input('Enter a grocery item: ').lower()\n",
        "find_item(user_input)"
      ],
      "metadata": {
        "id": "xKKuxqsTw5Ot"
      },
      "execution_count": null,
      "outputs": []
    },
    {
      "cell_type": "code",
      "source": [
        "# Other way of solving the same problem: Operator in\n",
        "print(type(groceries_list))\n",
        "print(groceries_list)\n",
        "def find_item(item):\n",
        "  # Input your code here\n",
        "    if item in groceries_list:\n",
        "      print(f'{item} is in the list')\n",
        "    else:\n",
        "      print(f'{item} is not in the list')"
      ],
      "metadata": {
        "id": "qITMinXzwZ5f"
      },
      "execution_count": null,
      "outputs": []
    },
    {
      "cell_type": "code",
      "source": [
        "# Same results\n",
        "user_input = input('Enter a grocery item: ').lower()\n",
        "find_item(user_input)"
      ],
      "metadata": {
        "id": "ZsRaqjpRxfap"
      },
      "execution_count": null,
      "outputs": []
    },
    {
      "cell_type": "code",
      "source": [
        "\n",
        "# Other way of solving the same problem: Return boolean\n",
        "print(type(groceries_list))\n",
        "print(groceries_list)\n",
        "def is_item_in_list(item):\n",
        "  # Input your code here\n",
        "    if item in groceries_list:\n",
        "      return True\n",
        "    else:\n",
        "      return False\n",
        "\n",
        "# Same results\n",
        "user_input = input('Enter a grocery item: ').lower()\n",
        "is_item_in_list(user_input)"
      ],
      "metadata": {
        "id": "ueG9i2S6dm-Y"
      },
      "execution_count": null,
      "outputs": []
    },
    {
      "cell_type": "markdown",
      "source": [
        "## Add items to a list\n",
        "Use the `.append()` method\n",
        "\n",
        "\n",
        "```\n",
        "list.append('new_item')\n",
        "```\n",
        "\n"
      ],
      "metadata": {
        "id": "ZkFBRwRmyTSE"
      }
    },
    {
      "cell_type": "code",
      "source": [
        "# Append the next item to the letters_list\n",
        "letters_list = ['a', 'b', 'c']\n",
        "print(letters_list)\n",
        "letters_list.append('d')\n",
        "print(letters_list)"
      ],
      "metadata": {
        "id": "702-n50N_dsS"
      },
      "execution_count": null,
      "outputs": []
    },
    {
      "cell_type": "code",
      "source": [
        "# Use the append method to create a function that evaluates\n",
        "# if the user's item from the manual input is on the list, if is not, add it.\n",
        "\n",
        "\n",
        "\n",
        "\n",
        "\n",
        "\n",
        "\n"
      ],
      "metadata": {
        "id": "uW2F17lHtfNz"
      },
      "execution_count": null,
      "outputs": []
    },
    {
      "cell_type": "code",
      "source": [
        "# You can also add lists with +\n",
        "old_grocery_list = ['ham', 'hashbrowns', 'sausage',',', '5', 'cereal', '10', '.', '?', 'milk']\n",
        "\n",
        "groceries_list = groceries_list + old_grocery_list\n",
        "print(groceries_list)"
      ],
      "metadata": {
        "id": "AIJQQVe0Ku59"
      },
      "execution_count": null,
      "outputs": []
    },
    {
      "cell_type": "code",
      "source": [
        "# extend method merges items from a list, tuple, set or dict to the list as independent items\n",
        "blt = ['bacon', 'lettuce', 'tomato', 'bread']\n",
        "groceries_list.extend(blt)\n",
        "print(groceries_list)"
      ],
      "metadata": {
        "id": "B-M5fcR8Nk8j"
      },
      "execution_count": null,
      "outputs": []
    },
    {
      "cell_type": "markdown",
      "source": [
        "## Removing list items\n",
        "delete by index: `del my_list[-1]`\n",
        "\n",
        "delete by value (first match): `my_list.remove(\"the\")`\n",
        "\n",
        "delete by index and return the item: `my_list.pop(index)`\n",
        "  \n",
        "  - defaults to -1\n",
        "  \n",
        "  - can assign the popped item: `popped = my_list.pop()`\n",
        "\n",
        "remove all items: `my_list.clear()`"
      ],
      "metadata": {
        "id": "1WzsC13F0GyV"
      }
    },
    {
      "cell_type": "code",
      "source": [
        "# Create a function with a (for) loop to delete the garbage items in the list (., ?, 10, ,, 5)\n",
        "\n",
        "\n",
        "\n",
        "\n",
        "\n",
        "\n",
        "\n"
      ],
      "metadata": {
        "id": "DBxi5z2OLQ6t"
      },
      "execution_count": null,
      "outputs": []
    },
    {
      "cell_type": "markdown",
      "source": [
        "## Finding values in a list\n",
        "find the index of a given value (error if not found):\n",
        "\n",
        "`mylist.index(value)`\n",
        "\n",
        "search for a value in a list (returns True/False):\n",
        "\n",
        "`value in mylist`\n",
        "\n",
        "count # of times a value appears (not found returns 0):\n",
        "\n",
        "`mylist.count(value)`\n",
        "\n",
        "```\n",
        "list += list\n",
        "list.index(3)\n",
        "3 in list\n",
        "list.count(3)\n",
        "```"
      ],
      "metadata": {
        "id": "EWCM5bjEOsfU"
      }
    },
    {
      "cell_type": "code",
      "source": [
        "# Find the index of the value 'milk'\n",
        "\n",
        "\n",
        "\n",
        "\n"
      ],
      "metadata": {
        "id": "1Ka7jjx_NECt"
      },
      "execution_count": null,
      "outputs": []
    },
    {
      "cell_type": "code",
      "source": [
        "# Find out if we have the item 'sausage' in our list\n",
        "\n",
        "\n",
        "\n",
        "\n"
      ],
      "metadata": {
        "id": "C0dw6TTgNfhQ"
      },
      "execution_count": null,
      "outputs": []
    },
    {
      "cell_type": "code",
      "source": [
        "# how many times does 'bread' appears in our list?\n",
        "\n",
        "\n",
        "\n",
        "\n"
      ],
      "metadata": {
        "id": "nQ-oSXg1OnAG"
      },
      "execution_count": null,
      "outputs": []
    },
    {
      "cell_type": "code",
      "source": [
        "# Make a function that transforms a list into a set of unique items\n",
        "\n",
        "\n",
        "\n",
        "\n"
      ],
      "metadata": {
        "id": "eXCmNNnKSZi5"
      },
      "execution_count": null,
      "outputs": []
    },
    {
      "cell_type": "markdown",
      "source": [
        "Have you noticed some of the functions we use return values?"
      ],
      "metadata": {
        "id": "qxyVilgsSw2U"
      }
    },
    {
      "cell_type": "code",
      "source": [
        "# Let's test if our list has unique values, note the use of the function set()\n",
        "# that transforms a list into a type set object.\n",
        "def has_unique_values(input_list):\n",
        "    unique_set = set(input_list)\n",
        "    return len(input_list) == len(unique_set)\n",
        "\n",
        "has_unique_values(groceries_list)"
      ],
      "metadata": {
        "id": "v0O72uSRS1sX"
      },
      "execution_count": null,
      "outputs": []
    },
    {
      "cell_type": "markdown",
      "source": [
        "We can return values of operations made within our function every time it's called."
      ],
      "metadata": {
        "id": "BlNcJYFLUEXF"
      }
    },
    {
      "cell_type": "markdown",
      "source": [
        "What if I needed multiple loaves of bread? We can use other types of objects to keep track of how many items we need"
      ],
      "metadata": {
        "id": "tT8w0Dry9_L5"
      }
    },
    {
      "cell_type": "markdown",
      "source": [
        "## Dictionaries and sets\n",
        "\n",
        "###Dictionaries\n",
        "A mutable object consisting of `{key:value}` pairs\n",
        "\n",
        "The items are accessed by value of the key not an index, simmilar to a lookup table.\n",
        "\n",
        "Dictionaries can be defined by a set of curly brackets\n",
        "\n",
        "Empty Dictionary: `empty_dictionary = {}`\n",
        "\n",
        "With items: `my_dictionary = {\"strawberry\":3, \"blackberry\": 2}`\n",
        "\n",
        "With the function `dict()`: `my_dictionary = dict(\"banana\":6, \"avocado\":5)`\n",
        "\n",
        "Method `fromkeys()` Using a list of items: `my_dictionary = dict.fromkeys(my_list, 0)`"
      ],
      "metadata": {
        "id": "eA4huCcGWBHW"
      }
    },
    {
      "cell_type": "markdown",
      "source": [
        "### Accessing dictionary items\n",
        "Dictionary items are accessed by keys, not by index position. By default, looping through a dictionary will loop through the key values.\n"
      ],
      "metadata": {
        "id": "kqlXF_ZyZQJz"
      }
    },
    {
      "cell_type": "code",
      "source": [
        "# Let's define a dictionary 'd'\n",
        "d = {\"name\":\"John\", \"title\":\"Head Chef\"}"
      ],
      "metadata": {
        "id": "x4DoA2gCYr8Q"
      },
      "execution_count": null,
      "outputs": []
    },
    {
      "cell_type": "code",
      "source": [
        "d[\"name\"] # returns value, exception if not\n"
      ],
      "metadata": {
        "id": "oTA9bXkBbPDC"
      },
      "execution_count": null,
      "outputs": []
    },
    {
      "cell_type": "code",
      "source": [
        "d[\"occupation\"]"
      ],
      "metadata": {
        "id": "JsgvEdCvbmJW"
      },
      "execution_count": null,
      "outputs": []
    },
    {
      "cell_type": "code",
      "source": [
        "d.get(\"name\") #returns value, otherwise none\n"
      ],
      "metadata": {
        "id": "DtUfsZ73brhQ"
      },
      "execution_count": null,
      "outputs": []
    },
    {
      "cell_type": "code",
      "source": [
        "d.get(\"occupation\")"
      ],
      "metadata": {
        "id": "vID7SHDPcdLL"
      },
      "execution_count": null,
      "outputs": []
    },
    {
      "cell_type": "code",
      "source": [
        "\"name\" in d # returns True or False"
      ],
      "metadata": {
        "id": "sPdvmIGDb6jp"
      },
      "execution_count": null,
      "outputs": []
    },
    {
      "cell_type": "code",
      "source": [
        "for key in d:\n",
        "  print(key)  #return keys"
      ],
      "metadata": {
        "id": "z0eCtHLxcHCI"
      },
      "execution_count": null,
      "outputs": []
    },
    {
      "cell_type": "code",
      "source": [
        "for key in d: print(key,\":\", d[key])  #return key:value"
      ],
      "metadata": {
        "id": "3nBmUsihcIdd"
      },
      "execution_count": null,
      "outputs": []
    },
    {
      "cell_type": "markdown",
      "source": [
        "###Get all keys or all values (Dictionary methods)\n",
        "\n",
        "Where dictionary object name is 'd'\n",
        "\n",
        "get all keys as a list: `list(d.keys())`\n",
        "\n",
        "get all values as a list: `list(d.values())`\n",
        "\n",
        "get all (key, value) pairs: `list(d.items())`"
      ],
      "metadata": {
        "id": "kyeF_Bynahop"
      }
    },
    {
      "cell_type": "code",
      "source": [
        "list(d.keys())"
      ],
      "metadata": {
        "id": "Ps6QxOsZV8V8"
      },
      "execution_count": null,
      "outputs": []
    },
    {
      "cell_type": "code",
      "source": [
        "list(d.values())"
      ],
      "metadata": {
        "id": "KIbT5jKBdC4E"
      },
      "execution_count": null,
      "outputs": []
    },
    {
      "cell_type": "code",
      "source": [
        "list(d.items())"
      ],
      "metadata": {
        "id": "APAD8oFldFUq"
      },
      "execution_count": null,
      "outputs": []
    },
    {
      "cell_type": "markdown",
      "source": [
        "### Removing dictionary items\n",
        "delete by key: `del d[\"name\"]`\n",
        "\n",
        "delete and return with pop: `d.pop(\"name\")`\n",
        "\n",
        "reassign by key: `d[\"name\"] = \"Bill\"`\n",
        "this will create a new key (\"name\") and value (\"Bill\") pair if the key does not already exist"
      ],
      "metadata": {
        "id": "K8YgBbCzdVYc"
      }
    },
    {
      "cell_type": "code",
      "source": [
        "# Eliminate one item from your dictionary d\n",
        "\n",
        "\n",
        "\n"
      ],
      "metadata": {
        "id": "P_FkfcwxdW94"
      },
      "execution_count": null,
      "outputs": []
    },
    {
      "cell_type": "code",
      "source": [
        "# Try eliminating another item from your dictionary d and assign it to a variable\n",
        "\n",
        "\n",
        "\n"
      ],
      "metadata": {
        "id": "YtfRwEkbdWZW"
      },
      "execution_count": null,
      "outputs": []
    },
    {
      "cell_type": "markdown",
      "source": [
        "Create a dictionary groceries_dictionary with unique keys taken from your grocery_list"
      ],
      "metadata": {
        "id": "IUa3R_kok-jS"
      }
    },
    {
      "cell_type": "code",
      "source": [
        "# Insert your code here\n",
        "\n",
        "\n",
        "\n",
        "\n",
        "\n",
        "\n"
      ],
      "metadata": {
        "id": "VovmzlpMdWxW"
      },
      "execution_count": null,
      "outputs": []
    },
    {
      "cell_type": "markdown",
      "source": [
        "*Using* imported functions"
      ],
      "metadata": {
        "id": "xM_i0QAblx-L"
      }
    },
    {
      "cell_type": "code",
      "source": [
        "# In python we can import libraries using the keyword import and the name of the library\n",
        "import random\n",
        "# Generate a random float between 1 and 20 (inclusive)\n",
        "random_float = random.uniform(1, 20)\n",
        "#round the float to two decimal places\n",
        "# random_float = round(random_float, 2)\n",
        "\n",
        "random_float"
      ],
      "metadata": {
        "id": "2UO4O4qGbbms"
      },
      "execution_count": null,
      "outputs": []
    },
    {
      "cell_type": "markdown",
      "source": [
        "Insert values for your dictionary items relating quantity needed, for example, if you need 12 eggs it will look like {\"eggs\": 12}"
      ],
      "metadata": {
        "id": "NgvU7OaxlO0P"
      }
    },
    {
      "cell_type": "code",
      "source": [
        "# Code here\n",
        "\n",
        "\n",
        "\n",
        "\n"
      ],
      "metadata": {
        "id": "siKGkmXOlJNo"
      },
      "execution_count": null,
      "outputs": []
    },
    {
      "cell_type": "markdown",
      "source": [
        "Add the following items to your quantity list, add 1 for every time the item appears on the list"
      ],
      "metadata": {
        "id": "RjSJhmgNY3bG"
      }
    },
    {
      "cell_type": "code",
      "source": [
        "# Declare the additional_list\n",
        "additional_list = ['eggs', 'eggs', 'eggs', 'milk', 'bread', 'tomato', 'tomato', 'tomato', 'tomato', 'tomato', 'tomato', 'tomato', 'tomato', 'tomato', ]"
      ],
      "metadata": {
        "id": "vhe_SSCEZER0"
      },
      "execution_count": null,
      "outputs": []
    },
    {
      "cell_type": "code",
      "source": [
        "# Your code to add the items quantity in your groceries_dictionary here:\n",
        "\n",
        "\n",
        "\n",
        "\n",
        "\n",
        "\n",
        "\n",
        "\n",
        "\n"
      ],
      "metadata": {
        "id": "hdOMKc6GY2AK"
      },
      "execution_count": null,
      "outputs": []
    },
    {
      "cell_type": "code",
      "source": [
        "# load a dictionary with pre-defined prices\n",
        "items_price = {\n",
        "    # Fruits\n",
        "    \"apple\": 1.00,\n",
        "    \"banana\": 0.50,\n",
        "    \"orange\": 0.80,\n",
        "    \"strawberries\": 2.50,\n",
        "    \"blueberries\": 3.00,\n",
        "    \"grapes\": 2.20,\n",
        "    \"kiwi\":3.50,\n",
        "\n",
        "    # Bakery\n",
        "    \"bread\": 2.50,\n",
        "    \"bagel\": 1.20,\n",
        "    \"croissant\": 2.00,\n",
        "    \"muffin\": 1.80,\n",
        "    \"pancake\": 3.50,\n",
        "    \"waffle\": 3.50,\n",
        "\n",
        "    # Protein\n",
        "    \"egg\": 0.25,\n",
        "    \"bacon\": 2.50,\n",
        "    \"sausage\": 2.80,\n",
        "    \"ham\": 3.00,\n",
        "    \"greek yogurt\": 1.50,\n",
        "    \"peanut butter\": 2.00,\n",
        "\n",
        "    # Dairy\n",
        "    \"milk\": 3.00,\n",
        "    \"cheese\": 2.50,\n",
        "    \"butter\": 1.50,\n",
        "\n",
        "    # Drinks\n",
        "    \"coffee\": 2.00,\n",
        "    \"tea\": 1.50,\n",
        "    \"orange juice\": 2.20,\n",
        "    \"smoothie\": 3.50,\n",
        "\n",
        "    # Vegetables\n",
        "    \"lettuce\":1.50,\n",
        "    \"spinach\":1.30,\n",
        "    \"tomato\":2.50,\n",
        "    \"onion\":1.70,\n",
        "\n",
        "    # Extras\n",
        "    \"oatmeal\": 2.00,\n",
        "    \"cereal\": 2.50,\n",
        "    \"granola\": 2.80,\n",
        "    \"honey\": 2.20,\n",
        "    \"jam\": 1.80\n",
        "}"
      ],
      "metadata": {
        "id": "8nmqlfyqe2k8"
      },
      "execution_count": null,
      "outputs": []
    },
    {
      "cell_type": "markdown",
      "source": [
        "## ⚠️ Exceptions"
      ],
      "metadata": {
        "id": "j8O4qMgvWfj4"
      }
    },
    {
      "cell_type": "code",
      "source": [
        "# verify if groceries is a list object using exceptions\n",
        "groceries = input('Enter a grocery list: ')\n",
        "print(type(groceries))\n",
        "try:\n",
        "  if not isinstance(groceries, list):\n",
        "    raise TypeError('groceries is not a list')\n",
        "  else:\n",
        "    print('groceries is a list')\n",
        "  print(groceries)\n",
        "except Exception as e:\n",
        "  print(f'Caught an exception: {e}')"
      ],
      "metadata": {
        "id": "-8uSOBXX_8G_"
      },
      "execution_count": null,
      "outputs": []
    },
    {
      "cell_type": "code",
      "source": [
        "# How do I fix this error? split method\n",
        "groceries = input('Enter a grocery list: ').split()\n",
        "print(type(groceries))\n",
        "try:\n",
        "  if not isinstance(groceries, list):\n",
        "    raise TypeError('groceries is not a list')\n",
        "  else:\n",
        "    print('groceries is a list')\n",
        "  print(groceries)\n",
        "except Exception as e:\n",
        "  print(f'Caught an exception: {e}')"
      ],
      "metadata": {
        "id": "qs_Rn7MHGBBO"
      },
      "execution_count": null,
      "outputs": []
    },
    {
      "cell_type": "markdown",
      "source": [
        "# Final Exercise\n",
        "\n",
        "Create a function calculate_total_price() which calculates the total cost based on the groceries dictionary, operating quantity and item's price.\n",
        "* Evaluate if your list comes in a form of a dictionary, if not, create an error\n",
        "* If there is no price for one of your items, ask the user to enter a price manually and add it to the price list\n"
      ],
      "metadata": {
        "id": "EdJ7RUnJgq-a"
      }
    },
    {
      "cell_type": "code",
      "source": [
        "# Your code here\n",
        "\n",
        "\n",
        "\n",
        "\n",
        "\n",
        "\n",
        "\n",
        "\n"
      ],
      "metadata": {
        "id": "JF_dECNejtds"
      },
      "execution_count": null,
      "outputs": []
    },
    {
      "cell_type": "markdown",
      "source": [
        "Include a budget to your function and use the inventory dictionary to:\n",
        "* Verify if the groceries are affordable given a specific budget. Print an output with the total budget and remaining budget after purchase.\n",
        "If the groceries are more than we can afford print a list of the items we won't be able to purchase assuming we purchase each item alphabetically\n",
        "* Verify the store has all the products I need and let the user know if any product is not available. If not available the item should not be counted in the total price. Use the dictionary *items_inventory* below.\n",
        "\n",
        "```\n",
        "items_inventory = {\n",
        "    # Fruits\n",
        "    \"apple\": 20,\n",
        "    \"banana\": 50,\n",
        "    \"orange\": 80,\n",
        "    \"strawberries\": 50,\n",
        "    \"blueberries\": 5,\n",
        "    \"grapes\": 20,\n",
        "    \"kiwi\":10,\n",
        "\n",
        "    # Bakery\n",
        "    \"bread\": 50,\n",
        "    \"bagel\": 20,\n",
        "    \"croissant\": 2,\n",
        "    \"muffin\": 18,\n",
        "    \"pancake\": 35,\n",
        "    \"waffle\": 3,\n",
        "\n",
        "    # Protein\n",
        "    \"egg\": 20,\n",
        "    \"bacon\": 2,\n",
        "    \"sausage\": 2,\n",
        "    \"ham\": 3,\n",
        "    \"greek yogurt\": 50,\n",
        "    \"peanut butter\": 2,\n",
        "\n",
        "    # Dairy\n",
        "    \"milk\": 3,\n",
        "    \"cheese\": 50,\n",
        "    \"butter\": 50,\n",
        "\n",
        "    # Drinks\n",
        "    \"coffee\": 2,\n",
        "    \"tea\": 10,\n",
        "    \"orange juice\": 2,\n",
        "    \"smoothie\": 50,\n",
        "\n",
        "    # Vegetables\n",
        "    \"lettuce\":50,\n",
        "    \"spinach\":30,\n",
        "    \"tomato\":20,\n",
        "    \"onion\":17,\n",
        "\n",
        "    # Extras\n",
        "    \"oatmeal\": 2,\n",
        "    \"cereal\": 2,\n",
        "    \"granola\": 2,\n",
        "    \"honey\": 2,\n",
        "    \"jam\": 1\n",
        "}\n",
        "```\n",
        "\n",
        "*Make sure to substract the items from inventory after counting them*"
      ],
      "metadata": {
        "id": "6vJrpEWUiNIp"
      }
    },
    {
      "cell_type": "code",
      "source": [
        "# Define your inventory items_inventory\n",
        "\n"
      ],
      "metadata": {
        "id": "hAgEjrTjYaZJ"
      },
      "execution_count": null,
      "outputs": []
    },
    {
      "cell_type": "code",
      "source": [
        "# Your additional code here\n",
        "\n",
        "\n",
        "\n",
        "\n",
        "\n",
        "\n",
        "\n",
        "\n",
        "\n",
        "\n"
      ],
      "metadata": {
        "id": "p4PkN9kzjv7p"
      },
      "execution_count": null,
      "outputs": []
    },
    {
      "cell_type": "markdown",
      "source": [
        "## Extra Challenge\n",
        "\n",
        "Today is \"Happy Tuesday\" discount day in the store! Modify your code to give a 10% discount over the total price of your items.\n",
        "Also there are specific discounts for:\n",
        "- Tomatoes: 2x1\n",
        "- Milk: Buy 1 get 2nd 50% off\n",
        "- greek yogurt: Buy 1 get 2nd 50% off\n",
        "- Buy bread, get bagel for free\n",
        "\n",
        "\n",
        "Print the total price and items purchased with total price for each collection of items and discount applied e.g. 4 tomatoes $40.0 (2x1)"
      ],
      "metadata": {
        "id": "pc_SV_dEhXL2"
      }
    },
    {
      "cell_type": "code",
      "source": [
        "# Your code here\n",
        "\n",
        "\n",
        "\n",
        "\n",
        "\n",
        "\n",
        "\n",
        "\n",
        "\n",
        "\n",
        "\n"
      ],
      "metadata": {
        "id": "lrONziCRjzs6"
      },
      "execution_count": null,
      "outputs": []
    },
    {
      "cell_type": "markdown",
      "source": [
        "*Did your output include any bagels?*"
      ],
      "metadata": {
        "id": "GB1UnjgDak5N"
      }
    },
    {
      "cell_type": "markdown",
      "source": [
        "You were hired to make a list of breakfast items for the secret service agency, create an encoder and decoder to encript your list items\n",
        "e.g. If e = 5, g = 1. 'Egg' = 511"
      ],
      "metadata": {
        "id": "O-8koCmxOY0x"
      }
    },
    {
      "cell_type": "code",
      "source": [
        "# Your code here\n",
        "\n",
        "\n",
        "\n",
        "\n",
        "\n",
        "\n",
        "\n",
        "\n",
        "\n",
        "\n"
      ],
      "metadata": {
        "id": "dR2kvltBOW_a"
      },
      "execution_count": null,
      "outputs": []
    }
  ]
}
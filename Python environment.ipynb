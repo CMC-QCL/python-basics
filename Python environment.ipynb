{
 "cells": [
  {
   "cell_type": "markdown",
   "id": "62553ed2",
   "metadata": {},
   "source": [
    "# Anaconda\n",
    "\n",
    "Anaconda is an open-source platform, built for data science, that comes with a package and environment manager for Python and R. To install it, go to https://www.anaconda.com/ and click on download.\n",
    "\n",
    "![](https://raw.githubusercontent.com/CMC-QCL/python-basics/main/imgs/website.png)\n",
    "\n",
    "Wait for the installer to download and open it\n",
    "\n",
    "![](https://raw.githubusercontent.com/CMC-QCL/python-basics/main/imgs/download_complete.png)\n",
    "\n",
    "![](https://raw.githubusercontent.com/CMC-QCL/python-basics/main/imgs/wizard1.png)\n",
    "\n",
    "![](https://raw.githubusercontent.com/CMC-QCL/python-basics/main/imgs/wizard2.png)\n",
    "\n",
    "![](https://raw.githubusercontent.com/CMC-QCL/python-basics/main/imgs/wizard3.png)\n",
    "\n",
    "![](https://raw.githubusercontent.com/CMC-QCL/python-basics/main/imgs/wizard4.png)\n",
    "\n",
    "![](https://raw.githubusercontent.com/CMC-QCL/python-basics/main/imgs/wizard5.png)\n",
    "\n",
    "![](https://raw.githubusercontent.com/CMC-QCL/python-basics/main/imgs/wizard6.png)\n",
    "\n",
    "![](https://raw.githubusercontent.com/CMC-QCL/python-basics/main/imgs/wizard7.png)\n",
    "\n",
    "![](https://raw.githubusercontent.com/CMC-QCL/python-basics/main/imgs/wizard8.png)\n",
    "\n",
    "Once it is installed, look for the Anaconda Navigator and open it.\n",
    "\n",
    "![](https://raw.githubusercontent.com/CMC-QCL/python-basics/main/imgs/open_anaconda.png)\n",
    "\n",
    "It may ask you to update the Navigator.\n",
    "\n",
    "![](https://raw.githubusercontent.com/CMC-QCL/python-basics/main/imgs/update_anaconda.png)\n",
    "\n",
    "After updating it, launch the Navigator. The \"Home\" tab (to the left) shows all available applications\n",
    "\n",
    "![](https://raw.githubusercontent.com/CMC-QCL/python-basics/main/imgs/select_jupyter.png)\n",
    "\n",
    "The \"Environments\" tab shows the available environments and their installed packages.\n",
    "\n",
    "![](https://raw.githubusercontent.com/CMC-QCL/python-basics/main/imgs/environments.png)\n",
    "\n",
    "To create a new environment, click on the Create button at the bottom. Make sure only Python is selected and give a name for your environment, preferably without spaces in it. For example, \"QCL-Workshop\".\n",
    "\n",
    "![](https://raw.githubusercontent.com/CMC-QCL/python-basics/main/imgs/new_environment.png)\n",
    "\n",
    "To install new packages on this new environment, make sure the correct environment is selected. Then, use the dropdown menu from the top to show \"All\" packages and use the search bar to the right to search for the package. Select the packages you want to install and click on Apply.\n",
    "\n",
    "![](https://raw.githubusercontent.com/CMC-QCL/python-basics/main/imgs/install_package.png)\n",
    "\n",
    "Now you should be ready to launch a Jupyter Notebook. Go to the \"Home\" tab and Launch Jupyter Notebook."
   ]
  },
  {
   "cell_type": "markdown",
   "id": "a9df37fe",
   "metadata": {},
   "source": [
    "# Guide to Jupyter Notebooks\n",
    "\n",
    "Jupyter Notebooks are widely used to develop and present data science projects. The name Jupyter is a reference to the three core programming languages: Julia, Python and R. Jupyter Notebooks allows us to run interactive sessions in these languages with support for Markdown for text cells.\n",
    "\n",
    "There are 2 modes: command mode and edit mode. When we first enter the notebook, we should be in edit mode. To enter command mode, press `Esc`. To enter edit mode, select a cell and press `Enter`. \n",
    "\n",
    "In command mode\n",
    "\n",
    "- `A` to insert a cell above\n",
    "- `B` to insert a cell below\n",
    "- `D` delete the selected cell\n",
    "- `M` to change the cell type to Markdown\n",
    "- `Y` to change the cell type to Code\n",
    "- `C` to copy a selected cells\n",
    "- `V` to paste cells below\n",
    "- `X` to cut selected cells\n",
    "- `Shift + Up` (or `⇧ + Up`) to extend selection above\n",
    "- `Shift + Down` (or `⇧ + Down`) to extend selection below\n",
    "\n",
    "To run the selected cells, press `Ctrl + Enter` on Windows or `⌘ + Enter` on Mac.\n",
    "\n",
    "A Code cell will evaluate Python code and show the result."
   ]
  },
  {
   "cell_type": "code",
   "execution_count": 1,
   "id": "5c7c2d70",
   "metadata": {},
   "outputs": [
    {
     "data": {
      "text/plain": [
       "10"
      ]
     },
     "execution_count": 1,
     "metadata": {},
     "output_type": "execute_result"
    }
   ],
   "source": [
    "# This is Python code\n",
    "5 + 5"
   ]
  },
  {
   "cell_type": "markdown",
   "id": "f52e2b65",
   "metadata": {},
   "source": [
    "A Markdown cell allows us to write text and include mathematical formulas, among other things."
   ]
  },
  {
   "cell_type": "markdown",
   "id": "9f4efc61",
   "metadata": {},
   "source": [
    "You can write headers using the \"#\" sign.\n",
    "\n",
    "# Header 1\n",
    "## Header 2\n",
    "### Header 3\n",
    "\n",
    "And add mathematical symbols using the \"$\" sign.\n",
    "\n",
    "$x^2 + \\sqrt{10} = \\pi$"
   ]
  },
  {
   "cell_type": "markdown",
   "id": "6997f73d",
   "metadata": {},
   "source": [
    "To learn more about Jupyter Notebooks and Markdown, the QCL offers the Intro to Jupyter Notebooks and Markdown\" workshop."
   ]
  },
  {
   "cell_type": "markdown",
   "id": "c608aa95",
   "metadata": {},
   "source": [
    "## JupyterHub\n",
    "\n",
    "JupyterHub runs Jupyter Notebooks in the cloud. Let's begin by downloading the zip file of today's workshop materials.\n",
    "\n",
    "![](https://raw.githubusercontent.com/CMC-QCL/python-basics/main/imgs/ghub_zip.png)\n",
    "\n",
    "Extract all files and go to https://webapps.cmc.edu/jupyter. You will be prompted for a Username and Password, use the Username you received by email and set up a password at least 20 characters long.\n",
    "\n",
    "Use the \"Upload\" button and select the two notebooks you downloaded.\n",
    "\n",
    "![](https://raw.githubusercontent.com/CMC-QCL/python-basics/main/imgs/jhub_upload_notebook.png)\n",
    "\n",
    "![](https://raw.githubusercontent.com/CMC-QCL/python-basics/main/imgs/jhub_upload_notebook2.png)\n",
    "\n",
    "Click the Upload buttons next to the files you want to upload.\n",
    "\n",
    "![](https://raw.githubusercontent.com/CMC-QCL/python-basics/main/imgs/jhub_upload_notebook3.png)"
   ]
  },
  {
   "cell_type": "markdown",
   "id": "36af0fee",
   "metadata": {},
   "source": [
    "### "
   ]
  }
 ],
 "metadata": {
  "kernelspec": {
   "display_name": "Python 3 (ipykernel)",
   "language": "python",
   "name": "python3"
  },
  "language_info": {
   "codemirror_mode": {
    "name": "ipython",
    "version": 3
   },
   "file_extension": ".py",
   "mimetype": "text/x-python",
   "name": "python",
   "nbconvert_exporter": "python",
   "pygments_lexer": "ipython3",
   "version": "3.10.8"
  }
 },
 "nbformat": 4,
 "nbformat_minor": 5
}

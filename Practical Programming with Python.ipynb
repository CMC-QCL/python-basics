{
 "cells": [
  {
   "cell_type": "markdown",
   "id": "0ef8ad25",
   "metadata": {},
   "source": [
    "# Practical Programming with Python\n",
    "\n",
    "Welcome to the QCL Workshop **Practical Programming with Python**.\n",
    "\n",
    "This is a Level 1 Workshop. No programming experience is required, but some familiarity with another programming language will be useful.\n",
    "\n",
    "![](https://bit.ly/3Xsv9hf)"
   ]
  },
  {
   "cell_type": "markdown",
   "id": "de65fb87",
   "metadata": {},
   "source": [
    "## Today's Agenda\n",
    "\n",
    "* Python\n",
    "* Variables\n",
    "* Data Structures\n",
    "* Conditional Statements\n",
    "* Functions\n",
    "* Scripts and Libraries\n",
    "* For Loops\n",
    "* Turtle"
   ]
  },
  {
   "cell_type": "markdown",
   "id": "1c0baf52",
   "metadata": {},
   "source": [
    "## Python\n",
    "\n",
    "Python is one of the most popular programming languages. Some of the characteristics that make Python a great programming language are:\n",
    "\n",
    "* It is open source and has a large community of developers.\n",
    "* Has a simple and easy to read syntax (beginner-friendly and maintainable code).\n",
    "* It is a scripting language.\n",
    "* It is powerful enough to build robust and efficient applications.\n",
    "\n",
    "Some of the things you can do with Python are:\n",
    "\n",
    "* Create Graphical User Interfaces (GUIs)\n",
    "* Web development\n",
    "* Data Analysis & Machine Learning\n",
    "* Automation of repetitive tasks (renaming files, cleaning data, web scraping)\n",
    "\n",
    "Fun fact: Python was named in honor to the British comedy group, Monty Python.\n",
    "\n",
    "![](https://bit.ly/monty-py)"
   ]
  },
  {
   "cell_type": "markdown",
   "id": "9fb16cde",
   "metadata": {},
   "source": [
    "## Variables\n",
    "\n",
    "Variables are containers we can use to store our data.\n",
    "\n",
    "For example, we can assign integers (whole numbers), floats (whole numbers with a fractional part) and strings (text) by simply typing:"
   ]
  },
  {
   "cell_type": "code",
   "execution_count": null,
   "id": "60b5aea5",
   "metadata": {},
   "outputs": [],
   "source": [
    "var1 = 10  # This is an integer\n",
    "var2 = 5.45  # This is a float\n",
    "var3 = \"QCL\"  # This is a string\n",
    "var4 = True  # This is a boolean"
   ]
  },
  {
   "cell_type": "markdown",
   "id": "e116605e",
   "metadata": {},
   "source": [
    "<div class=\"alert alert-block alert-warning\">\n",
    "<b>Note:</b> In Python you start any single-line comments with the \"#\" sign.\n",
    "</div>"
   ]
  },
  {
   "cell_type": "markdown",
   "id": "3c1f16b5",
   "metadata": {},
   "source": [
    "Strings can use single or double quotation marks."
   ]
  },
  {
   "cell_type": "code",
   "execution_count": null,
   "id": "058d82c3",
   "metadata": {},
   "outputs": [],
   "source": [
    "single = 'This is a string'\n",
    "double = \"This is also a string\"\n",
    "double_single = \"This has 'single' quotation marks\""
   ]
  },
  {
   "cell_type": "markdown",
   "id": "557db2f3",
   "metadata": {},
   "source": [
    "To print variables in Python use `print()`."
   ]
  },
  {
   "cell_type": "code",
   "execution_count": null,
   "id": "9e591738",
   "metadata": {},
   "outputs": [],
   "source": [
    "# Print any variable\n",
    "print(double_single)"
   ]
  },
  {
   "cell_type": "markdown",
   "id": "49b34e72",
   "metadata": {},
   "source": [
    "Note that in a Jupyter notebook you can also just call the variable, but only the last call will be shown."
   ]
  },
  {
   "cell_type": "code",
   "execution_count": null,
   "id": "5062a44a",
   "metadata": {},
   "outputs": [],
   "source": [
    "single\n",
    "double"
   ]
  },
  {
   "cell_type": "markdown",
   "id": "873443ec",
   "metadata": {},
   "source": [
    "### Naming Variables\n",
    "\n",
    "Names in Python can be written using lowercase and upercase letters, numbers and the underscore special character (\\_). However, the first character in any name cannot be a number. \n",
    "\n",
    "Using readable names for your variables, as with comments, will help other people (and yourself) understand what your code does."
   ]
  },
  {
   "cell_type": "code",
   "execution_count": null,
   "id": "0dd4c92c",
   "metadata": {},
   "outputs": [],
   "source": [
    "# Examples of readable variable names\n",
    "random_number = 5\n",
    "workshop_name = \"Practical Programming with Python\"\n",
    "\n",
    "# Examples of not so readable variable names\n",
    "x = 5\n",
    "y = \"Practical Programming with Python\""
   ]
  },
  {
   "cell_type": "markdown",
   "id": "70ed8054",
   "metadata": {},
   "source": [
    "### Python Keywords\n",
    "\n",
    "Certain words cannot be used as names. These are reserved for special functionality within Python. You can see the full list within Python."
   ]
  },
  {
   "cell_type": "code",
   "execution_count": null,
   "id": "db1f4861",
   "metadata": {},
   "outputs": [],
   "source": [
    "# Full list of keywords\n",
    "help(\"keywords\")"
   ]
  },
  {
   "cell_type": "markdown",
   "id": "4b8b92b8",
   "metadata": {},
   "source": [
    "Python is case-sensitive, so you cannot use \"None\" as a name, but you can use \"none\" in lowercase."
   ]
  },
  {
   "cell_type": "code",
   "execution_count": null,
   "id": "3ed78ddf",
   "metadata": {},
   "outputs": [],
   "source": [
    "# \"None\" creates an error\n",
    "None = 10\n",
    "print(None)"
   ]
  },
  {
   "cell_type": "code",
   "execution_count": null,
   "id": "ade2d008",
   "metadata": {},
   "outputs": [],
   "source": [
    "# \"none\" works fine\n",
    "none = 10\n",
    "print(none)"
   ]
  },
  {
   "cell_type": "markdown",
   "id": "ac43e644",
   "metadata": {},
   "source": [
    "### Operations in Python\n",
    "\n",
    "You can do basic calculations with Python."
   ]
  },
  {
   "cell_type": "code",
   "execution_count": null,
   "id": "5fe72f8c",
   "metadata": {},
   "outputs": [],
   "source": [
    "# Multiplication\n",
    "3 * 6"
   ]
  },
  {
   "cell_type": "code",
   "execution_count": null,
   "id": "3d66a185",
   "metadata": {},
   "outputs": [],
   "source": [
    "# Division\n",
    "6 / 4"
   ]
  },
  {
   "cell_type": "code",
   "execution_count": null,
   "id": "58253a6b",
   "metadata": {},
   "outputs": [],
   "source": [
    "# Floor division\n",
    "6 // 4"
   ]
  },
  {
   "cell_type": "code",
   "execution_count": null,
   "id": "f182fe95",
   "metadata": {},
   "outputs": [],
   "source": [
    "# Modulus\n",
    "6 % 4"
   ]
  },
  {
   "cell_type": "code",
   "execution_count": null,
   "id": "6567c615",
   "metadata": {},
   "outputs": [],
   "source": [
    "# Exponentiation\n",
    "2 ** 3"
   ]
  },
  {
   "cell_type": "markdown",
   "id": "bc704ab0",
   "metadata": {},
   "source": [
    "<div class=\"alert alert-block alert-success\">\n",
    "<b>Hands-on:</b> \n",
    "<ol>\n",
    "    <li>Compute $3(5 + 3)$ and assign it to a variable called \"result\".</li>\n",
    "    <li>Convert the result to a string and assign it to \"result_str\".</li>\n",
    "    <li>Run print(\"The result of the operation is: \" + result_str).</li>\n",
    "</ol>\n",
    "</div>"
   ]
  },
  {
   "cell_type": "code",
   "execution_count": null,
   "id": "295a530a",
   "metadata": {},
   "outputs": [],
   "source": [
    "# Create the variable \"result\"\n",
    "\n",
    "\n",
    "# Create the variable \"result_str\"\n",
    "\n",
    "\n",
    "# Print the result\n"
   ]
  },
  {
   "cell_type": "markdown",
   "id": "fe0aca71",
   "metadata": {},
   "source": [
    "## Data Structures\n",
    "\n",
    "Data structures are ways to organize your data. The most commonly used data structures in Python are lists and dictionaries.\n",
    "\n",
    "### Lists\n",
    "\n",
    "A list is an ordered collection of elements. To create a list in Python do the following:"
   ]
  },
  {
   "cell_type": "code",
   "execution_count": null,
   "id": "59ca5114",
   "metadata": {},
   "outputs": [],
   "source": [
    "# Create a list\n",
    "letters_list = ['a', 'b', 'c', 'd', 'e', 'f', 'g', 'h', 'i']\n",
    "print(letters_list)"
   ]
  },
  {
   "cell_type": "markdown",
   "id": "da4eb9ef",
   "metadata": {},
   "source": [
    "Lists can contain any data type. Lists can also contain multiple data types."
   ]
  },
  {
   "cell_type": "code",
   "execution_count": null,
   "id": "ca49bbd9",
   "metadata": {},
   "outputs": [],
   "source": [
    "# Multiple data types\n",
    "multiple_types_list = [1, 2, \"3\", \"4\", True]\n",
    "print(multiple_types_list)"
   ]
  },
  {
   "cell_type": "markdown",
   "id": "cebabcb6",
   "metadata": {},
   "source": [
    "#### Slicing lists\n",
    "\n",
    "To access an element in a list use its index. Python lists are zero-indexed, which means that the first element has an index of 0.\n",
    "\n",
    "`  -9   -8   -7   -6   -5   -4   -3   -2   -1   ` <br>\n",
    "`   ↓    ↓    ↓    ↓    ↓    ↓    ↓    ↓    ↓   ` <br>\n",
    "`['a', 'b', 'c', 'd', 'e', 'f', 'g', 'h', 'i']` <br>\n",
    "`   ↑    ↑    ↑    ↑    ↑    ↑    ↑    ↑    ↑   ` <br>\n",
    "`   0    1    2    3    4    5    6    7    8   ` <br>"
   ]
  },
  {
   "cell_type": "code",
   "execution_count": null,
   "id": "45e85c25",
   "metadata": {},
   "outputs": [],
   "source": [
    "# First element in our letters list\n",
    "letters_list[0]"
   ]
  },
  {
   "cell_type": "code",
   "execution_count": null,
   "id": "4115a7af",
   "metadata": {},
   "outputs": [],
   "source": [
    "# Last element in our letters list\n",
    "letters_list[-1]"
   ]
  },
  {
   "cell_type": "markdown",
   "id": "13399b9e",
   "metadata": {},
   "source": [
    "To access multiple elements use the slicing operator `[start:end]`. The start index is included, but the end index is not.\n",
    "\n",
    "`               [0:3]                           ` <br>\n",
    "`                                             ` <br>\n",
    "`['a', 'b', 'c', 'd', 'e', 'f', 'g', 'h', 'i']` <br>\n",
    "`   ↑    ↑    ↑                                 ` <br>\n",
    "__`   0    1    2                                 `__ <br>"
   ]
  },
  {
   "cell_type": "code",
   "execution_count": null,
   "id": "66d77d9e",
   "metadata": {},
   "outputs": [],
   "source": [
    "# Access the first to third elements\n",
    "letters_list[0:3]"
   ]
  },
  {
   "cell_type": "markdown",
   "id": "70292865",
   "metadata": {},
   "source": [
    "If we leave the `start` or `end` values blank, Python will use their default values. The default value for the `start` index is 0 and the default value for the `end` index is the end of the list."
   ]
  },
  {
   "cell_type": "code",
   "execution_count": null,
   "id": "69d0f378",
   "metadata": {},
   "outputs": [],
   "source": [
    "# You get the same result as above\n",
    "letters_list[:3]"
   ]
  },
  {
   "cell_type": "code",
   "execution_count": null,
   "id": "b75e6197",
   "metadata": {},
   "outputs": [],
   "source": [
    "# Print the whole list\n",
    "letters_list[:]"
   ]
  },
  {
   "cell_type": "markdown",
   "id": "1d442201",
   "metadata": {},
   "source": [
    "#### Mutating lists\n",
    "\n",
    "We can add and remove elements from lists in different ways. One way to remove an element is by using the its index."
   ]
  },
  {
   "cell_type": "code",
   "execution_count": null,
   "id": "6e98ec80",
   "metadata": {},
   "outputs": [],
   "source": [
    "# Remove the first element from the letters list\n",
    "letters_list.pop(0)\n",
    "print(number_list)"
   ]
  },
  {
   "cell_type": "markdown",
   "id": "0590f8e0",
   "metadata": {},
   "source": [
    "To add an element at the end of the list we can use `append()`."
   ]
  },
  {
   "cell_type": "code",
   "execution_count": null,
   "id": "c70f5afe",
   "metadata": {},
   "outputs": [],
   "source": [
    "# Append another letter to the list\n",
    "letters_list.append('j')\n",
    "print(letters_list)"
   ]
  },
  {
   "cell_type": "markdown",
   "id": "f2950e17",
   "metadata": {},
   "source": [
    "Replace values using its index."
   ]
  },
  {
   "cell_type": "code",
   "execution_count": null,
   "id": "b931a23b",
   "metadata": {},
   "outputs": [],
   "source": [
    "# Replace the first element of the letters list\n",
    "print(letters_list)\n",
    "letters_list[0] = \"B\"\n",
    "print(letters_list)"
   ]
  },
  {
   "cell_type": "markdown",
   "id": "035c96f3",
   "metadata": {},
   "source": [
    "Adding two lists will extend the first with the elements of the second."
   ]
  },
  {
   "cell_type": "code",
   "execution_count": null,
   "id": "59bbed55",
   "metadata": {},
   "outputs": [],
   "source": [
    "# Concatenate two lists\n",
    "['a', 'b', 'c'] + ['d', 'e', 'f']"
   ]
  },
  {
   "cell_type": "markdown",
   "id": "b1ea7fe2",
   "metadata": {},
   "source": [
    "<div class=\"alert alert-block alert-success\">\n",
    "<b>Hands-on:</b> Suppose you are making a groceries list\n",
    "<ol>\n",
    "    <li>Define variables for the number of apples, oranges, bananas, tomatoes and carrots you want to buy.</li>\n",
    "    <li>Store those variables inside a list.</li>\n",
    "    <li>Print elements 2 to 4 (inclusive).</li>\n",
    "</ol>\n",
    "</div>"
   ]
  },
  {
   "cell_type": "code",
   "execution_count": null,
   "id": "edf6508b",
   "metadata": {},
   "outputs": [],
   "source": [
    "# Define your variables\n",
    "apples = \n",
    "oranges = \n",
    "bananas = \n",
    "tomatoes = \n",
    "carrots = \n",
    "    \n",
    "# Add them to a list\n",
    "\n",
    "\n",
    "# Print\n"
   ]
  },
  {
   "cell_type": "markdown",
   "id": "6c86e4ed",
   "metadata": {},
   "source": [
    "### Dictionaries\n",
    "\n",
    "Dictionaries are unordered collections of `key:value` pairs. Keys and values can also be of different types."
   ]
  },
  {
   "cell_type": "code",
   "execution_count": null,
   "id": "f568f176",
   "metadata": {},
   "outputs": [],
   "source": [
    "# Create a dictionary\n",
    "workshop_dict = {\"Title\": \"Practical Programming with Python\", \n",
    "                 \"Level\": 2}\n",
    "\n",
    "print(workshop_dict)"
   ]
  },
  {
   "cell_type": "markdown",
   "id": "2d2d1f03",
   "metadata": {},
   "source": [
    "Use keys to retrieve values from a dictionary."
   ]
  },
  {
   "cell_type": "code",
   "execution_count": null,
   "id": "6d6e499e",
   "metadata": {},
   "outputs": [],
   "source": [
    "# Access using key\n",
    "workshop_dict['Title']"
   ]
  },
  {
   "cell_type": "markdown",
   "id": "63c39bf3",
   "metadata": {},
   "source": [
    "Dictionaries, like lists, are also mutable."
   ]
  },
  {
   "cell_type": "code",
   "execution_count": null,
   "id": "96c85c5e",
   "metadata": {},
   "outputs": [],
   "source": [
    "# Replace a value\n",
    "workshop_dict['Level'] = 1\n",
    "print(workshop_dict)"
   ]
  },
  {
   "cell_type": "code",
   "execution_count": null,
   "id": "9acbe973",
   "metadata": {},
   "outputs": [],
   "source": [
    "# Add a new key:value pair\n",
    "workshop_dict['Duration (hrs)'] = 1.5\n",
    "print(workshop_dict)"
   ]
  },
  {
   "cell_type": "markdown",
   "id": "27f2eabd",
   "metadata": {},
   "source": [
    "### Keys and Values\n",
    "\n",
    "To see the keys and values of a dictionary use `keys()` and `values()`."
   ]
  },
  {
   "cell_type": "code",
   "execution_count": null,
   "id": "cc602d7f",
   "metadata": {},
   "outputs": [],
   "source": [
    "# Show the dictionary's keys\n",
    "workshop_dict.keys()"
   ]
  },
  {
   "cell_type": "code",
   "execution_count": null,
   "id": "aa66ac41",
   "metadata": {},
   "outputs": [],
   "source": [
    "# Show the dictionary's values\n",
    "workshop_dict.values()"
   ]
  },
  {
   "cell_type": "markdown",
   "id": "76a2dc27",
   "metadata": {},
   "source": [
    "<div class=\"alert alert-block alert-success\">\n",
    "<b>Hands-on:</b> Turn your groceries list (apples, oranges, bananas, tomatoes and carrots) into a dictionary. Use the names as keys and the amount as values (you can use your previously defined variables, e.g. {\"carrots\": carrots}). Name this dictionary as \"groceries_dict\".\n",
    "</div>"
   ]
  },
  {
   "cell_type": "code",
   "execution_count": null,
   "id": "3b8bce64",
   "metadata": {},
   "outputs": [],
   "source": [
    "# Create the dictionary\n",
    "\n",
    "\n",
    "# Print its contents\n"
   ]
  },
  {
   "cell_type": "markdown",
   "id": "f1b9bafd",
   "metadata": {},
   "source": [
    "## Conditional Statements\n",
    "\n",
    "Everything we have done so far has been executed sequentially. Suppose you want to execute a piece of code only when a specific condition is met.\n",
    "\n",
    "### Logical Expressions\n",
    "\n",
    "Logical expressions return boolean values. For example, we can compare the values of different objects."
   ]
  },
  {
   "cell_type": "code",
   "execution_count": null,
   "id": "001dbe33",
   "metadata": {},
   "outputs": [],
   "source": [
    "# Greater than\n",
    "5 > 3"
   ]
  },
  {
   "cell_type": "code",
   "execution_count": null,
   "id": "2313f10b",
   "metadata": {},
   "outputs": [],
   "source": [
    "# Greater than or equal to\n",
    "7 >= 6"
   ]
  },
  {
   "cell_type": "code",
   "execution_count": null,
   "id": "c4731799",
   "metadata": {},
   "outputs": [],
   "source": [
    "# Less than\n",
    "5 < 3"
   ]
  },
  {
   "cell_type": "code",
   "execution_count": null,
   "id": "3b94e246",
   "metadata": {},
   "outputs": [],
   "source": [
    "# Less than or equal to\n",
    "7 <= 6"
   ]
  },
  {
   "cell_type": "code",
   "execution_count": null,
   "id": "0154e8ec",
   "metadata": {},
   "outputs": [],
   "source": [
    "# Equal\n",
    "\"String\" == \"string\""
   ]
  },
  {
   "cell_type": "code",
   "execution_count": null,
   "id": "d22e93e9",
   "metadata": {},
   "outputs": [],
   "source": [
    "# Not equal\n",
    "\"String\" != \"string\""
   ]
  },
  {
   "cell_type": "markdown",
   "id": "7af23047",
   "metadata": {},
   "source": [
    "### Membership Operators\n",
    "\n",
    "Memberships operators are used to determine whether a value is part of a collection of values (e.g. lists and dictionaries). The membership operators are `in` and `not in`. These will also return boolean values."
   ]
  },
  {
   "cell_type": "code",
   "execution_count": null,
   "id": "6a403827",
   "metadata": {},
   "outputs": [],
   "source": [
    "# Recall the letters list\n",
    "letters_list = ['a', 'b', 'c', 'd', 'e', 'f', 'g', 'h', 'i']"
   ]
  },
  {
   "cell_type": "code",
   "execution_count": null,
   "id": "9d9ea682",
   "metadata": {},
   "outputs": [],
   "source": [
    "# in operator\n",
    "'z' in number_list"
   ]
  },
  {
   "cell_type": "code",
   "execution_count": null,
   "id": "b81346e0",
   "metadata": {},
   "outputs": [],
   "source": [
    "# not in operator\n",
    "'z' not in number_list"
   ]
  },
  {
   "cell_type": "markdown",
   "id": "2aea0f3f",
   "metadata": {},
   "source": [
    "<div class=\"alert alert-block alert-success\">\n",
    "<b>Hands-on:</b> \n",
    "    Use a membership operator to check if the key \"In-Person\" is in our workshop dictionary.\n",
    "</div>"
   ]
  },
  {
   "cell_type": "code",
   "execution_count": null,
   "id": "a9856d12",
   "metadata": {},
   "outputs": [],
   "source": [
    "# Workshop dictionary\n",
    "workshop_dict = {\"Title\": \"Practical Programming with Python\", \n",
    "                 \"Level\": 1, \n",
    "                 \"Duration (hrs)\": 1.5}\n",
    "\n",
    "# Membership\n"
   ]
  },
  {
   "cell_type": "markdown",
   "id": "831c0fa6",
   "metadata": {},
   "source": [
    "### `if` Statements\n",
    "\n",
    "Consider this last hands-on activity. Suppose you wanted to add a new `key:value` pair to our dictionary based on the membership test. In this case we would use an `if` statement.\n",
    "\n",
    "An `if` statement evaluates one or multiple expressions. If the expression evaluates to `True` it will execute a given piece of code and if it evaluates to `False` it will skip the code. Indentation is important.\n",
    "\n",
    "` if expression:` <br>\n",
    "`     code A      ` <br>\n",
    "`               ` <br>\n",
    "`  code B         ` "
   ]
  },
  {
   "cell_type": "markdown",
   "id": "5268d0aa",
   "metadata": {},
   "source": [
    "Suppose you are the instructor of a course and you are assigning letter grades based on the students' percentage scores."
   ]
  },
  {
   "cell_type": "code",
   "execution_count": 5,
   "id": "60003b78",
   "metadata": {},
   "outputs": [
    {
     "name": "stdout",
     "output_type": "stream",
     "text": [
      "A\n"
     ]
    }
   ],
   "source": [
    "# Student's percentage score\n",
    "score = 95\n",
    "grade = ''\n",
    "\n",
    "# If the score is above or equal to 90 assign grade A\n",
    "if score >= 90:\n",
    "    grade = 'A'\n",
    "    \n",
    "# Next piece of code\n",
    "print(grade)"
   ]
  },
  {
   "cell_type": "markdown",
   "id": "c51e1893",
   "metadata": {},
   "source": [
    "### `else` and `elif` Statements\n",
    "\n",
    "What if we need the code to do something different in case the expression evaluates to `False`? We can use `else` and `elif` statements."
   ]
  },
  {
   "cell_type": "code",
   "execution_count": null,
   "id": "0bf436a3",
   "metadata": {},
   "outputs": [],
   "source": [
    "# Student's percentage score\n",
    "score = 85\n",
    "grade = ''\n",
    "\n",
    "# If the score is above or equal to 90 assign grade A\n",
    "if score >= 90:\n",
    "    grade = 'A'\n",
    "    \n",
    "# If the score is above or equal to 75 assign grade B\n",
    "elif score >= 75:\n",
    "    grade = 'B'\n",
    "    \n",
    "# If the score is above or equal to 65 assign grade C\n",
    "elif score >= 65:\n",
    "    grade = 'C'\n",
    "    \n",
    "# If the score is below 65 assign grade F\n",
    "else:\n",
    "    grade = 'F'\n",
    "    \n",
    "# Next piece of code\n",
    "print(grade)"
   ]
  },
  {
   "cell_type": "markdown",
   "id": "a276ccef",
   "metadata": {},
   "source": [
    "We can add as many `elif` statements as we want."
   ]
  },
  {
   "cell_type": "markdown",
   "id": "b80d353a",
   "metadata": {},
   "source": [
    "<div class=\"alert alert-block alert-success\">\n",
    "    <b>Hands-on:</b> Below you will find a list with the name of an item as the first element and the amount as the second. Write a piece of code that would check if the item is already in your shopping dictionary. If it isn't, add it to the dictionary. If the item is already on your list, print a message saying it's already there.\n",
    "</div>"
   ]
  },
  {
   "cell_type": "code",
   "execution_count": null,
   "id": "36e8ff0d",
   "metadata": {},
   "outputs": [],
   "source": [
    "# Item to add\n",
    "new_item = ['onions', 3.7]\n",
    "\n",
    "# Create your conditional statements here\n"
   ]
  },
  {
   "cell_type": "markdown",
   "id": "244a96fa",
   "metadata": {},
   "source": [
    "## Functions and Methods\n",
    "\n",
    "Functions are reusable pieces of code that perform a particular task. We already know some functions:\n",
    "\n",
    "* `print()`\n",
    "* `type()`\n",
    "* `int()`\n",
    "* `str()`\n",
    "* `bool()`\n",
    "\n",
    "The arguments of the function are writen within the parentheses.\n",
    "\n",
    "### Function Definition\n",
    "\n",
    "To create our own function use the keyword `def`."
   ]
  },
  {
   "cell_type": "code",
   "execution_count": null,
   "id": "18287d52",
   "metadata": {},
   "outputs": [],
   "source": [
    "# Define a function\n",
    "def add_numbers(num1, num2, num3):\n",
    "    print(num1 + num2 + num3)\n",
    "    \n",
    "# Add any three numbers\n",
    "add_numbers(10, 3, 2)"
   ]
  },
  {
   "cell_type": "markdown",
   "id": "3250eb3b",
   "metadata": {},
   "source": [
    "If instead we want to save the result in another variable, use the keyword `return`."
   ]
  },
  {
   "cell_type": "code",
   "execution_count": null,
   "id": "e38baafc",
   "metadata": {},
   "outputs": [],
   "source": [
    "# Redefine the function\n",
    "def add_numbers(num1, num2, num3):\n",
    "    return num1 + num2 + num3\n",
    "\n",
    "# Save the result\n",
    "result = add_numbers(10, 3, 2)\n",
    "\n",
    "# You can later do something else with the result\n",
    "print(result - 5)"
   ]
  },
  {
   "cell_type": "markdown",
   "id": "e5225587",
   "metadata": {},
   "source": [
    "We can add documentation to the function definition."
   ]
  },
  {
   "cell_type": "code",
   "execution_count": null,
   "id": "f1e1ceaa",
   "metadata": {},
   "outputs": [],
   "source": [
    "# Define a function with documentation\n",
    "def add_numbers(num1, num2, num3):\n",
    "    \"\"\" \n",
    "    Returns the sum of 3 numbers.\n",
    "    \"\"\"\n",
    "    return num1 + num2 + num3\n",
    "\n",
    "help(add_numbers)"
   ]
  },
  {
   "cell_type": "markdown",
   "id": "6003c1d3",
   "metadata": {},
   "source": [
    "<div class=\"alert alert-block alert-warning\">\n",
    "<b>Note:</b> To create multiline comments in Python, you can use triple single or triple double quotation marks.\n",
    "</div>"
   ]
  },
  {
   "cell_type": "markdown",
   "id": "e82809e7",
   "metadata": {},
   "source": [
    "<div class=\"alert alert-block alert-success\">\n",
    "<b>Hands-on:</b> \n",
    "    Turn your last hands-on activity into a function called \"add_to_groceries()\" that would work for any similar groceries dictionary and list. Test it using the given list.\n",
    "</div>"
   ]
  },
  {
   "cell_type": "code",
   "execution_count": null,
   "id": "bbfbb292",
   "metadata": {},
   "outputs": [],
   "source": [
    "# Define the function\n",
    "\n",
    "\n",
    "# Test it with this list\n",
    "another_item = ['Mangoes', 40]"
   ]
  },
  {
   "cell_type": "markdown",
   "id": "9afaabcd",
   "metadata": {},
   "source": [
    "### Methods\n",
    "\n",
    "Methods are functions associated with an object. For example, the functions we used to mutate a list (`pop()` and `append()`) are methods of a list object. Methods are called using a dot ('.') in front of the object."
   ]
  },
  {
   "cell_type": "code",
   "execution_count": null,
   "id": "32ce34a7",
   "metadata": {},
   "outputs": [],
   "source": [
    "# Make list\n",
    "lst = ['a', 'b', 'c']\n",
    "\n",
    "# Use the pop() method\n",
    "lst.pop(0)\n",
    "\n",
    "# Print the result\n",
    "print(lst)"
   ]
  },
  {
   "cell_type": "markdown",
   "id": "439bfc0b",
   "metadata": {},
   "source": [
    "## Scripts, Modules, Packages and Libraries\n",
    "\n",
    "Variables and functions can be stored in Python files for you and other people to use. \n",
    "\n",
    "- A **script** is a Python file that contains instructions to do something. Intended to be run directly.\n",
    "- A **module** is also a Python file, but contains defined functions, classes and variables intended to be used outside of the file. \n",
    "- Python **packages** and **libraries** are collections of related modules.\n",
    "\n",
    "Some important libraries in Python are:\n",
    "\n",
    "- pandas\n",
    "- numpy\n",
    "- scikit-learn\n",
    "- matplotlib\n",
    "\n",
    "To use these modules in your scripts, Python has the `import` statement."
   ]
  },
  {
   "cell_type": "code",
   "execution_count": null,
   "id": "861a4a49",
   "metadata": {},
   "outputs": [],
   "source": [
    "# Basic Python import\n",
    "import numpy\n",
    "\n",
    "numpy.core.pi"
   ]
  },
  {
   "cell_type": "code",
   "execution_count": null,
   "id": "51f5c132",
   "metadata": {},
   "outputs": [],
   "source": [
    "# Import with an alias\n",
    "import numpy as np\n",
    "\n",
    "np.core.pi"
   ]
  },
  {
   "cell_type": "code",
   "execution_count": null,
   "id": "5da75626",
   "metadata": {},
   "outputs": [],
   "source": [
    "# Only import the constant\n",
    "from numpy.core import pi\n",
    "\n",
    "pi"
   ]
  },
  {
   "cell_type": "code",
   "execution_count": null,
   "id": "bf063e49",
   "metadata": {},
   "outputs": [],
   "source": [
    "# Functions inside a module\n",
    "from numpy import random\n",
    "\n",
    "random.randint(2, 10)"
   ]
  },
  {
   "cell_type": "code",
   "execution_count": null,
   "id": "441422e3",
   "metadata": {},
   "outputs": [],
   "source": [
    "# Import a function and give an alias\n",
    "from numpy.random import randint as rint\n",
    "\n",
    "rint(2, 10)"
   ]
  },
  {
   "cell_type": "markdown",
   "id": "63757eac",
   "metadata": {},
   "source": [
    "## For Loops\n",
    "\n",
    "We have seen how useful functions are to try multiple inputs. However, we may want to try thousands of different inputs and trying each one by hand may become cumbersome.\n",
    "\n",
    "For loops are used to iterate over the elements of a sequence. For example, we can iterate over a sequence of numbers."
   ]
  },
  {
   "cell_type": "code",
   "execution_count": null,
   "id": "780390a4",
   "metadata": {},
   "outputs": [],
   "source": [
    "# Simple for loop\n",
    "for i in range(10):\n",
    "    print(i)"
   ]
  },
  {
   "cell_type": "markdown",
   "id": "dcd58182",
   "metadata": {},
   "source": [
    "The function `range(n)` returns a sequence of numbers from 0 to n - 1 in increments of 1. To change the start position add an additional argument."
   ]
  },
  {
   "cell_type": "code",
   "execution_count": null,
   "id": "71182d75",
   "metadata": {},
   "outputs": [],
   "source": [
    "# Iterate over a sequence 4 to 10\n",
    "for i in range(2, 11):\n",
    "    print(i)"
   ]
  },
  {
   "cell_type": "markdown",
   "id": "a028fbee",
   "metadata": {},
   "source": [
    "To iterate over a list, simply substitute the `range()` function for the list."
   ]
  },
  {
   "cell_type": "code",
   "execution_count": null,
   "id": "aeb130a9",
   "metadata": {},
   "outputs": [],
   "source": [
    "# Create a list\n",
    "uppercase = ['A', 'B', 'C', 'D', 'E']\n",
    "\n",
    "# Iterate over the list\n",
    "for letter in uppercase:\n",
    "    print(letter)"
   ]
  },
  {
   "cell_type": "markdown",
   "id": "2b704920",
   "metadata": {},
   "source": [
    "<div class=\"alert alert-block alert-success\">\n",
    "    <b>Hands-on:</b> Make a list of inputs for your groceries function with these items:\n",
    "<ul>\n",
    "    <li>Mangoes: 40</li>\n",
    "    <li>Watermelons: pi</li>\n",
    "    <li>Peppers: 3</li>\n",
    "    <li>Bananas: 1.5</li>\n",
    "    <li>Strawberries: 15</li>\n",
    "    <li>Limes: np.e (the e constant from Numpy)</li>\n",
    "</ul>\n",
    "\n",
    "Iterate over this list to add these items to your groceries list.\n",
    "</div>"
   ]
  },
  {
   "cell_type": "markdown",
   "id": "298b5dd4",
   "metadata": {},
   "source": [
    "## Turtle\n",
    "\n",
    "_Turtle_ is a pre-installed Python module that allows us to draw shapes using a turtle.\n",
    "\n",
    "To initialize it, simply create an instance of the turtle.\n",
    "\n",
    "### Movement\n",
    "\n",
    "The turtle acts like a pen, so to draw any figure move the turtle in the forward and backward directions with the `forward()` and `backward()` methods. To change the turtle's direction with the `left()` and `right()` methods.\n",
    "\n",
    "The `forward()` and `backward()` methods take the distance in pixels you want the turtle to move.\n",
    "\n",
    "The `left()` and `right()` methods take as argument the degrees you want the turtle to move."
   ]
  },
  {
   "cell_type": "code",
   "execution_count": null,
   "id": "70b3e3a6",
   "metadata": {},
   "outputs": [],
   "source": [
    "import turtle\n",
    "\n",
    "# Turtle instance\n",
    "t = turtle.Turtle()\n",
    "\n",
    "# Move forward 100 pixels\n",
    "t.forward(100)\n",
    "\n",
    "# Rotate 90 degrees to the left\n",
    "t.left(90)\n",
    "\n",
    "# Rotate 90 degrees to the right\n",
    "t.right(90)"
   ]
  },
  {
   "cell_type": "markdown",
   "id": "cecda807",
   "metadata": {},
   "source": [
    "Reset the turtle with the `reset()` method."
   ]
  },
  {
   "cell_type": "code",
   "execution_count": null,
   "id": "795385f5",
   "metadata": {},
   "outputs": [],
   "source": [
    "# Reset the turtle\n",
    "t.reset()"
   ]
  },
  {
   "cell_type": "markdown",
   "id": "f3fccbd8",
   "metadata": {},
   "source": [
    "<div class=\"alert alert-block alert-success\">\n",
    "<b>Hands-on:</b> \n",
    "    Draw a square of 100 pixels on each side.\n",
    "</div>"
   ]
  },
  {
   "cell_type": "code",
   "execution_count": null,
   "id": "1314ee37",
   "metadata": {},
   "outputs": [],
   "source": [
    "# Draw a square\n"
   ]
  },
  {
   "cell_type": "markdown",
   "id": "a187adfd",
   "metadata": {},
   "source": [
    "Note that the same lines of code were repeated when you draw a square. To avoid this, we can use for loops."
   ]
  },
  {
   "cell_type": "code",
   "execution_count": null,
   "id": "d66115b6",
   "metadata": {},
   "outputs": [],
   "source": [
    "# Draw a square with a for loop\n",
    "for i in range(4):\n",
    "    t.forward(100)\n",
    "    t.left(90)"
   ]
  },
  {
   "cell_type": "markdown",
   "id": "6b3cf8df",
   "metadata": {},
   "source": [
    "You can draw more complicated figures, such as hexagon by changing a couple things."
   ]
  },
  {
   "cell_type": "markdown",
   "id": "31929cf1",
   "metadata": {},
   "source": [
    "<div class=\"alert alert-block alert-success\">\n",
    "<b>Hands-on:</b> \n",
    "    Turn this into a function that would draw any polygon with a given side length. Try different number of sides and lengths. Draw something as close to a circle as you can.\n",
    "</div>"
   ]
  },
  {
   "cell_type": "code",
   "execution_count": null,
   "id": "2debc837",
   "metadata": {},
   "outputs": [],
   "source": [
    "# Draw a hexagon\n",
    "for i in range(6):\n",
    "    t.forward(100)\n",
    "    t.left(360 / 6)"
   ]
  },
  {
   "cell_type": "code",
   "execution_count": null,
   "id": "83a839bd",
   "metadata": {},
   "outputs": [],
   "source": [
    "# Create a function\n",
    "\n",
    "\n",
    "# Draw a circle\n"
   ]
  }
 ],
 "metadata": {
  "kernelspec": {
   "display_name": "Python 3 (ipykernel)",
   "language": "python",
   "name": "python3"
  },
  "language_info": {
   "codemirror_mode": {
    "name": "ipython",
    "version": 3
   },
   "file_extension": ".py",
   "mimetype": "text/x-python",
   "name": "python",
   "nbconvert_exporter": "python",
   "pygments_lexer": "ipython3",
   "version": "3.10.8"
  }
 },
 "nbformat": 4,
 "nbformat_minor": 5
}

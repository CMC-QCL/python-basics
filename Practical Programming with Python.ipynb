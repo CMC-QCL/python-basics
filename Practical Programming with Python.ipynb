{
 "cells": [
  {
   "cell_type": "markdown",
   "id": "0ef8ad25",
   "metadata": {},
   "source": [
    "# Practical Programming with Python\n",
    "\n",
    "Welcome to the QCL Workshop **Practical Programming with Python**.\n",
    "\n",
    "This is a Level 1 Workshop. No programming experience is required, but some familiarity with another programming language will be useful.\n",
    "\n",
    "![](https://bit.ly/3Xsv9hf)"
   ]
  },
  {
   "cell_type": "markdown",
   "id": "de65fb87",
   "metadata": {},
   "source": [
    "## Today's Agenda\n",
    "\n",
    "* Python\n",
    "* Variables and Types\n",
    "* Data Structures\n",
    "* Conditional Statements\n",
    "* Functions\n",
    "* Scripts and Libraries\n",
    "* For Loops\n",
    "* Turtle"
   ]
  },
  {
   "cell_type": "markdown",
   "id": "1c0baf52",
   "metadata": {},
   "source": [
    "## Python\n",
    "\n",
    "Python is one of the most popular programming languages. Some of the characteristics that make Python a great programming language are:\n",
    "\n",
    "* It is open source and has a large community of developers.\n",
    "* Has a simple and easy to read syntax (beginner-friendly and maintainable code).\n",
    "* It is an iterpreted language (great for scripting).\n",
    "* It is powerful enough to build robust and efficient applications.\n",
    "\n",
    "Some of the things you can do with Python are:\n",
    "\n",
    "* Create Graphical User Interfaces (GUIs)\n",
    "* Web development\n",
    "* Data Analysis & Machine Learning\n",
    "* Automation of repetitive tasks (renaming files, cleaning data, web scraping)\n",
    "\n",
    "Fun fact: Python was named in honor to the British comedy group, Monty Python.\n",
    "\n",
    "![](https://bit.ly/monty-py)"
   ]
  },
  {
   "cell_type": "markdown",
   "id": "9fb16cde",
   "metadata": {},
   "source": [
    "## Variables and Types\n",
    "\n",
    "Variables are containers we can use to store our data.\n",
    "\n",
    "You do not need to declare the data type. Instead, Python will determine the type based on the value you assign. For example, we can assign integers, floats and strings by simply typing:"
   ]
  },
  {
   "cell_type": "code",
   "execution_count": 1,
   "id": "60b5aea5",
   "metadata": {},
   "outputs": [],
   "source": [
    "var1 = 10  # This is an integer\n",
    "var2 = 5.45  # This is a float\n",
    "var3 = \"QCL\"  # This is a string"
   ]
  },
  {
   "cell_type": "markdown",
   "id": "e116605e",
   "metadata": {},
   "source": [
    "<div class=\"alert alert-block alert-warning\">\n",
    "<b>Note:</b> In Python you start any single-line comments with the \"#\" sign.\n",
    "</div>"
   ]
  },
  {
   "cell_type": "markdown",
   "id": "3c1f16b5",
   "metadata": {},
   "source": [
    "Strings can use single or double quotation marks."
   ]
  },
  {
   "cell_type": "code",
   "execution_count": 2,
   "id": "058d82c3",
   "metadata": {},
   "outputs": [],
   "source": [
    "single = 'This is a string'\n",
    "double = \"This is also a string\"\n",
    "double_single = \"This has 'single' quotation marks\""
   ]
  },
  {
   "cell_type": "markdown",
   "id": "557db2f3",
   "metadata": {},
   "source": [
    "To print variables in Python use `print()`."
   ]
  },
  {
   "cell_type": "code",
   "execution_count": 3,
   "id": "9e591738",
   "metadata": {},
   "outputs": [
    {
     "name": "stdout",
     "output_type": "stream",
     "text": [
      "This has 'single' quotation marks\n"
     ]
    }
   ],
   "source": [
    "# Print any variable\n",
    "print(double_single)"
   ]
  },
  {
   "cell_type": "markdown",
   "id": "49b34e72",
   "metadata": {},
   "source": [
    "In a Jupyter notebook you can also just call the variable, but only the last call will be shown."
   ]
  },
  {
   "cell_type": "code",
   "execution_count": 4,
   "id": "5062a44a",
   "metadata": {},
   "outputs": [
    {
     "data": {
      "text/plain": [
       "'This is also a string'"
      ]
     },
     "execution_count": 4,
     "metadata": {},
     "output_type": "execute_result"
    }
   ],
   "source": [
    "single\n",
    "double"
   ]
  },
  {
   "cell_type": "markdown",
   "id": "066277ab",
   "metadata": {},
   "source": [
    "You can inspect the type of any variable by using `type()`."
   ]
  },
  {
   "cell_type": "code",
   "execution_count": 5,
   "id": "cc85ee60",
   "metadata": {},
   "outputs": [
    {
     "data": {
      "text/plain": [
       "int"
      ]
     },
     "execution_count": 5,
     "metadata": {},
     "output_type": "execute_result"
    }
   ],
   "source": [
    "# Determine the variables' type\n",
    "type(var1)"
   ]
  },
  {
   "cell_type": "markdown",
   "id": "873443ec",
   "metadata": {},
   "source": [
    "### Naming Variables\n",
    "\n",
    "Names in Python can be written using lowercase and upercase letters, numbers and the underscore special character (\\_). However, the first character in any name cannot be a number.\n",
    "\n",
    "Writing readable code in any language is important. According to Python's creator, Guido van Rossum, \"Code is read much more often than it is written\". To write readable code, Python has established a format guide, including naming conventions for variables."
   ]
  },
  {
   "cell_type": "code",
   "execution_count": 6,
   "id": "0dd4c92c",
   "metadata": {},
   "outputs": [],
   "source": [
    "# Examples of readable variables names\n",
    "my_variable = 5\n",
    "workshop_name = \"Practical Programming with Python\""
   ]
  },
  {
   "cell_type": "markdown",
   "id": "8bbfd688",
   "metadata": {},
   "source": [
    "You can find all guidelines and best practices on how to write \"Pythonic\" code in the Python Enhancement Proposal (PEP) 8 at https://peps.python.org/pep-0008/. Additionally, The Zen of Python describes Python's guiding principles. It can be displayed as an \"easter egg\"."
   ]
  },
  {
   "cell_type": "code",
   "execution_count": 7,
   "id": "5be71a01",
   "metadata": {},
   "outputs": [
    {
     "name": "stdout",
     "output_type": "stream",
     "text": [
      "The Zen of Python, by Tim Peters\n",
      "\n",
      "Beautiful is better than ugly.\n",
      "Explicit is better than implicit.\n",
      "Simple is better than complex.\n",
      "Complex is better than complicated.\n",
      "Flat is better than nested.\n",
      "Sparse is better than dense.\n",
      "Readability counts.\n",
      "Special cases aren't special enough to break the rules.\n",
      "Although practicality beats purity.\n",
      "Errors should never pass silently.\n",
      "Unless explicitly silenced.\n",
      "In the face of ambiguity, refuse the temptation to guess.\n",
      "There should be one-- and preferably only one --obvious way to do it.\n",
      "Although that way may not be obvious at first unless you're Dutch.\n",
      "Now is better than never.\n",
      "Although never is often better than *right* now.\n",
      "If the implementation is hard to explain, it's a bad idea.\n",
      "If the implementation is easy to explain, it may be a good idea.\n",
      "Namespaces are one honking great idea -- let's do more of those!\n"
     ]
    }
   ],
   "source": [
    "import this"
   ]
  },
  {
   "cell_type": "markdown",
   "id": "70ed8054",
   "metadata": {},
   "source": [
    "### Python Keywords\n",
    "\n",
    "Certain words cannot be used as names. These are reserved for special functionality within Python. You can see the full list within Python."
   ]
  },
  {
   "cell_type": "code",
   "execution_count": 8,
   "id": "db1f4861",
   "metadata": {},
   "outputs": [
    {
     "name": "stdout",
     "output_type": "stream",
     "text": [
      "\n",
      "Here is a list of the Python keywords.  Enter any keyword to get more help.\n",
      "\n",
      "False               class               from                or\n",
      "None                continue            global              pass\n",
      "True                def                 if                  raise\n",
      "and                 del                 import              return\n",
      "as                  elif                in                  try\n",
      "assert              else                is                  while\n",
      "async               except              lambda              with\n",
      "await               finally             nonlocal            yield\n",
      "break               for                 not                 \n",
      "\n"
     ]
    }
   ],
   "source": [
    "# Full list of keywords\n",
    "help(\"keywords\")"
   ]
  },
  {
   "cell_type": "markdown",
   "id": "4b8b92b8",
   "metadata": {},
   "source": [
    "Python is case-sensitive, so you cannot use \"None\" as a name, but you can use \"none\" in lowercase."
   ]
  },
  {
   "cell_type": "markdown",
   "id": "2527aeb8",
   "metadata": {},
   "source": [
    "### Type behaviour\n",
    "\n",
    "Different data types will behave differently."
   ]
  },
  {
   "cell_type": "code",
   "execution_count": 9,
   "id": "3f47aa16",
   "metadata": {},
   "outputs": [
    {
     "data": {
      "text/plain": [
       "5"
      ]
     },
     "execution_count": 9,
     "metadata": {},
     "output_type": "execute_result"
    }
   ],
   "source": [
    "# Addition with integers and floats\n",
    "4 + 1"
   ]
  },
  {
   "cell_type": "code",
   "execution_count": 10,
   "id": "2fc758a9",
   "metadata": {},
   "outputs": [
    {
     "data": {
      "text/plain": [
       "'ILovePython'"
      ]
     },
     "execution_count": 10,
     "metadata": {},
     "output_type": "execute_result"
    }
   ],
   "source": [
    "# Addition with strings\n",
    "\"I\" + \"Love\" + \"Python\""
   ]
  },
  {
   "cell_type": "code",
   "execution_count": 11,
   "id": "5c4a03ba",
   "metadata": {},
   "outputs": [
    {
     "data": {
      "text/plain": [
       "1"
      ]
     },
     "execution_count": 11,
     "metadata": {},
     "output_type": "execute_result"
    }
   ],
   "source": [
    "# Addition with booleans\n",
    "True + False"
   ]
  },
  {
   "cell_type": "markdown",
   "id": "ce68e886",
   "metadata": {},
   "source": [
    "<div class=\"alert alert-block alert-success\">\n",
    "<b>Hands-on:</b> \n",
    "    Try adding the following:\n",
    "<ol>\n",
    "    <li>True and False values with a number.</li>\n",
    "    <li>True and False values with a string.</li>\n",
    "    <li>Numbers with a string..</li>\n",
    "</ol>\n",
    "</div>"
   ]
  },
  {
   "cell_type": "code",
   "execution_count": 12,
   "id": "f1a9ecc2",
   "metadata": {},
   "outputs": [],
   "source": [
    "# Add boolean and number"
   ]
  },
  {
   "cell_type": "code",
   "execution_count": 13,
   "id": "d2ce7815",
   "metadata": {},
   "outputs": [],
   "source": [
    "# Add boolean and string"
   ]
  },
  {
   "cell_type": "code",
   "execution_count": 14,
   "id": "7d82e6b9",
   "metadata": {},
   "outputs": [],
   "source": [
    "# Add number and string"
   ]
  },
  {
   "cell_type": "markdown",
   "id": "472de0c8",
   "metadata": {},
   "source": [
    "### Type conversion\n",
    "\n",
    "You can also convert between data types."
   ]
  },
  {
   "cell_type": "code",
   "execution_count": 15,
   "id": "f65d02aa",
   "metadata": {},
   "outputs": [
    {
     "data": {
      "text/plain": [
       "5"
      ]
     },
     "execution_count": 15,
     "metadata": {},
     "output_type": "execute_result"
    }
   ],
   "source": [
    "# Convert to integer\n",
    "int(5.5)"
   ]
  },
  {
   "cell_type": "code",
   "execution_count": 16,
   "id": "426ce55d",
   "metadata": {},
   "outputs": [
    {
     "data": {
      "text/plain": [
       "3.0"
      ]
     },
     "execution_count": 16,
     "metadata": {},
     "output_type": "execute_result"
    }
   ],
   "source": [
    "# Convert to float\n",
    "float(3)"
   ]
  },
  {
   "cell_type": "code",
   "execution_count": 17,
   "id": "bd91bd7c",
   "metadata": {},
   "outputs": [
    {
     "data": {
      "text/plain": [
       "'3.1416'"
      ]
     },
     "execution_count": 17,
     "metadata": {},
     "output_type": "execute_result"
    }
   ],
   "source": [
    "# Convert to string\n",
    "str(3.1416)"
   ]
  },
  {
   "cell_type": "code",
   "execution_count": 18,
   "id": "9ee7eed1",
   "metadata": {},
   "outputs": [
    {
     "data": {
      "text/plain": [
       "True"
      ]
     },
     "execution_count": 18,
     "metadata": {},
     "output_type": "execute_result"
    }
   ],
   "source": [
    "# Convert to boolean\n",
    "bool(-1)"
   ]
  },
  {
   "cell_type": "markdown",
   "id": "ac43e644",
   "metadata": {},
   "source": [
    "### Operations in Python\n",
    "\n",
    "You can do basic calculations with Python."
   ]
  },
  {
   "cell_type": "code",
   "execution_count": 19,
   "id": "5fe72f8c",
   "metadata": {},
   "outputs": [
    {
     "data": {
      "text/plain": [
       "18"
      ]
     },
     "execution_count": 19,
     "metadata": {},
     "output_type": "execute_result"
    }
   ],
   "source": [
    "# Multiplication\n",
    "3 * 6"
   ]
  },
  {
   "cell_type": "code",
   "execution_count": 20,
   "id": "3d66a185",
   "metadata": {},
   "outputs": [
    {
     "data": {
      "text/plain": [
       "1.5"
      ]
     },
     "execution_count": 20,
     "metadata": {},
     "output_type": "execute_result"
    }
   ],
   "source": [
    "# Division\n",
    "6 / 4"
   ]
  },
  {
   "cell_type": "code",
   "execution_count": 21,
   "id": "58253a6b",
   "metadata": {},
   "outputs": [
    {
     "data": {
      "text/plain": [
       "1"
      ]
     },
     "execution_count": 21,
     "metadata": {},
     "output_type": "execute_result"
    }
   ],
   "source": [
    "# Floor division\n",
    "6 // 4"
   ]
  },
  {
   "cell_type": "code",
   "execution_count": 22,
   "id": "f182fe95",
   "metadata": {},
   "outputs": [
    {
     "data": {
      "text/plain": [
       "2"
      ]
     },
     "execution_count": 22,
     "metadata": {},
     "output_type": "execute_result"
    }
   ],
   "source": [
    "# Modulus\n",
    "6 % 4"
   ]
  },
  {
   "cell_type": "code",
   "execution_count": 23,
   "id": "6567c615",
   "metadata": {},
   "outputs": [
    {
     "data": {
      "text/plain": [
       "8"
      ]
     },
     "execution_count": 23,
     "metadata": {},
     "output_type": "execute_result"
    }
   ],
   "source": [
    "# Exponentiation\n",
    "2 ** 3"
   ]
  },
  {
   "cell_type": "markdown",
   "id": "bc704ab0",
   "metadata": {},
   "source": [
    "<div class=\"alert alert-block alert-success\">\n",
    "<b>Hands-on:</b> \n",
    "<ol>\n",
    "    <li>Compute $3(5 + 3)$ and assign it to a variable called \"result\".</li>\n",
    "    <li>Convert the result to a string and assign it to \"result_str\".</li>\n",
    "    <li>Run print(\"The result of the operation is: \" + result_str).</li>\n",
    "</ol>\n",
    "</div>"
   ]
  },
  {
   "cell_type": "code",
   "execution_count": 24,
   "id": "295a530a",
   "metadata": {},
   "outputs": [],
   "source": [
    "# Create the variable \"result\"\n",
    "\n",
    "\n",
    "# Create the variable \"result_str\"\n",
    "\n",
    "\n",
    "# Print the result\n"
   ]
  },
  {
   "cell_type": "markdown",
   "id": "fe0aca71",
   "metadata": {},
   "source": [
    "## Data Structures\n",
    "\n",
    "Data structures are ways to organize your data. The most commonly used data structures in Python are lists and dictionaries.\n",
    "\n",
    "### Lists\n",
    "\n",
    "A list is an ordered collection of elements. To create a list in Python do the following:"
   ]
  },
  {
   "cell_type": "code",
   "execution_count": 25,
   "id": "59ca5114",
   "metadata": {},
   "outputs": [
    {
     "name": "stdout",
     "output_type": "stream",
     "text": [
      "[1, 2, 3, 4]\n"
     ]
    }
   ],
   "source": [
    "# Create a list\n",
    "number_list = [1, 2, 3, 4]\n",
    "print(number_list)"
   ]
  },
  {
   "cell_type": "markdown",
   "id": "da4eb9ef",
   "metadata": {},
   "source": [
    "Lists can contain any data type. Lists can also contain multiple data types."
   ]
  },
  {
   "cell_type": "code",
   "execution_count": 26,
   "id": "ca49bbd9",
   "metadata": {},
   "outputs": [
    {
     "name": "stdout",
     "output_type": "stream",
     "text": [
      "[1, 2, '3', '4', True]\n"
     ]
    }
   ],
   "source": [
    "# Multiple data types\n",
    "multiple_types_list = [1, 2, \"3\", \"4\", True]\n",
    "print(multiple_types_list)"
   ]
  },
  {
   "cell_type": "markdown",
   "id": "762ae8f1",
   "metadata": {},
   "source": [
    "Let's check the type of these objects."
   ]
  },
  {
   "cell_type": "code",
   "execution_count": 27,
   "id": "1f7d5483",
   "metadata": {},
   "outputs": [
    {
     "data": {
      "text/plain": [
       "list"
      ]
     },
     "execution_count": 27,
     "metadata": {},
     "output_type": "execute_result"
    }
   ],
   "source": [
    "# List type\n",
    "type(number_list)"
   ]
  },
  {
   "cell_type": "markdown",
   "id": "cebabcb6",
   "metadata": {},
   "source": [
    "#### Slicing lists\n",
    "\n",
    "To access an element in a list use its index. Python lists are zero-indexed."
   ]
  },
  {
   "cell_type": "code",
   "execution_count": 28,
   "id": "45e85c25",
   "metadata": {},
   "outputs": [
    {
     "data": {
      "text/plain": [
       "1"
      ]
     },
     "execution_count": 28,
     "metadata": {},
     "output_type": "execute_result"
    }
   ],
   "source": [
    "# First element in our number list\n",
    "number_list[0]"
   ]
  },
  {
   "cell_type": "code",
   "execution_count": 29,
   "id": "4115a7af",
   "metadata": {},
   "outputs": [
    {
     "data": {
      "text/plain": [
       "4"
      ]
     },
     "execution_count": 29,
     "metadata": {},
     "output_type": "execute_result"
    }
   ],
   "source": [
    "# Last element in our number list\n",
    "number_list[-1]"
   ]
  },
  {
   "cell_type": "markdown",
   "id": "13399b9e",
   "metadata": {},
   "source": [
    "To access multiple elements use the slicing operator `[start:end]`. The start index is included, but the end index is not."
   ]
  },
  {
   "cell_type": "code",
   "execution_count": 30,
   "id": "66d77d9e",
   "metadata": {},
   "outputs": [
    {
     "data": {
      "text/plain": [
       "[1, 2, 3]"
      ]
     },
     "execution_count": 30,
     "metadata": {},
     "output_type": "execute_result"
    }
   ],
   "source": [
    "# Access the first to third elements\n",
    "number_list[0:3]"
   ]
  },
  {
   "cell_type": "markdown",
   "id": "70292865",
   "metadata": {},
   "source": [
    "If we leave the `start` or `end` values blank, Python will use their default values. The default value for the `start` index is 0 and the default value for the `end` index is the end of the list."
   ]
  },
  {
   "cell_type": "code",
   "execution_count": 31,
   "id": "69d0f378",
   "metadata": {},
   "outputs": [
    {
     "data": {
      "text/plain": [
       "[1, 2, 3]"
      ]
     },
     "execution_count": 31,
     "metadata": {},
     "output_type": "execute_result"
    }
   ],
   "source": [
    "# You get the same result as above\n",
    "number_list[:3]"
   ]
  },
  {
   "cell_type": "code",
   "execution_count": 32,
   "id": "b75e6197",
   "metadata": {},
   "outputs": [
    {
     "data": {
      "text/plain": [
       "[1, 2, 3, 4]"
      ]
     },
     "execution_count": 32,
     "metadata": {},
     "output_type": "execute_result"
    }
   ],
   "source": [
    "# Print the whole list\n",
    "number_list[:]"
   ]
  },
  {
   "cell_type": "markdown",
   "id": "1d442201",
   "metadata": {},
   "source": [
    "#### Mutating lists\n",
    "\n",
    "We can add and remove elements from lists in different ways. One way to remove an element is by using the its index."
   ]
  },
  {
   "cell_type": "code",
   "execution_count": 33,
   "id": "6e98ec80",
   "metadata": {},
   "outputs": [
    {
     "name": "stdout",
     "output_type": "stream",
     "text": [
      "[2, 3, 4]\n"
     ]
    }
   ],
   "source": [
    "# Remove the first element from the number list\n",
    "number_list.pop(0)\n",
    "print(number_list)"
   ]
  },
  {
   "cell_type": "markdown",
   "id": "0590f8e0",
   "metadata": {},
   "source": [
    "To add an element at the end of the list we can use `append()`."
   ]
  },
  {
   "cell_type": "code",
   "execution_count": 34,
   "id": "c70f5afe",
   "metadata": {},
   "outputs": [
    {
     "name": "stdout",
     "output_type": "stream",
     "text": [
      "[2, 3, 4, 5]\n"
     ]
    }
   ],
   "source": [
    "# Append another number to the list\n",
    "number_list.append(5)\n",
    "print(number_list)"
   ]
  },
  {
   "cell_type": "markdown",
   "id": "f2950e17",
   "metadata": {},
   "source": [
    "Replace values using its index."
   ]
  },
  {
   "cell_type": "code",
   "execution_count": 35,
   "id": "b931a23b",
   "metadata": {},
   "outputs": [
    {
     "name": "stdout",
     "output_type": "stream",
     "text": [
      "['one', 3, 4, 5]\n"
     ]
    }
   ],
   "source": [
    "# Replace the first element of the numbers list\n",
    "number_list[0] = \"one\"\n",
    "print(number_list)"
   ]
  },
  {
   "cell_type": "markdown",
   "id": "035c96f3",
   "metadata": {},
   "source": [
    "Adding two lists will extend the first with the elements of the second."
   ]
  },
  {
   "cell_type": "code",
   "execution_count": 36,
   "id": "59bbed55",
   "metadata": {},
   "outputs": [
    {
     "data": {
      "text/plain": [
       "['a', 'b', 'c', 'd', 'e', 'f']"
      ]
     },
     "execution_count": 36,
     "metadata": {},
     "output_type": "execute_result"
    }
   ],
   "source": [
    "# Concatenate two lists\n",
    "['a', 'b', 'c'] + ['d', 'e', 'f']"
   ]
  },
  {
   "cell_type": "markdown",
   "id": "b1ea7fe2",
   "metadata": {},
   "source": [
    "<div class=\"alert alert-block alert-success\">\n",
    "<b>Hands-on:</b> Suppose you are making a groceries list\n",
    "<ol>\n",
    "    <li>Define variables for the number of apples, oranges, bananas, tomatoes and carrots you want to buy.</li>\n",
    "    <li>Store those variables inside a list.</li>\n",
    "    <li>Print elements 2 to 4 (inclusive).</li>\n",
    "</ol>\n",
    "</div>"
   ]
  },
  {
   "cell_type": "code",
   "execution_count": 37,
   "id": "edf6508b",
   "metadata": {},
   "outputs": [],
   "source": [
    "# Define your variables\n",
    " \n",
    "\n",
    "# Add them to a list\n",
    "\n",
    "\n",
    "# Print\n"
   ]
  },
  {
   "cell_type": "markdown",
   "id": "6c86e4ed",
   "metadata": {},
   "source": [
    "### Dictionaries\n",
    "\n",
    "Dictionaries are unordered collections of `key:value` pairs. Keys and values can also be of different types."
   ]
  },
  {
   "cell_type": "code",
   "execution_count": 38,
   "id": "f568f176",
   "metadata": {},
   "outputs": [
    {
     "name": "stdout",
     "output_type": "stream",
     "text": [
      "{'Title': 'Practical Programming with Python', 'Level': 2, 'Is this a dict': True}\n"
     ]
    }
   ],
   "source": [
    "# Create a dictionary\n",
    "workshop_dict = {\"Title\": \"Practical Programming with Python\", \n",
    "                 \"Level\": 2, \n",
    "                 \"Is this a dict\": True}\n",
    "\n",
    "print(workshop_dict)"
   ]
  },
  {
   "cell_type": "markdown",
   "id": "2d2d1f03",
   "metadata": {},
   "source": [
    "Use keys to retrieve values from a dictionary."
   ]
  },
  {
   "cell_type": "code",
   "execution_count": 39,
   "id": "6d6e499e",
   "metadata": {},
   "outputs": [
    {
     "data": {
      "text/plain": [
       "'Practical Programming with Python'"
      ]
     },
     "execution_count": 39,
     "metadata": {},
     "output_type": "execute_result"
    }
   ],
   "source": [
    "# Access using key\n",
    "workshop_dict['Title']"
   ]
  },
  {
   "cell_type": "markdown",
   "id": "63c39bf3",
   "metadata": {},
   "source": [
    "Dictionaries, like lists, are also mutable."
   ]
  },
  {
   "cell_type": "code",
   "execution_count": 40,
   "id": "96c85c5e",
   "metadata": {},
   "outputs": [
    {
     "name": "stdout",
     "output_type": "stream",
     "text": [
      "{'Title': 'Practical Programming with Python', 'Level': 1, 'Is this a dict': True}\n"
     ]
    }
   ],
   "source": [
    "# Replace a value\n",
    "workshop_dict['Level'] = 1\n",
    "print(workshop_dict)"
   ]
  },
  {
   "cell_type": "code",
   "execution_count": 41,
   "id": "9acbe973",
   "metadata": {},
   "outputs": [
    {
     "name": "stdout",
     "output_type": "stream",
     "text": [
      "{'Title': 'Practical Programming with Python', 'Level': 1, 'Is this a dict': True, 'Duration (hrs)': 2}\n"
     ]
    }
   ],
   "source": [
    "# Add a new key:value pair\n",
    "workshop_dict['Duration (hrs)'] = 2\n",
    "print(workshop_dict)"
   ]
  },
  {
   "cell_type": "markdown",
   "id": "27f2eabd",
   "metadata": {},
   "source": [
    "### Keys and Values\n",
    "\n",
    "To see the keys and values of a dictionary use `keys()` and `values()`."
   ]
  },
  {
   "cell_type": "code",
   "execution_count": 42,
   "id": "cc602d7f",
   "metadata": {},
   "outputs": [
    {
     "data": {
      "text/plain": [
       "dict_keys(['Title', 'Level', 'Is this a dict', 'Duration (hrs)'])"
      ]
     },
     "execution_count": 42,
     "metadata": {},
     "output_type": "execute_result"
    }
   ],
   "source": [
    "# Show the dictionary's keys\n",
    "workshop_dict.keys()"
   ]
  },
  {
   "cell_type": "code",
   "execution_count": 43,
   "id": "aa66ac41",
   "metadata": {},
   "outputs": [
    {
     "data": {
      "text/plain": [
       "dict_values(['Practical Programming with Python', 1, True, 2])"
      ]
     },
     "execution_count": 43,
     "metadata": {},
     "output_type": "execute_result"
    }
   ],
   "source": [
    "# Show the dictionary's values\n",
    "workshop_dict.values()"
   ]
  },
  {
   "cell_type": "markdown",
   "id": "76a2dc27",
   "metadata": {},
   "source": [
    "<div class=\"alert alert-block alert-success\">\n",
    "<b>Hands-on:</b> Turn your groceries list into a dictionary. Use the names as keys and the amount as values. Name this dictionary as \"groceries_dict\".\n",
    "</div>"
   ]
  },
  {
   "cell_type": "code",
   "execution_count": 44,
   "id": "3b8bce64",
   "metadata": {},
   "outputs": [],
   "source": [
    "# Create the dictionary\n",
    "\n",
    "\n",
    "# Print its contents\n"
   ]
  },
  {
   "cell_type": "markdown",
   "id": "f1b9bafd",
   "metadata": {},
   "source": [
    "## Conditional Statements\n",
    "\n",
    "Everything we have done so far has been executed sequentially. Suppose you want to execute different code depending on a condition.\n",
    "\n",
    "### Logical Expressions\n",
    "\n",
    "Logical expressions return boolean values. For example, we can compare the values of different objects."
   ]
  },
  {
   "cell_type": "code",
   "execution_count": 45,
   "id": "001dbe33",
   "metadata": {},
   "outputs": [
    {
     "data": {
      "text/plain": [
       "True"
      ]
     },
     "execution_count": 45,
     "metadata": {},
     "output_type": "execute_result"
    }
   ],
   "source": [
    "# Greater than\n",
    "5 > 3"
   ]
  },
  {
   "cell_type": "code",
   "execution_count": 46,
   "id": "2313f10b",
   "metadata": {},
   "outputs": [
    {
     "data": {
      "text/plain": [
       "True"
      ]
     },
     "execution_count": 46,
     "metadata": {},
     "output_type": "execute_result"
    }
   ],
   "source": [
    "# Greater than or equal to\n",
    "7 >= 6"
   ]
  },
  {
   "cell_type": "code",
   "execution_count": 47,
   "id": "c4731799",
   "metadata": {},
   "outputs": [
    {
     "data": {
      "text/plain": [
       "False"
      ]
     },
     "execution_count": 47,
     "metadata": {},
     "output_type": "execute_result"
    }
   ],
   "source": [
    "# Less than\n",
    "5 < 3"
   ]
  },
  {
   "cell_type": "code",
   "execution_count": 48,
   "id": "3b94e246",
   "metadata": {},
   "outputs": [
    {
     "data": {
      "text/plain": [
       "False"
      ]
     },
     "execution_count": 48,
     "metadata": {},
     "output_type": "execute_result"
    }
   ],
   "source": [
    "# Less than or equal to\n",
    "7 <= 6"
   ]
  },
  {
   "cell_type": "code",
   "execution_count": 49,
   "id": "0154e8ec",
   "metadata": {},
   "outputs": [
    {
     "data": {
      "text/plain": [
       "False"
      ]
     },
     "execution_count": 49,
     "metadata": {},
     "output_type": "execute_result"
    }
   ],
   "source": [
    "# Equal\n",
    "\"String\" == \"string\""
   ]
  },
  {
   "cell_type": "code",
   "execution_count": 50,
   "id": "d22e93e9",
   "metadata": {},
   "outputs": [
    {
     "data": {
      "text/plain": [
       "True"
      ]
     },
     "execution_count": 50,
     "metadata": {},
     "output_type": "execute_result"
    }
   ],
   "source": [
    "# Not equal\n",
    "\"String\" != \"string\""
   ]
  },
  {
   "cell_type": "markdown",
   "id": "7af23047",
   "metadata": {},
   "source": [
    "### Membership Tests\n",
    "\n",
    "Memberships tests are used to determine whether a value is part of a collection of values (e.g. lists and dictionaries). One way to do this is with the `in` and `not in` operators. These will also return boolean values."
   ]
  },
  {
   "cell_type": "code",
   "execution_count": 51,
   "id": "9d9ea682",
   "metadata": {},
   "outputs": [
    {
     "data": {
      "text/plain": [
       "False"
      ]
     },
     "execution_count": 51,
     "metadata": {},
     "output_type": "execute_result"
    }
   ],
   "source": [
    "# in operator\n",
    "0 in number_list"
   ]
  },
  {
   "cell_type": "code",
   "execution_count": 52,
   "id": "b81346e0",
   "metadata": {},
   "outputs": [
    {
     "data": {
      "text/plain": [
       "True"
      ]
     },
     "execution_count": 52,
     "metadata": {},
     "output_type": "execute_result"
    }
   ],
   "source": [
    "# not in operator\n",
    "0 not in number_list"
   ]
  },
  {
   "cell_type": "markdown",
   "id": "831c0fa6",
   "metadata": {},
   "source": [
    "### `if` Statements\n",
    "\n",
    "An `if` statement evaluates one or multiple logical expressions. If the expression evaluates to `True` it will execute a given piece of code and if it evaluates to `False` it will skip the code. Indentation is important."
   ]
  },
  {
   "cell_type": "code",
   "execution_count": 53,
   "id": "60003b78",
   "metadata": {},
   "outputs": [
    {
     "name": "stdout",
     "output_type": "stream",
     "text": [
      "It's even!\n",
      "15\n"
     ]
    }
   ],
   "source": [
    "# Check if a given number is even\n",
    "number = 10\n",
    "if number % 2 == 0:\n",
    "    print(\"It's even!\")\n",
    "    \n",
    "# Next piece of code\n",
    "number = 15\n",
    "print(number)"
   ]
  },
  {
   "cell_type": "markdown",
   "id": "f760a032",
   "metadata": {},
   "source": [
    "Logical expressions do not need to be comparisons. As long as the result of the can be evaluated in a boolean context, it will work."
   ]
  },
  {
   "cell_type": "code",
   "execution_count": 54,
   "id": "dc11d707",
   "metadata": {},
   "outputs": [
    {
     "name": "stdout",
     "output_type": "stream",
     "text": [
      "Don't forget your umbrella!\n"
     ]
    }
   ],
   "source": [
    "# Is it raining?\n",
    "its_raining = True\n",
    "\n",
    "# if statement\n",
    "if its_raining:\n",
    "    print(\"Don't forget your umbrella!\")"
   ]
  },
  {
   "cell_type": "code",
   "execution_count": 55,
   "id": "23373d5e",
   "metadata": {},
   "outputs": [
    {
     "name": "stdout",
     "output_type": "stream",
     "text": [
      "This also works!\n"
     ]
    }
   ],
   "source": [
    "number = 1\n",
    "\n",
    "# This also works\n",
    "if number:\n",
    "    print(\"This also works!\")"
   ]
  },
  {
   "cell_type": "code",
   "execution_count": 56,
   "id": "d5934b25",
   "metadata": {},
   "outputs": [
    {
     "name": "stdout",
     "output_type": "stream",
     "text": [
      "It works!\n"
     ]
    }
   ],
   "source": [
    "random_text = \"Hello World!\"\n",
    "\n",
    "# This works too\n",
    "if random_text:\n",
    "    print(\"It works!\")"
   ]
  },
  {
   "cell_type": "markdown",
   "id": "c51e1893",
   "metadata": {},
   "source": [
    "### `else` and `elif` Statements\n",
    "\n",
    "What if we need the code to do something else if the expression evaluates to `False`? We can use `else` and `elif` statements."
   ]
  },
  {
   "cell_type": "code",
   "execution_count": 57,
   "id": "0bf436a3",
   "metadata": {},
   "outputs": [
    {
     "name": "stdout",
     "output_type": "stream",
     "text": [
      "Don't forget your umbrella!\n"
     ]
    }
   ],
   "source": [
    "# Raining variable\n",
    "its_raining = True\n",
    "\n",
    "# else statement\n",
    "if its_raining:\n",
    "    print(\"Don't forget your umbrella!\")\n",
    "\n",
    "else:\n",
    "    print(\"See you later!\")"
   ]
  },
  {
   "cell_type": "code",
   "execution_count": 58,
   "id": "792a2cf8",
   "metadata": {},
   "outputs": [
    {
     "name": "stdout",
     "output_type": "stream",
     "text": [
      "Don't forget your jacket!\n"
     ]
    }
   ],
   "source": [
    "# Weather variables\n",
    "its_raining = False\n",
    "its_cold = True\n",
    "\n",
    "# elif statement\n",
    "if its_raining:\n",
    "    print(\"Don't forget your umbrella!\")\n",
    "\n",
    "elif its_cold:\n",
    "    print(\"Don't forget your jacket!\")\n",
    "    \n",
    "else:\n",
    "    print(\"See you later!\")"
   ]
  },
  {
   "cell_type": "markdown",
   "id": "a276ccef",
   "metadata": {},
   "source": [
    "We can add as many `elif` statements as we want."
   ]
  },
  {
   "cell_type": "code",
   "execution_count": 59,
   "id": "26e7f85d",
   "metadata": {},
   "outputs": [
    {
     "name": "stdout",
     "output_type": "stream",
     "text": [
      "Enjoy the day!\n"
     ]
    }
   ],
   "source": [
    "# Weather variables\n",
    "its_raining = False\n",
    "its_cold = False\n",
    "its_sunny = True\n",
    "\n",
    "# Multiple elif statements\n",
    "if its_raining:\n",
    "    print(\"Don't forget your umbrella!\")\n",
    "\n",
    "elif its_cold:\n",
    "    print(\"Don't forget your jacket!\")\n",
    "    \n",
    "elif its_sunny:\n",
    "    print(\"Enjoy the day!\")\n",
    "    \n",
    "else:\n",
    "    print(\"See you later!\")"
   ]
  },
  {
   "cell_type": "markdown",
   "id": "81aa1cc6",
   "metadata": {},
   "source": [
    "### Multiple Conditions\n",
    "\n",
    "Suppose we want to evaluate multiple conditions on the same logical expression. We can use `and` and `or` logical operators. The `not` operator negates the boolean value."
   ]
  },
  {
   "cell_type": "code",
   "execution_count": 60,
   "id": "c9720b89",
   "metadata": {},
   "outputs": [
    {
     "name": "stdout",
     "output_type": "stream",
     "text": [
      "Don't forget your jacket!\n"
     ]
    }
   ],
   "source": [
    "# Weather variables\n",
    "its_raining = False\n",
    "its_cold = True\n",
    "\n",
    "# Evaluate multiple weather conditions\n",
    "if its_raining:\n",
    "    print(\"Don't forget your umbrella and your jacket!\")\n",
    "    \n",
    "elif its_cold and not its_raining:\n",
    "    print(\"Don't forget your jacket!\")\n",
    "    \n",
    "else:\n",
    "    print(\"See you later!\")"
   ]
  },
  {
   "cell_type": "markdown",
   "id": "b80d353a",
   "metadata": {},
   "source": [
    "<div class=\"alert alert-block alert-success\">\n",
    "    <b>Hands-on:</b> Below you will find a list with the name of an item as the first element and the amount as the second. Write a piece of code that would check if the item is already in your shopping dictionary. If it isn't, add it to the dictionary, but make sure the following is satisfied:\n",
    "<ul>\n",
    "    <li>If the amount is a positive integer, add it as it is.</li>\n",
    "    <li>If the amount is a negative integer, add it as a positive integer.</li>\n",
    "    <li>If the amount is a positive float, round it to the nearest integer with `round()` and add it.</li>\n",
    "    <li>If the amount is a negative float, make it positive and round it before adding it.</li>\n",
    "</ul>\n",
    "\n",
    "If the item is already on your list, print a message saying it's already there.\n",
    "</div>"
   ]
  },
  {
   "cell_type": "code",
   "execution_count": 61,
   "id": "36e8ff0d",
   "metadata": {},
   "outputs": [],
   "source": [
    "# Item to add\n",
    "new_item = ['onions', 3.7]\n",
    "\n",
    "# Create your conditional statements here\n"
   ]
  },
  {
   "cell_type": "markdown",
   "id": "244a96fa",
   "metadata": {},
   "source": [
    "## Functions and Methods\n",
    "\n",
    "Functions are reusable pieces of code that perform a particular task. We already know some functions:\n",
    "\n",
    "* `print()`\n",
    "* `type()`\n",
    "* `int()`\n",
    "* `str()`\n",
    "* `bool()`\n",
    "\n",
    "The arguments of the function are writen within the parentheses.\n",
    "\n",
    "### Function Definition\n",
    "\n",
    "To create our own function use the keyword `def`."
   ]
  },
  {
   "cell_type": "code",
   "execution_count": 62,
   "id": "18287d52",
   "metadata": {},
   "outputs": [
    {
     "name": "stdout",
     "output_type": "stream",
     "text": [
      "15\n"
     ]
    }
   ],
   "source": [
    "# Define a function\n",
    "def add_numbers(num1, num2, num3):\n",
    "    print(num1 + num2 + num3)\n",
    "    \n",
    "# Add any three numbers\n",
    "add_numbers(10, 3, 2)"
   ]
  },
  {
   "cell_type": "markdown",
   "id": "3250eb3b",
   "metadata": {},
   "source": [
    "If instead we want to save the result in another variable, use the keyword `return`."
   ]
  },
  {
   "cell_type": "code",
   "execution_count": 63,
   "id": "e38baafc",
   "metadata": {},
   "outputs": [
    {
     "name": "stdout",
     "output_type": "stream",
     "text": [
      "10\n"
     ]
    }
   ],
   "source": [
    "# Redefine the function\n",
    "def add_numbers(num1, num2, num3):\n",
    "    return num1 + num2 + num3\n",
    "\n",
    "# Save the result\n",
    "result = add_numbers(10, 3, 2)\n",
    "\n",
    "# You can later do something else with the result\n",
    "print(result - 5)"
   ]
  },
  {
   "cell_type": "markdown",
   "id": "e5225587",
   "metadata": {},
   "source": [
    "We can add documentation to the function definition."
   ]
  },
  {
   "cell_type": "code",
   "execution_count": 64,
   "id": "f1e1ceaa",
   "metadata": {},
   "outputs": [
    {
     "name": "stdout",
     "output_type": "stream",
     "text": [
      "Help on function add_numbers in module __main__:\n",
      "\n",
      "add_numbers(num1, num2, num3)\n",
      "    Returns the sum of 3 numbers.\n",
      "\n"
     ]
    }
   ],
   "source": [
    "# Define a function with documentation\n",
    "def add_numbers(num1, num2, num3):\n",
    "    \"\"\" \n",
    "    Returns the sum of 3 numbers.\n",
    "    \"\"\"\n",
    "    return num1 + num2 + num3\n",
    "\n",
    "help(add_numbers)"
   ]
  },
  {
   "cell_type": "markdown",
   "id": "6003c1d3",
   "metadata": {},
   "source": [
    "<div class=\"alert alert-block alert-warning\">\n",
    "<b>Note:</b> To create multiline comments in Python, you can use triple single or triple double quotation marks.\n",
    "</div>"
   ]
  },
  {
   "cell_type": "markdown",
   "id": "e82809e7",
   "metadata": {},
   "source": [
    "<div class=\"alert alert-block alert-success\">\n",
    "<b>Hands-on:</b> \n",
    "    Turn your last hands-on activity into a function called \"add_to_groceries()\" that would work for any similar groceries dictionary and list. Test it using the given list.\n",
    "</div>"
   ]
  },
  {
   "cell_type": "code",
   "execution_count": 65,
   "id": "bbfbb292",
   "metadata": {},
   "outputs": [],
   "source": [
    "# Define the function\n",
    "\n",
    "\n",
    "# Test it with this list\n",
    "another_item = ['Mangoes', 5.8*(-1)**3]"
   ]
  },
  {
   "cell_type": "markdown",
   "id": "9afaabcd",
   "metadata": {},
   "source": [
    "### Methods\n",
    "\n",
    "Methods are functions associated with an object. For example, the functions we used to mutate a list (`pop()` and `append()`) are methods of a list object. Methods are called using a dot ('.') in front of the object."
   ]
  },
  {
   "cell_type": "code",
   "execution_count": 66,
   "id": "32ce34a7",
   "metadata": {},
   "outputs": [
    {
     "name": "stdout",
     "output_type": "stream",
     "text": [
      "['b', 'c']\n"
     ]
    }
   ],
   "source": [
    "# Make list\n",
    "lst = ['a', 'b', 'c']\n",
    "\n",
    "# Use the pop() method\n",
    "lst.pop(0)\n",
    "\n",
    "# Print the result\n",
    "print(lst)"
   ]
  },
  {
   "cell_type": "markdown",
   "id": "439bfc0b",
   "metadata": {},
   "source": [
    "## Scripts, Modules, Packages and Libraries\n",
    "\n",
    "Variables and functions can be stored in Python files for you and other people to use. \n",
    "\n",
    "- A **script** is a Python file that contains instructions to do something. Intended to be run directly.\n",
    "- A **module** is also a Python file, but contains defined functions, classes and variables intended to be used outside of the file. \n",
    "- Python **packages** and **libraries** are collections of related modules.\n",
    "\n",
    "Some important libraries in Python are:\n",
    "\n",
    "- pandas\n",
    "- numpy\n",
    "- scikit-learn\n",
    "- matplotlib\n",
    "\n",
    "To use these modules in your scripts, Python has the `import` statement."
   ]
  },
  {
   "cell_type": "code",
   "execution_count": 67,
   "id": "861a4a49",
   "metadata": {},
   "outputs": [
    {
     "data": {
      "text/plain": [
       "3.141592653589793"
      ]
     },
     "execution_count": 67,
     "metadata": {},
     "output_type": "execute_result"
    }
   ],
   "source": [
    "# Basic Python import\n",
    "import numpy\n",
    "\n",
    "numpy.core.pi"
   ]
  },
  {
   "cell_type": "code",
   "execution_count": 68,
   "id": "51f5c132",
   "metadata": {},
   "outputs": [
    {
     "data": {
      "text/plain": [
       "3.141592653589793"
      ]
     },
     "execution_count": 68,
     "metadata": {},
     "output_type": "execute_result"
    }
   ],
   "source": [
    "# Import with an alias\n",
    "import numpy as np\n",
    "\n",
    "np.core.pi"
   ]
  },
  {
   "cell_type": "code",
   "execution_count": 69,
   "id": "5da75626",
   "metadata": {},
   "outputs": [
    {
     "data": {
      "text/plain": [
       "3.141592653589793"
      ]
     },
     "execution_count": 69,
     "metadata": {},
     "output_type": "execute_result"
    }
   ],
   "source": [
    "# Only import the constant\n",
    "from numpy.core import pi\n",
    "\n",
    "pi"
   ]
  },
  {
   "cell_type": "code",
   "execution_count": 70,
   "id": "bf063e49",
   "metadata": {},
   "outputs": [
    {
     "data": {
      "text/plain": [
       "3"
      ]
     },
     "execution_count": 70,
     "metadata": {},
     "output_type": "execute_result"
    }
   ],
   "source": [
    "# Functions inside a module\n",
    "from numpy import random\n",
    "\n",
    "random.randint(2, 10)"
   ]
  },
  {
   "cell_type": "code",
   "execution_count": 71,
   "id": "441422e3",
   "metadata": {},
   "outputs": [
    {
     "data": {
      "text/plain": [
       "7"
      ]
     },
     "execution_count": 71,
     "metadata": {},
     "output_type": "execute_result"
    }
   ],
   "source": [
    "# Import a function and give an alias\n",
    "from numpy.random import randint as rint\n",
    "\n",
    "rint(2, 10)"
   ]
  },
  {
   "cell_type": "markdown",
   "id": "63757eac",
   "metadata": {},
   "source": [
    "## For Loops\n",
    "\n",
    "We have seen how useful functions are to try multiple inputs. However, we may want to try thousands of different inputs and trying each one by hand may become cumbersome.\n",
    "\n",
    "For loops are used to iterate over the elements of a sequence. For example, we can iterate over a sequence of numbers."
   ]
  },
  {
   "cell_type": "code",
   "execution_count": 72,
   "id": "780390a4",
   "metadata": {},
   "outputs": [
    {
     "name": "stdout",
     "output_type": "stream",
     "text": [
      "0\n",
      "1\n",
      "2\n",
      "3\n",
      "4\n",
      "5\n",
      "6\n",
      "7\n",
      "8\n",
      "9\n"
     ]
    }
   ],
   "source": [
    "# Simple for loop\n",
    "for i in range(10):\n",
    "    print(i)"
   ]
  },
  {
   "cell_type": "markdown",
   "id": "dcd58182",
   "metadata": {},
   "source": [
    "The function `range(n)` returns a sequence of numbers from 0 to n - 1 in increments of 1. To change the start position add an additional argument."
   ]
  },
  {
   "cell_type": "code",
   "execution_count": 73,
   "id": "71182d75",
   "metadata": {},
   "outputs": [
    {
     "name": "stdout",
     "output_type": "stream",
     "text": [
      "2\n",
      "3\n",
      "4\n",
      "5\n",
      "6\n",
      "7\n",
      "8\n",
      "9\n",
      "10\n"
     ]
    }
   ],
   "source": [
    "# Iterate over a sequence 4 to 10\n",
    "for i in range(2, 11):\n",
    "    print(i)"
   ]
  },
  {
   "cell_type": "markdown",
   "id": "a028fbee",
   "metadata": {},
   "source": [
    "To iterate over a list, simply substitute the `range()` function for the list."
   ]
  },
  {
   "cell_type": "code",
   "execution_count": 74,
   "id": "aeb130a9",
   "metadata": {},
   "outputs": [
    {
     "name": "stdout",
     "output_type": "stream",
     "text": [
      "A\n",
      "B\n",
      "C\n",
      "D\n",
      "E\n"
     ]
    }
   ],
   "source": [
    "# Create a list\n",
    "uppercase = ['A', 'B', 'C', 'D', 'E']\n",
    "\n",
    "# Iterate over the list\n",
    "for letter in uppercase:\n",
    "    print(letter)"
   ]
  },
  {
   "cell_type": "markdown",
   "id": "2b704920",
   "metadata": {},
   "source": [
    "<div class=\"alert alert-block alert-success\">\n",
    "    <b>Hands-on:</b> Make a list of inputs for your groceries function with these items:\n",
    "<ul>\n",
    "    <li>Mangoes: 40</li>\n",
    "    <li>Watermelons: pi</li>\n",
    "    <li>Peppers: 3</li>\n",
    "    <li>Bananas: 1.5</li>\n",
    "    <li>Strawberries: 15</li>\n",
    "    <li>Limes: np.e</li>\n",
    "</ul>\n",
    "\n",
    "Iterate over this list to add these items to your groceries list.\n",
    "</div>"
   ]
  },
  {
   "cell_type": "markdown",
   "id": "298b5dd4",
   "metadata": {},
   "source": [
    "## Turtle\n",
    "\n",
    "_Turtle_ is a pre-installed Python module that allows us to draw shapes using a turtle.\n",
    "\n",
    "To initialize it, simply create an instance of the turtle.\n",
    "\n",
    "### Movement\n",
    "\n",
    "The turtle acts like a pen, so to draw any figure move the turtle in the forward and backward directions with the `forward()` and `backward()` methods. To change the turtle's direction with the `left()` and `right()` methods.\n",
    "\n",
    "The `forward()` and `backward()` methods take the distance in pixels you want the turtle to move.\n",
    "\n",
    "The `left()` and `right()` methods take as argument the degrees you want the turtle to move."
   ]
  },
  {
   "cell_type": "code",
   "execution_count": 1,
   "id": "70b3e3a6",
   "metadata": {},
   "outputs": [],
   "source": [
    "import turtle\n",
    "\n",
    "# Turtle instance\n",
    "t = turtle.Turtle()\n",
    "\n",
    "# Move forward 100 pixels\n",
    "t.forward(100)\n",
    "\n",
    "# Rotate 90 degrees to the left\n",
    "t.left(90)\n",
    "\n",
    "# Rotate 90 degrees to the right\n",
    "t.right(90)"
   ]
  },
  {
   "cell_type": "markdown",
   "id": "cecda807",
   "metadata": {},
   "source": [
    "Reset the turtle with the `reset()` method."
   ]
  },
  {
   "cell_type": "code",
   "execution_count": 3,
   "id": "795385f5",
   "metadata": {},
   "outputs": [],
   "source": [
    "# Reset the turtle\n",
    "t.reset()"
   ]
  },
  {
   "cell_type": "markdown",
   "id": "f3fccbd8",
   "metadata": {},
   "source": [
    "<div class=\"alert alert-block alert-success\">\n",
    "<b>Hands-on:</b> \n",
    "    Draw a square of 100 pixels on each side.\n",
    "</div>"
   ]
  },
  {
   "cell_type": "code",
   "execution_count": null,
   "id": "1314ee37",
   "metadata": {},
   "outputs": [],
   "source": [
    "# Draw a square\n"
   ]
  },
  {
   "cell_type": "markdown",
   "id": "a187adfd",
   "metadata": {},
   "source": [
    "Note that the same lines of code were repeated when you draw a square. To avoid this, we can use for loops."
   ]
  },
  {
   "cell_type": "code",
   "execution_count": 13,
   "id": "d66115b6",
   "metadata": {},
   "outputs": [
    {
     "data": {
      "application/vnd.jupyter.widget-view+json": {
       "model_id": "5bb9d64153e248809d80c4dd85529a3f",
       "version_major": 2,
       "version_minor": 0
      },
      "text/plain": [
       "Turtle()"
      ]
     },
     "metadata": {},
     "output_type": "display_data"
    }
   ],
   "source": [
    "# Draw a square with a for loop\n",
    "for i in range(4):\n",
    "    t.forward(100)\n",
    "    t.left(90)"
   ]
  },
  {
   "cell_type": "markdown",
   "id": "6b3cf8df",
   "metadata": {},
   "source": [
    "You can draw more complicated figures, such as hexagon by changing a couple things."
   ]
  },
  {
   "cell_type": "markdown",
   "id": "31929cf1",
   "metadata": {},
   "source": [
    "<div class=\"alert alert-block alert-success\">\n",
    "<b>Hands-on:</b> \n",
    "    Turn this into a function that would draw any polygon with a given side length. Try different number of sides and lengths. Draw something as close to a circle as you can.\n",
    "</div>"
   ]
  },
  {
   "cell_type": "code",
   "execution_count": 18,
   "id": "2debc837",
   "metadata": {},
   "outputs": [
    {
     "data": {
      "application/vnd.jupyter.widget-view+json": {
       "model_id": "a06449929b0a4924b4a2437c9fb6d5d9",
       "version_major": 2,
       "version_minor": 0
      },
      "text/plain": [
       "Turtle()"
      ]
     },
     "metadata": {},
     "output_type": "display_data"
    }
   ],
   "source": [
    "# Draw a hexagon\n",
    "for i in range(6):\n",
    "    t.forward(100)\n",
    "    t.left(360 / 6)"
   ]
  },
  {
   "cell_type": "code",
   "execution_count": null,
   "id": "83a839bd",
   "metadata": {},
   "outputs": [],
   "source": [
    "# Create a function\n",
    "\n",
    "\n",
    "# Draw a circle\n"
   ]
  }
 ],
 "metadata": {
  "kernelspec": {
   "display_name": "Python 3 (ipykernel)",
   "language": "python",
   "name": "python3"
  },
  "language_info": {
   "codemirror_mode": {
    "name": "ipython",
    "version": 3
   },
   "file_extension": ".py",
   "mimetype": "text/x-python",
   "name": "python",
   "nbconvert_exporter": "python",
   "pygments_lexer": "ipython3",
   "version": "3.10.8"
  }
 },
 "nbformat": 4,
 "nbformat_minor": 5
}

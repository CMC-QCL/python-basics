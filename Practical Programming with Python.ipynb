{
 "cells": [
  {
   "cell_type": "markdown",
   "id": "0ef8ad25",
   "metadata": {},
   "source": [
    "# Practical Programming with Python\n",
    "\n",
    "Welcome to the QCL Workshop **Practical Programming with Python**.\n",
    "\n",
    "This is a Level 1 Workshop. No programming experience is required, but some familiarity with another programming language will be useful.\n",
    "\n",
    "![](https://bit.ly/3Xsv9hf)\n",
    "\n",
    "By the end of this workshop you will be able to:\n",
    "\n",
    "* Create and use functions\n",
    "* Create lists and dictionaries and access its elements\n",
    "* Read error messages\n",
    "* Use for loops\n",
    "* Use conditional statements (if, elif and else)"
   ]
  },
  {
   "cell_type": "markdown",
   "id": "1c0baf52",
   "metadata": {},
   "source": [
    "## Python\n",
    "\n",
    "Python is one of the most popular programming languages. Some of the characteristics that make Python a great programming language are:\n",
    "\n",
    "* It is open source and has a large community of developers.\n",
    "* Has a simple and easy to read syntax (beginner-friendly and maintainable code).\n",
    "* It is an interpreted language.\n",
    "* It is powerful enough to build robust and efficient applications.\n",
    "\n",
    "Some of the things you can do with Python are:\n",
    "\n",
    "* Create Graphical User Interfaces (GUIs)\n",
    "* Web development\n",
    "* Data Analysis & Machine Learning\n",
    "* Automation of repetitive tasks (renaming files, cleaning data, web scraping)\n",
    "\n",
    "Fun fact: Python was named in honor to the British comedy group, Monty Python.\n",
    "\n",
    "![](https://bit.ly/monty-py)"
   ]
  },
  {
   "cell_type": "markdown",
   "id": "26da29fc",
   "metadata": {},
   "source": [
    "# Grocery List\n",
    "\n",
    "For today's workshop we will automate making a grocery list and checking if our budget is enough to buy everything. This will be our final code:"
   ]
  },
  {
   "cell_type": "code",
   "execution_count": 1,
   "id": "4c3be50a",
   "metadata": {},
   "outputs": [
    {
     "name": "stdout",
     "output_type": "stream",
     "text": [
      "\n",
      "Grocery list:\n",
      "\n",
      "2 milk for 7.0 USD\n",
      "12 eggs for 5.28 USD\n",
      "9 apples for 9 USD\n",
      "\n",
      "\n"
     ]
    }
   ],
   "source": [
    "# Include budget\n",
    "def groceries(item_dictionary, budget):\n",
    "    # Make sure we have a budget\n",
    "    if budget <= 0:\n",
    "        print(\"Budget needs to be a positive number.\")\n",
    "        return\n",
    "    \n",
    "    # Start our grocery list\n",
    "    final_list = \"\\nGrocery list:\\n\\n\"\n",
    "    too_expensive = \"\\n\"\n",
    "    \n",
    "    # Iterate over each item\n",
    "    for key in item_dictionary:\n",
    "        # Get item's information\n",
    "        item_name = key\n",
    "        value = item_dictionary[key]\n",
    "        item_amount = value[0]\n",
    "        item_price = value[1]\n",
    "        item_total = item_amount * item_price\n",
    "        \n",
    "        # Check if we can buy it\n",
    "        if item_total <= budget:\n",
    "            # Add it to the grocery list\n",
    "            final_list += f\"{item_amount} {item_name} for {item_total} USD\\n\"\n",
    "            budget -= item_total\n",
    "        \n",
    "        # We cannot buy any of it\n",
    "        else:\n",
    "            too_expensive += f\"There's not enough budget for {item_amount} {item_name}.\\n\"\n",
    "            \n",
    "    # Print our grocery list\n",
    "    print(final_list + too_expensive)\n",
    "            \n",
    "    \n",
    "# Crate the dictionary and call the function with a budget\n",
    "my_dictionary = {'milk': [2, 3.5], 'eggs': [12, 0.44], 'apples': [9, 1]}\n",
    "budget = float(input(\"What is your budget? \"))\n",
    "groceries(my_dictionary, budget)"
   ]
  },
  {
   "cell_type": "markdown",
   "id": "2e3e12f4",
   "metadata": {},
   "source": [
    "We will start by creating a simple function and add more things along the way."
   ]
  },
  {
   "cell_type": "markdown",
   "id": "de275af0",
   "metadata": {},
   "source": [
    "## Functions\n",
    "\n",
    "**Functions** are reusable pieces of code that perform a particular task. For example, the `print()` function is used to display text. To use this function, simply write the text between parentheses as follows"
   ]
  },
  {
   "cell_type": "code",
   "execution_count": 2,
   "id": "e89ceffc",
   "metadata": {},
   "outputs": [
    {
     "name": "stdout",
     "output_type": "stream",
     "text": [
      "Buy carrots\n"
     ]
    }
   ],
   "source": [
    "print(\"Buy carrots\")"
   ]
  },
  {
   "cell_type": "markdown",
   "id": "4e760640",
   "metadata": {},
   "source": [
    "We can also create our own function using the keyword `def`. Note that we use indentation to tell Python which part of the code is part of our function."
   ]
  },
  {
   "cell_type": "code",
   "execution_count": 3,
   "id": "c6daf920",
   "metadata": {},
   "outputs": [],
   "source": [
    "# Create your own function\n",
    "def groceries():\n",
    "    print(\"Buy milk\")\n",
    "    "
   ]
  },
  {
   "cell_type": "markdown",
   "id": "98c625cc",
   "metadata": {},
   "source": [
    "We can use that same piece of code by just **calling** the function."
   ]
  },
  {
   "cell_type": "code",
   "execution_count": 4,
   "id": "2d6680f6",
   "metadata": {},
   "outputs": [
    {
     "name": "stdout",
     "output_type": "stream",
     "text": [
      "Buy milk\n"
     ]
    }
   ],
   "source": [
    "# Call your function\n",
    "groceries()"
   ]
  },
  {
   "cell_type": "markdown",
   "id": "8ebb1ca3",
   "metadata": {},
   "source": [
    "<div class=\"alert alert-block alert-warning\">\n",
    "<b>Note:</b> In Python you start any single-line comments with the \"#\" sign. To create multiline comments, you can use triple apostrophes or triple quotation marks.\n",
    "</div>"
   ]
  },
  {
   "cell_type": "markdown",
   "id": "233fc6b5",
   "metadata": {},
   "source": [
    "But, what if we want to change the message inside? We can use parameters in our function. The parameters of the function are writen within the parentheses on the function definition. Whatever values you give when you call the function are assigned to **variables** that can be used inside the function."
   ]
  },
  {
   "cell_type": "markdown",
   "id": "96a00dc2",
   "metadata": {},
   "source": [
    "## Variables\n",
    "\n",
    "You can think of variables as named containers that store whatever value we assign to it using the `=` sign. Note that this is not the same \"=\" sign we use in mathematics. It is called an assignment operator.\n",
    "\n",
    "(Technically speaking, a variable is a symbolic name that is a pointer to an object. )"
   ]
  },
  {
   "cell_type": "code",
   "execution_count": 1,
   "id": "9965b5b8",
   "metadata": {},
   "outputs": [],
   "source": [
    "# Create a variable\n",
    "thing1 = \"carrots\""
   ]
  },
  {
   "cell_type": "code",
   "execution_count": 2,
   "id": "1539d721",
   "metadata": {},
   "outputs": [
    {
     "name": "stdout",
     "output_type": "stream",
     "text": [
      "carrots\n"
     ]
    }
   ],
   "source": [
    "# Print it\n",
    "print(thing1)"
   ]
  },
  {
   "cell_type": "code",
   "execution_count": 3,
   "id": "21f72dab",
   "metadata": {},
   "outputs": [],
   "source": [
    "# Now try assigning a variable to a variable\n",
    "\n",
    "thing2 = thing1"
   ]
  },
  {
   "cell_type": "code",
   "execution_count": 5,
   "id": "19863587",
   "metadata": {},
   "outputs": [
    {
     "name": "stdout",
     "output_type": "stream",
     "text": [
      "carrots\n"
     ]
    }
   ],
   "source": [
    "# Print thing2\n",
    "print(thing2)"
   ]
  },
  {
   "cell_type": "markdown",
   "id": "ab373126",
   "metadata": {},
   "source": [
    "Let's make our function accept one argument."
   ]
  },
  {
   "cell_type": "code",
   "execution_count": null,
   "id": "7326f360",
   "metadata": {},
   "outputs": [],
   "source": [
    "# Function with an argument\n",
    "def groceries(item1):\n",
    "    message = \"Buy \" + item1\n",
    "    print(message)\n",
    "    "
   ]
  },
  {
   "cell_type": "code",
   "execution_count": null,
   "id": "32a5bb50",
   "metadata": {},
   "outputs": [],
   "source": [
    "# Call your function\n",
    "groceries(\"eggs\")"
   ]
  },
  {
   "cell_type": "markdown",
   "id": "8260b57d",
   "metadata": {},
   "source": [
    "<div class=\"alert alert-block alert-success\">\n",
    "<b>Hands-on:</b> The addition operator (\"+\") also works for numbers. Create a function called \"add_10\" that prints the number you give as an argument plus 10. Call your function using 5 as an argument.\n",
    "</div>"
   ]
  },
  {
   "cell_type": "code",
   "execution_count": null,
   "id": "d12ce6c8",
   "metadata": {},
   "outputs": [],
   "source": [
    "# Create the function\n"
   ]
  },
  {
   "cell_type": "code",
   "execution_count": null,
   "id": "1d5a3d45",
   "metadata": {},
   "outputs": [],
   "source": [
    "# Call your function\n"
   ]
  },
  {
   "cell_type": "markdown",
   "id": "15fd2763",
   "metadata": {},
   "source": [
    "What if we want to buy two items instead of just one."
   ]
  },
  {
   "cell_type": "code",
   "execution_count": null,
   "id": "9dec0c9c",
   "metadata": {},
   "outputs": [],
   "source": [
    "# Buy two items\n",
    "def groceries(item1, item2):\n",
    "    message = \"Buy \" + item1 + \" and \" + item2\n",
    "    print(message)\n",
    "    "
   ]
  },
  {
   "cell_type": "code",
   "execution_count": null,
   "id": "7dfe1586",
   "metadata": {},
   "outputs": [],
   "source": [
    "# Call your function\n",
    "groceries(\"milk\", \"eggs\")"
   ]
  },
  {
   "cell_type": "markdown",
   "id": "e34a6f8a",
   "metadata": {},
   "source": [
    "<div class=\"alert alert-block alert-success\">\n",
    "<b>Hands-on:</b> Create an \"add\" function that prints the result of the sum of any three numbers. Call your function using 3, 5 and 10.\n",
    "</div>"
   ]
  },
  {
   "cell_type": "code",
   "execution_count": null,
   "id": "5c387806",
   "metadata": {},
   "outputs": [],
   "source": [
    "# Create your function\n",
    "\n"
   ]
  },
  {
   "cell_type": "code",
   "execution_count": null,
   "id": "78727494",
   "metadata": {},
   "outputs": [],
   "source": [
    "# Call your function\n"
   ]
  },
  {
   "cell_type": "markdown",
   "id": "92402be0",
   "metadata": {},
   "source": [
    "### Global vs. Local variables\n",
    "\n",
    "Based on a variable's accessibility (scope), we can have **global** and **local** variables. The variables we create outside of a function are global variables, which means we can use them anywhere else in our code."
   ]
  },
  {
   "cell_type": "code",
   "execution_count": null,
   "id": "6e9454da",
   "metadata": {},
   "outputs": [],
   "source": [
    "# The variable \"thing1\" is a global variable\n",
    "print(thing1)"
   ]
  },
  {
   "cell_type": "markdown",
   "id": "61ac41ac",
   "metadata": {},
   "source": [
    "On the other hand, variables declared inside a function are local variables. These can only be accesses inside that function."
   ]
  },
  {
   "cell_type": "code",
   "execution_count": null,
   "id": "82f8829a",
   "metadata": {},
   "outputs": [],
   "source": [
    "# The variable \"message\" is a local variable\n",
    "print(message)"
   ]
  },
  {
   "cell_type": "code",
   "execution_count": null,
   "id": "0e04e1a0",
   "metadata": {},
   "outputs": [],
   "source": [
    "# The variable \"item1\" is also a local variable\n",
    "print(item1)"
   ]
  },
  {
   "cell_type": "markdown",
   "id": "e265ba81",
   "metadata": {},
   "source": [
    "This is still not good enough. If we wanted to buy more items, we would need to use an argument for each one. One way to solve this issue is by using a list."
   ]
  },
  {
   "cell_type": "markdown",
   "id": "711e8265",
   "metadata": {},
   "source": [
    "## Lists\n",
    "\n",
    "A **list** is an ordered collection of elements. The syntax to create a list is as follows:"
   ]
  },
  {
   "cell_type": "code",
   "execution_count": null,
   "id": "4ca55064",
   "metadata": {},
   "outputs": [],
   "source": [
    "some_list = [1, 2, \"three\", \"four\", 5]\n",
    "print(some_list)"
   ]
  },
  {
   "cell_type": "markdown",
   "id": "4f43e378",
   "metadata": {},
   "source": [
    "We can use a list to pass all the items we want to buy as a single argument."
   ]
  },
  {
   "cell_type": "code",
   "execution_count": null,
   "id": "f92f4f3d",
   "metadata": {},
   "outputs": [],
   "source": [
    "# Buy all these items\n",
    "def groceries(item_list):\n",
    "    message = \"Buy \" + item_list\n",
    "    print(message)\n"
   ]
  },
  {
   "cell_type": "code",
   "execution_count": null,
   "id": "dbd32241",
   "metadata": {},
   "outputs": [],
   "source": [
    "# Make the list and call the function\n",
    "my_list = [\"milk\", \"eggs\", \"apples\"]\n",
    "groceries(my_list)"
   ]
  },
  {
   "cell_type": "markdown",
   "id": "2a612af9",
   "metadata": {},
   "source": [
    "As you can see this will produce an error because we are trying to concatenate a string (datatype for text) and a list. We would like our function to go over every element in our list and add it to the string we are printing. To do this we are going to use a for loop."
   ]
  },
  {
   "cell_type": "markdown",
   "id": "51832be2",
   "metadata": {},
   "source": [
    "## For Loops\n",
    "\n",
    "**For loops** are used to **iterate** over the elements of a sequence. One way to iterate over our list is by using the `range()` and `len()` functions. The `range(n)` function returns a sequence of numbers from 0 to n-1 in increments of 1. We can use this together with our for loop to print the sequence of numbers."
   ]
  },
  {
   "cell_type": "code",
   "execution_count": null,
   "id": "4536a63f",
   "metadata": {},
   "outputs": [],
   "source": [
    "# Use range in a for loop\n",
    "for x in range(5):\n",
    "    print(x)"
   ]
  },
  {
   "cell_type": "markdown",
   "id": "90b0b277",
   "metadata": {},
   "source": [
    "We can also use `range()` to start our sequence from a different number by using another argument."
   ]
  },
  {
   "cell_type": "code",
   "execution_count": null,
   "id": "531a332b",
   "metadata": {},
   "outputs": [],
   "source": [
    "for x in range(1, 5):\n",
    "    print(x)"
   ]
  },
  {
   "cell_type": "markdown",
   "id": "2086be91",
   "metadata": {},
   "source": [
    "We can use for loops to modify a variable in each iteration. For example, to compute the cumulative sum of the numbers 1 to 4 as in this table:\n",
    "\n",
    "| Number in sequence | Cumulative sum |\n",
    "|:------------------:|:--------------:|\n",
    "|          1         |        1       |\n",
    "|          2         |        3       |\n",
    "|          3         |        6       |\n",
    "|          4         |       10       |"
   ]
  },
  {
   "cell_type": "code",
   "execution_count": null,
   "id": "f28e7b42",
   "metadata": {},
   "outputs": [],
   "source": [
    "# Create a variable for the cumulative sum\n",
    "cumsum = 0\n",
    "\n",
    "# Start our for loop\n",
    "for x in range(1, 5):\n",
    "    # Update our cumulative sum\n",
    "    cumsum = cumsum + x\n",
    "    \n",
    "    # Print the cumulative sum for the current iteration\n",
    "    print(cumsum)"
   ]
  },
  {
   "cell_type": "markdown",
   "id": "5c6f1770",
   "metadata": {},
   "source": [
    "<div class=\"alert alert-block alert-success\">\n",
    "<b>Hands-on:</b> Create a function that takes whole numbers \"n\" and \"m\". This function should print the cumulative product for the sequence of whole numbers n to m. Note that the initial value for your cumulative product should not start at 0. Call your function with $n = 1$ and $m = 4$.\n",
    "<table>\n",
    "  <tr>\n",
    "    <th>Number in sequence</th>\n",
    "    <th>Cumulative prod</th>\n",
    "  </tr>\n",
    "  <tr>\n",
    "    <td>1</td>\n",
    "    <td>1</td>\n",
    "  </tr>\n",
    "  <tr>\n",
    "    <td>2</td>\n",
    "    <td>2</td>\n",
    "  </tr>\n",
    "  <tr>\n",
    "    <td>3</td>\n",
    "    <td>6</td>\n",
    "  </tr>\n",
    "  <tr>\n",
    "    <td>4</td>\n",
    "    <td>24</td>\n",
    "  </tr>\n",
    "</table>\n",
    "</div>"
   ]
  },
  {
   "cell_type": "code",
   "execution_count": null,
   "id": "c1e4c853",
   "metadata": {},
   "outputs": [],
   "source": [
    "# Create your function\n",
    "\n"
   ]
  },
  {
   "cell_type": "code",
   "execution_count": null,
   "id": "ba7c5127",
   "metadata": {},
   "outputs": [],
   "source": [
    "# Call your function\n",
    "\n"
   ]
  },
  {
   "cell_type": "markdown",
   "id": "2bbb22e4",
   "metadata": {},
   "source": [
    "On the other hand, `len()` returns the length of our list."
   ]
  },
  {
   "cell_type": "code",
   "execution_count": null,
   "id": "34cf3200",
   "metadata": {},
   "outputs": [],
   "source": [
    "# Recall our list\n",
    "my_list = [\"milk\", \"eggs\", \"apples\"]\n",
    "\n",
    "# Use len()\n",
    "len(my_list)"
   ]
  },
  {
   "cell_type": "markdown",
   "id": "8aae398d",
   "metadata": {},
   "source": [
    "By using both functions we can go over the sequence 0 to 2 using a for loop."
   ]
  },
  {
   "cell_type": "code",
   "execution_count": null,
   "id": "4d90cf16",
   "metadata": {},
   "outputs": [],
   "source": [
    "# Recall our list\n",
    "my_list = [\"milk\", \"eggs\", \"apples\"]\n",
    "\n",
    "# Compute the length of our list\n",
    "length = len(my_list)\n",
    "\n",
    "# Use a for loop\n",
    "for x in range(length):\n",
    "    print(x)"
   ]
  },
  {
   "cell_type": "markdown",
   "id": "abe66969",
   "metadata": {},
   "source": [
    "Why start at 0? Python lists are 0-indexed, which means that the first element has an index of 0. We can access any element of the list using its index.\n",
    "\n",
    "![](https://raw.githubusercontent.com/CMC-QCL/python-basics/main/imgs/Python_index.png)"
   ]
  },
  {
   "cell_type": "code",
   "execution_count": null,
   "id": "fe23d5fe",
   "metadata": {},
   "outputs": [],
   "source": [
    "# Access elements in list\n",
    "my_list[0]"
   ]
  },
  {
   "cell_type": "code",
   "execution_count": null,
   "id": "fa2e2142",
   "metadata": {},
   "outputs": [],
   "source": [
    "# Access elements in a list using a for loop\n",
    "for x in range(len(my_list)):\n",
    "    print(my_list[x])"
   ]
  },
  {
   "cell_type": "markdown",
   "id": "31517150",
   "metadata": {},
   "source": [
    "We can use this to concatenate every element to our string. As we did with the cumulative sum example, we will update a variable to keep track of the items in our list."
   ]
  },
  {
   "cell_type": "code",
   "execution_count": null,
   "id": "77af8c3a",
   "metadata": {},
   "outputs": [],
   "source": [
    "# Buy all these items\n",
    "def groceries(item_list):\n",
    "    # Variable to keep track of our items\n",
    "    all_items = item_list[0]\n",
    "    \n",
    "    # Iterate over our list\n",
    "    for idx in range(1, len(item_list)):\n",
    "        # Append elements to our string\n",
    "        all_items = all_items + \", \" + item_list[idx]\n",
    "        \n",
    "    # Create our message\n",
    "    message = \"Buy \" + all_items\n",
    "    print(message)\n"
   ]
  },
  {
   "cell_type": "code",
   "execution_count": null,
   "id": "f6997746",
   "metadata": {},
   "outputs": [],
   "source": [
    "# Make the list and call the function\n",
    "my_list = [\"milk\", \"eggs\", \"apples\"]\n",
    "groceries(my_list)"
   ]
  },
  {
   "cell_type": "markdown",
   "id": "7a072c63",
   "metadata": {},
   "source": [
    "We can format our message using **formatted string literals** or f-strings. An f-string looks like a typical Python string with an \"f\" before it."
   ]
  },
  {
   "cell_type": "code",
   "execution_count": null,
   "id": "3ebac6e2",
   "metadata": {},
   "outputs": [],
   "source": [
    "# Simple f-string\n",
    "f\"Buy milk\""
   ]
  },
  {
   "cell_type": "markdown",
   "id": "ab0c71be",
   "metadata": {},
   "source": [
    "By using f-strings we can include Python expressions inside them using curly brackets (\"{}\"). These expressions will be evaluated and included in our string."
   ]
  },
  {
   "cell_type": "code",
   "execution_count": null,
   "id": "6d23d3f3",
   "metadata": {},
   "outputs": [],
   "source": [
    "# Create a variable\n",
    "name = \"milk\"\n",
    "amount = 2\n",
    "\n",
    "# Use it in an f-string\n",
    "f\"Buy {amount} {name}\""
   ]
  },
  {
   "cell_type": "markdown",
   "id": "04154f03",
   "metadata": {},
   "source": [
    "Let's use an f-string to format out message."
   ]
  },
  {
   "cell_type": "code",
   "execution_count": null,
   "id": "1da01ce1",
   "metadata": {},
   "outputs": [],
   "source": [
    "# Buy all these items\n",
    "def groceries(item_list):\n",
    "    # Variable to keep track of our items\n",
    "    all_items = item_list[0]\n",
    "    \n",
    "    # Iterate over our list\n",
    "    for idx in range(1, len(item_list)):\n",
    "        # Append elements to our string\n",
    "        all_items = f\"{all_items}, {item_list[idx]}\"\n",
    "        \n",
    "    # Create our message\n",
    "    message = f\"Buy {all_items}\"\n",
    "    print(message)\n"
   ]
  },
  {
   "cell_type": "code",
   "execution_count": null,
   "id": "d1dec8e8",
   "metadata": {},
   "outputs": [],
   "source": [
    "# Make the list and call the function\n",
    "my_list = [\"milk\", \"eggs\", \"apples\"]\n",
    "groceries(my_list)"
   ]
  },
  {
   "cell_type": "markdown",
   "id": "0a969fc3",
   "metadata": {},
   "source": [
    "<div class=\"alert alert-block alert-warning\">\n",
    "<b>Note:</b> f-strings were introduced in Python 3.6, so any previous version will not recognize them.\n",
    "</div>"
   ]
  },
  {
   "cell_type": "markdown",
   "id": "61b69cb7",
   "metadata": {},
   "source": [
    "Suppose we also want to include the amount of each item we would want to buy. One way to do this is by making our function take an additional list with the amounts of each item."
   ]
  },
  {
   "cell_type": "code",
   "execution_count": null,
   "id": "a0d7e4d0",
   "metadata": {},
   "outputs": [],
   "source": [
    "# Buy all these items\n",
    "def groceries(names, amounts):\n",
    "    # Variable to keep track of our items\n",
    "    all_items = \"\"\n",
    "    \n",
    "    # Iterate over our list\n",
    "    for idx in range(len(names)):\n",
    "        # Get the name and amount\n",
    "        item_name = names[idx]\n",
    "        item_amount = amounts[idx]\n",
    "        \n",
    "        # Append elements to our string\n",
    "        all_items = f\"{all_items}, {item_amount} {item_name}\"\n",
    "        \n",
    "    # Create our message\n",
    "    message = f\"Buy {all_items}\"\n",
    "    print(message)\n",
    "    "
   ]
  },
  {
   "cell_type": "code",
   "execution_count": null,
   "id": "94a92df2",
   "metadata": {},
   "outputs": [],
   "source": [
    "# Make the list and call the function\n",
    "names_list = [\"milk\", \"eggs\", \"apples\"]\n",
    "amounts_list = [2, 12, 9]\n",
    "groceries(names_list, amounts_list)"
   ]
  },
  {
   "cell_type": "markdown",
   "id": "aea7c1fc",
   "metadata": {},
   "source": [
    "This may become confusing if we have many items in our list. We may even make the mistake of having lists of different lengths and not realizing it. A more elegant solution is to use a dictionary."
   ]
  },
  {
   "cell_type": "markdown",
   "id": "58b58fe4",
   "metadata": {},
   "source": [
    "## Dictionaries\n",
    "\n",
    "**Dictionaries** are collections of `key:value` pairs. We can use this structure to pair the name of the item with the amount we would like to buy. Let's create a dictionary and see how it works."
   ]
  },
  {
   "cell_type": "code",
   "execution_count": null,
   "id": "0aa80ce4",
   "metadata": {},
   "outputs": [],
   "source": [
    "# Create a dictionary\n",
    "my_dictionary = {'milk': 2, 'eggs': 12, 'apples': 9}"
   ]
  },
  {
   "cell_type": "code",
   "execution_count": null,
   "id": "2a40bbed",
   "metadata": {},
   "outputs": [],
   "source": [
    "# See how many apples we want to buy\n",
    "my_dictionary['apples']"
   ]
  },
  {
   "cell_type": "markdown",
   "id": "f87e133e",
   "metadata": {},
   "source": [
    "We can also use dictionaries to iterate over their keys and values. However, this time we will not use indices."
   ]
  },
  {
   "cell_type": "code",
   "execution_count": null,
   "id": "fa4f5d50",
   "metadata": {},
   "outputs": [],
   "source": [
    "# Iterate over a dictionary\n",
    "for name in my_dictionary:\n",
    "    amount = my_dictionary[name]\n",
    "    print(f\"Buy {amount} {name}\")"
   ]
  },
  {
   "cell_type": "markdown",
   "id": "ee3d2a04",
   "metadata": {},
   "source": [
    "<div class=\"alert alert-block alert-success\">\n",
    "<b>Hands-on:</b> We can use other things as keys in our dictionary. Create a dictionary named \"alphabet\" with key:value pairs of numbers as keys the corresponding alphabet letter as its value (e.g. {1:\"A\"}). Do it for numbers 1 to 5\n",
    "</div>"
   ]
  },
  {
   "cell_type": "code",
   "execution_count": null,
   "id": "dc2af34d",
   "metadata": {},
   "outputs": [],
   "source": [
    "# Create the dictionary\n"
   ]
  },
  {
   "cell_type": "markdown",
   "id": "35946ba1",
   "metadata": {},
   "source": [
    "Now, let's use what we learned to print our grocery list with the quantities of each item."
   ]
  },
  {
   "cell_type": "code",
   "execution_count": null,
   "id": "47408064",
   "metadata": {},
   "outputs": [],
   "source": [
    "# Using a dictionary\n",
    "def groceries(item_dictionary):\n",
    "    print(\"Grocery list:\")\n",
    "    for name in item_dictionary:\n",
    "        amount = item_dictionary[name]\n",
    "        \n",
    "        # Make a message with an f-string\n",
    "        message = f\"Buy {amount} {name}\"\n",
    "        print(message)"
   ]
  },
  {
   "cell_type": "code",
   "execution_count": null,
   "id": "1d2f002a",
   "metadata": {},
   "outputs": [],
   "source": [
    "# Create the dictionary and call the function\n",
    "my_dictionary = {'milk': 2, 'eggs': 12, 'apples': 9}\n",
    "groceries(my_dictionary)"
   ]
  },
  {
   "cell_type": "markdown",
   "id": "bfcfed49",
   "metadata": {},
   "source": [
    "We would also like to include the prices of our items. Fortunately, we can use anything for the values in our dictionary. Instead of a number, we can use a list to store both the amount and price of our items."
   ]
  },
  {
   "cell_type": "code",
   "execution_count": null,
   "id": "c8a45b61",
   "metadata": {},
   "outputs": [],
   "source": [
    "# Dictionary with quantities and prices (amount per unit)\n",
    "my_dictionary = {'milk': [2, 3.5], 'eggs': [12, 0.44], 'apples': [9, 1]}"
   ]
  },
  {
   "cell_type": "markdown",
   "id": "3638ec56",
   "metadata": {},
   "source": [
    "Since these are prices per unit, we will need to do some simple operations. In Python, we can do simple computations as follows"
   ]
  },
  {
   "cell_type": "code",
   "execution_count": null,
   "id": "b99de6f7",
   "metadata": {},
   "outputs": [],
   "source": [
    "# Addition\n",
    "5 + 5"
   ]
  },
  {
   "cell_type": "code",
   "execution_count": null,
   "id": "5fe72f8c",
   "metadata": {},
   "outputs": [],
   "source": [
    "# Multiplication\n",
    "3 * 6"
   ]
  },
  {
   "cell_type": "code",
   "execution_count": null,
   "id": "3d66a185",
   "metadata": {},
   "outputs": [],
   "source": [
    "# Division\n",
    "6 / 4"
   ]
  },
  {
   "cell_type": "code",
   "execution_count": null,
   "id": "58253a6b",
   "metadata": {},
   "outputs": [],
   "source": [
    "# Integer division\n",
    "6 // 4"
   ]
  },
  {
   "cell_type": "code",
   "execution_count": null,
   "id": "6567c615",
   "metadata": {},
   "outputs": [],
   "source": [
    "# Exponentiation\n",
    "2 ** 3"
   ]
  },
  {
   "cell_type": "markdown",
   "id": "29531ed5",
   "metadata": {},
   "source": [
    "<div class=\"alert alert-block alert-success\">\n",
    "<b>Hands-on:</b> \n",
    "<ol>\n",
    "    <li>Compute $3(5 + 3)$ and assign it to a variable called \"result\".</li>\n",
    "    <li>Print your result.</li>\n",
    "</ol>\n",
    "</div>"
   ]
  },
  {
   "cell_type": "code",
   "execution_count": null,
   "id": "a86ee92a",
   "metadata": {},
   "outputs": [],
   "source": [
    "# Compute 3(5 + 3)\n",
    "\n",
    "\n",
    "# Print your result\n",
    "\n"
   ]
  },
  {
   "cell_type": "markdown",
   "id": "3459c214",
   "metadata": {},
   "source": [
    "Let's modify our function to use this new dictionary."
   ]
  },
  {
   "cell_type": "code",
   "execution_count": null,
   "id": "faf17115",
   "metadata": {},
   "outputs": [],
   "source": [
    "# Dictionary with quantities and prices\n",
    "def groceries(item_dictionary):\n",
    "    # Start printing our grocery list\n",
    "    print(\"Grocery list:\")\n",
    "    \n",
    "    for key in item_dictionary:\n",
    "        # Get item's information\n",
    "        item_name = key\n",
    "        value = item_dictionary[key]\n",
    "        item_amount = value[0]\n",
    "        item_price = value[1]\n",
    "        item_total = item_amount * item_price\n",
    "        \n",
    "        # Print item's information\n",
    "        message = f\"{item_amount} {item_name} for {item_total} USD\"\n",
    "        print(message)\n"
   ]
  },
  {
   "cell_type": "code",
   "execution_count": null,
   "id": "995dd900",
   "metadata": {},
   "outputs": [],
   "source": [
    "# Create the dictionary and call the function\n",
    "my_dictionary = {'milk': [2, 3.5], 'eggs': [12, 0.44], 'apples': [9, 1]}\n",
    "groceries(my_dictionary)"
   ]
  },
  {
   "cell_type": "markdown",
   "id": "e5d09cdb",
   "metadata": {},
   "source": [
    "There is one last thing left to add. We want the function to check if our budget is enough to buy everything. To do this we will need to use an if statements."
   ]
  },
  {
   "cell_type": "markdown",
   "id": "dfa5702b",
   "metadata": {},
   "source": [
    "## if Statements\n",
    "\n",
    "An **if statement** allows us to run a piece of code only when a given condition is met. This condition needs to be writen as an expression that evaluates to `True` or `False`. For example, we can use the usual comparison operators:"
   ]
  },
  {
   "cell_type": "code",
   "execution_count": null,
   "id": "001dbe33",
   "metadata": {},
   "outputs": [],
   "source": [
    "# Greater than\n",
    "5 > 3"
   ]
  },
  {
   "cell_type": "code",
   "execution_count": null,
   "id": "2313f10b",
   "metadata": {},
   "outputs": [],
   "source": [
    "# Greater than or equal to\n",
    "5 >= 3"
   ]
  },
  {
   "cell_type": "code",
   "execution_count": null,
   "id": "c4731799",
   "metadata": {},
   "outputs": [],
   "source": [
    "# Less than\n",
    "5 < 3"
   ]
  },
  {
   "cell_type": "code",
   "execution_count": null,
   "id": "3b94e246",
   "metadata": {},
   "outputs": [],
   "source": [
    "# Less than or equal to\n",
    "5 <= 3"
   ]
  },
  {
   "cell_type": "code",
   "execution_count": null,
   "id": "0154e8ec",
   "metadata": {},
   "outputs": [],
   "source": [
    "# Equal\n",
    "\"STRING\" == \"string\""
   ]
  },
  {
   "cell_type": "code",
   "execution_count": null,
   "id": "d22e93e9",
   "metadata": {},
   "outputs": [],
   "source": [
    "# Not equal\n",
    "\"STRING\" != \"string\""
   ]
  },
  {
   "cell_type": "markdown",
   "id": "eeebdb9c",
   "metadata": {},
   "source": [
    "We can use this in an if statement as follows"
   ]
  },
  {
   "cell_type": "code",
   "execution_count": null,
   "id": "41f80908",
   "metadata": {},
   "outputs": [],
   "source": [
    "# Define our total and budget\n",
    "total = 55\n",
    "budget = 50\n",
    "\n",
    "# Compare the budget with our total amount\n",
    "if total <= budget:\n",
    "    print(\"We have enough money.\")"
   ]
  },
  {
   "cell_type": "markdown",
   "id": "a3a6cb3f",
   "metadata": {},
   "source": [
    "<div class=\"alert alert-block alert-success\">\n",
    "    <b>Hands-on:</b> The boolean operator <code>and</code> allows us to check for two conditions to be met. For example, by using \n",
    "    \n",
    "<code>if condition1 and condition2:\n",
    "    code</code>\n",
    "    \n",
    "Create a function named \"between\" that takes a number (n) and prints a message if the number is between 5 and 10. Print the results of using 8 and 15 as arguments to check that it works as intended.\n",
    "</div>"
   ]
  },
  {
   "cell_type": "code",
   "execution_count": null,
   "id": "4b3212c9",
   "metadata": {},
   "outputs": [],
   "source": [
    "# Create the function\n",
    "\n"
   ]
  },
  {
   "cell_type": "code",
   "execution_count": null,
   "id": "209135db",
   "metadata": {},
   "outputs": [],
   "source": [
    "# Call the function\n",
    "\n"
   ]
  },
  {
   "cell_type": "markdown",
   "id": "b6f78a38",
   "metadata": {},
   "source": [
    "Let's add this to our `groceries()` function."
   ]
  },
  {
   "cell_type": "code",
   "execution_count": null,
   "id": "65187cf1",
   "metadata": {},
   "outputs": [],
   "source": [
    "# Dictionary with quantities and prices\n",
    "def groceries(item_dictionary, budget):\n",
    "    # Start our grocery list\n",
    "    final_list = \"Grocery list:\"\n",
    "    \n",
    "    # Iterate over each item\n",
    "    for key in item_dictionary:\n",
    "        # Get item's information\n",
    "        item_name = key\n",
    "        value = item_dictionary[key]\n",
    "        item_amount = value[0]\n",
    "        item_price = value[1]\n",
    "        item_total = item_amount * item_price\n",
    "        \n",
    "        # Check if we can buy it\n",
    "        if item_total <= budget:\n",
    "            # Add it to the grocery list\n",
    "            final_list = final_list + f\"{item_amount} {item_name} for {item_total} USD\"\n",
    "            budget = budget - item_total\n",
    "            \n",
    "    print(final_list)\n"
   ]
  },
  {
   "cell_type": "code",
   "execution_count": null,
   "id": "07d2bff7",
   "metadata": {},
   "outputs": [],
   "source": [
    "# Create the dictionary and call the function\n",
    "my_dictionary = {'milk': [2, 3.5], 'eggs': [12, 0.44], 'apples': [9, 1]}\n",
    "budget = 50\n",
    "groceries(my_dictionary, budget)"
   ]
  },
  {
   "cell_type": "markdown",
   "id": "12d847a9",
   "metadata": {},
   "source": [
    "Our function will now add to our printed grocery list only what we can afford. However, if we wanted to see which items we could not afford we would have to compare our dictionary to the printed grocery list. This may take some time. Instead we could use an **else statement**."
   ]
  },
  {
   "cell_type": "code",
   "execution_count": null,
   "id": "1df0d3a4",
   "metadata": {},
   "outputs": [],
   "source": [
    "# Dictionary with quantities and prices\n",
    "def groceries(item_dictionary, budget):\n",
    "    # Start our grocery list\n",
    "    final_list = \"Grocery list:\\n\"\n",
    "    too_expensive = \"\"\n",
    "    \n",
    "    # Iterate over each item\n",
    "    for key in item_dictionary:\n",
    "        # Get item's information\n",
    "        item_name = key\n",
    "        value = item_dictionary[key]\n",
    "        item_amount = value[0]\n",
    "        item_price = value[1]\n",
    "        item_total = item_amount * item_price\n",
    "        \n",
    "        # Check if we can buy it\n",
    "        if item_total <= budget:\n",
    "            # Add it to the grocery list\n",
    "            final_list = final_list + f\"{item_amount} {item_name} for {item_total} USD\\n\"\n",
    "            budget = budget - item_total\n",
    "            \n",
    "        # We cannot buy it\n",
    "        else:\n",
    "            too_expensive = too_expensive + f\"There's not enough budget for {item_name}.\\n\"\n",
    "            \n",
    "    print(final_list + too_expensive)\n"
   ]
  },
  {
   "cell_type": "code",
   "execution_count": null,
   "id": "89ddd11f",
   "metadata": {},
   "outputs": [],
   "source": [
    "# Create the dictionary and call the function with a budget\n",
    "my_dictionary = {'milk': [2, 3.5], 'eggs': [12, 0.44], 'apples': [9, 1]}\n",
    "budget = 50\n",
    "groceries(my_dictionary, budget)"
   ]
  },
  {
   "cell_type": "markdown",
   "id": "edf90ecf",
   "metadata": {},
   "source": [
    "<div class=\"alert alert-block alert-warning\">\n",
    "<b>Note:</b> The input() function allows us to prompt the user and take their input. The input will be stored as a string (text), so make sure to transform it, if needed, before using it.\n",
    "</div>"
   ]
  },
  {
   "cell_type": "markdown",
   "id": "5379123f",
   "metadata": {},
   "source": [
    "<div class=\"alert alert-block alert-success\">\n",
    "<b>Hands-on:</b> Create a function that takes no arguments, but prompts the user for two numbers (n and m).\n",
    "<ol>\n",
    "    <li>If n is greater than m, print the message \"n is greater than m\" using an f-string to replace the values of n and m.</li>\n",
    "    <li>Do the same for n less than or equal to m.</li>\n",
    "</ol>\n",
    "Call your function using these pairs of inputs:\n",
    "<table>\n",
    "  <tr>\n",
    "    <th>n</th>\n",
    "    <th>m</th>\n",
    "  </tr>\n",
    "  <tr>\n",
    "    <td>1</td>\n",
    "    <td>1</td>\n",
    "  </tr>\n",
    "  <tr>\n",
    "    <td>2</td>\n",
    "    <td>3</td>\n",
    "  </tr>\n",
    "  <tr>\n",
    "    <td>3</td>\n",
    "    <td>6</td>\n",
    "  </tr>\n",
    "  <tr>\n",
    "    <td>10</td>\n",
    "    <td>4</td>\n",
    "  </tr>\n",
    "</table>\n",
    "</div>"
   ]
  },
  {
   "cell_type": "code",
   "execution_count": null,
   "id": "ea68a82e",
   "metadata": {},
   "outputs": [],
   "source": [
    "# Create the function\n",
    "\n"
   ]
  },
  {
   "cell_type": "code",
   "execution_count": null,
   "id": "62bea2a0",
   "metadata": {},
   "outputs": [],
   "source": [
    "# Call the function\n",
    "\n"
   ]
  },
  {
   "cell_type": "markdown",
   "id": "fe6d2358",
   "metadata": {},
   "source": [
    "## What you have learned\n",
    "\n",
    "This workshop covered the basics of:\n",
    "\n",
    "* Functions\n",
    "* Variables\n",
    "* Lists and dictionaries\n",
    "* For loops\n",
    "* Conditional statements"
   ]
  },
  {
   "cell_type": "markdown",
   "id": "5e641968",
   "metadata": {},
   "source": [
    "## Download your notebook\n",
    "\n",
    "![](https://raw.githubusercontent.com/CMC-QCL/python-basics/main/imgs/jhub_download.png)"
   ]
  },
  {
   "cell_type": "markdown",
   "id": "4e2c7fc9",
   "metadata": {},
   "source": [
    "## Digital Badge\n",
    "\n",
    "Send your notebook with the solved hands-on activities to **qcl@cmc.edu**"
   ]
  },
  {
   "cell_type": "markdown",
   "id": "eb749951",
   "metadata": {},
   "source": [
    "## Resources\n",
    "\n",
    "Learn more about Python and its functions:\n",
    "* Real Python tutorials (https://realpython.com/)\n",
    "* Talk Python To Me podcasts (https://talkpython.fm/)\n",
    "* Learn Python for topic based tutorials (https://www.learnpython.org/)\n",
    "\n",
    "Practice what you learned:\n",
    "* Hackerrank challenges (https://www.hackerrank.com/domains/python)\n",
    "* Project Euler math/programming challenges (https://projecteuler.net/)\n",
    "* PyNative exercises with solutions (https://pynative.com/python-exercises-with-solutions/)"
   ]
  }
 ],
 "metadata": {
  "kernelspec": {
   "display_name": "Python 3 (ipykernel)",
   "language": "python",
   "name": "python3"
  },
  "language_info": {
   "codemirror_mode": {
    "name": "ipython",
    "version": 3
   },
   "file_extension": ".py",
   "mimetype": "text/x-python",
   "name": "python",
   "nbconvert_exporter": "python",
   "pygments_lexer": "ipython3",
   "version": "3.10.2"
  }
 },
 "nbformat": 4,
 "nbformat_minor": 5
}

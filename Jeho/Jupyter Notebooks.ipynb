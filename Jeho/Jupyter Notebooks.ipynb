{
 "cells": [
  {
   "cell_type": "markdown",
   "id": "a9df37fe",
   "metadata": {},
   "source": [
    "# Guide to Jupyter Notebooks\n",
    "\n",
    "Jupyter Notebooks are widely used to develop and present data science projects. The name Jupyter is a reference to the three core programming languages: Julia, Python and R. Jupyter Notebooks allows us to run interactive sessions in these languages with support for Markdown for text cells.\n",
    "\n",
    "There are 2 modes: command mode (blue) and edit mode (green). To enter command mode, press `Esc`. To enter edit mode, select a cell and press `Enter`. \n",
    "\n",
    "In command mode\n",
    "\n",
    "- `A` to insert a cell above\n",
    "- `B` to insert a cell below\n",
    "- `DD` delete the selected cell\n",
    "- `M` to change the cell type to Markdown\n",
    "- `Y` to change the cell type to Code\n",
    "\n",
    "To run the selected cells, press `Ctrl + Enter` on Windows or `⌘ + Enter` on Mac.\n",
    "\n",
    "A Code cell will evaluate Python code and show the result."
   ]
  },
  {
   "cell_type": "code",
   "execution_count": 1,
   "id": "ab7b9ff0",
   "metadata": {},
   "outputs": [
    {
     "data": {
      "text/plain": [
       "10"
      ]
     },
     "execution_count": 1,
     "metadata": {},
     "output_type": "execute_result"
    }
   ],
   "source": [
    "# This is Python code\n",
    "5 + 5"
   ]
  }
 ],
 "metadata": {
  "kernelspec": {
   "display_name": "Python 3 (ipykernel)",
   "language": "python",
   "name": "python3"
  },
  "language_info": {
   "codemirror_mode": {
    "name": "ipython",
    "version": 3
   },
   "file_extension": ".py",
   "mimetype": "text/x-python",
   "name": "python",
   "nbconvert_exporter": "python",
   "pygments_lexer": "ipython3",
   "version": "3.11.3"
  }
 },
 "nbformat": 4,
 "nbformat_minor": 5
}
